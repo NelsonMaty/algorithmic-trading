{
 "cells": [
  {
   "cell_type": "markdown",
   "id": "530f2627",
   "metadata": {},
   "source": [
    "# Aprendizaje Supervisado: Algoritmos de Clasificación"
   ]
  },
  {
   "cell_type": "markdown",
   "id": "1e25fbf5",
   "metadata": {},
   "source": [
    "<img src=\"imagenes/ia_clas0.png\" width=750>"
   ]
  },
  {
   "cell_type": "markdown",
   "id": "3a60fe2f",
   "metadata": {},
   "source": [
    "<img src=\"imagenes/ia.jfif\" width=600>"
   ]
  },
  {
   "cell_type": "markdown",
   "id": "e1cf7f81",
   "metadata": {},
   "source": [
    "Tipos de algoritmos para resolver una clasificación:\n",
    "    \n",
    "    * Arboles de decisión\n",
    "    * Máquinas de vectores de soporte\n",
    "    * Naive Bayes\n",
    "    * Regresión Logística\n",
    "    * Bosques Aleatorios"
   ]
  },
  {
   "cell_type": "markdown",
   "id": "a6618fe5",
   "metadata": {},
   "source": [
    "# Arboles de decisión"
   ]
  },
  {
   "cell_type": "markdown",
   "id": "6cfaf0f6",
   "metadata": {},
   "source": [
    "<img src='imagenes/gashe.png'>"
   ]
  },
  {
   "cell_type": "markdown",
   "id": "a9e17cc4",
   "metadata": {},
   "source": [
    "## Preparamos los datos: GGAL +6 predictores"
   ]
  },
  {
   "cell_type": "code",
   "execution_count": 1,
   "id": "807e2f81",
   "metadata": {},
   "outputs": [
    {
     "name": "stdout",
     "output_type": "stream",
     "text": [
      "[*********************100%***********************]  1 of 1 completed\n"
     ]
    },
    {
     "data": {
      "text/html": [
       "<div>\n",
       "<style scoped>\n",
       "    .dataframe tbody tr th:only-of-type {\n",
       "        vertical-align: middle;\n",
       "    }\n",
       "\n",
       "    .dataframe tbody tr th {\n",
       "        vertical-align: top;\n",
       "    }\n",
       "\n",
       "    .dataframe thead th {\n",
       "        text-align: right;\n",
       "    }\n",
       "</style>\n",
       "<table border=\"1\" class=\"dataframe\">\n",
       "  <thead>\n",
       "    <tr style=\"text-align: right;\">\n",
       "      <th></th>\n",
       "      <th>Open</th>\n",
       "      <th>High</th>\n",
       "      <th>Low</th>\n",
       "      <th>Close</th>\n",
       "      <th>Adj Close</th>\n",
       "      <th>Volume</th>\n",
       "      <th>pctChange</th>\n",
       "      <th>fw</th>\n",
       "      <th>rsi</th>\n",
       "      <th>roll_vol</th>\n",
       "      <th>ema_vol</th>\n",
       "      <th>cruce_1</th>\n",
       "      <th>cruce_2</th>\n",
       "      <th>cruce_3</th>\n",
       "    </tr>\n",
       "    <tr>\n",
       "      <th>Date</th>\n",
       "      <th></th>\n",
       "      <th></th>\n",
       "      <th></th>\n",
       "      <th></th>\n",
       "      <th></th>\n",
       "      <th></th>\n",
       "      <th></th>\n",
       "      <th></th>\n",
       "      <th></th>\n",
       "      <th></th>\n",
       "      <th></th>\n",
       "      <th></th>\n",
       "      <th></th>\n",
       "      <th></th>\n",
       "    </tr>\n",
       "  </thead>\n",
       "  <tbody>\n",
       "    <tr>\n",
       "      <th>2000-07-25</th>\n",
       "      <td>17.484375</td>\n",
       "      <td>17.7500</td>\n",
       "      <td>16.7500</td>\n",
       "      <td>17.5000</td>\n",
       "      <td>16.033369</td>\n",
       "      <td>126200</td>\n",
       "      <td>NaN</td>\n",
       "      <td>-0.185714</td>\n",
       "      <td>NaN</td>\n",
       "      <td>NaN</td>\n",
       "      <td>NaN</td>\n",
       "      <td>NaN</td>\n",
       "      <td>NaN</td>\n",
       "      <td>NaN</td>\n",
       "    </tr>\n",
       "    <tr>\n",
       "      <th>2000-07-26</th>\n",
       "      <td>17.250000</td>\n",
       "      <td>17.5625</td>\n",
       "      <td>17.1875</td>\n",
       "      <td>17.5000</td>\n",
       "      <td>16.033369</td>\n",
       "      <td>28900</td>\n",
       "      <td>0.000000</td>\n",
       "      <td>-0.192857</td>\n",
       "      <td>NaN</td>\n",
       "      <td>NaN</td>\n",
       "      <td>NaN</td>\n",
       "      <td>NaN</td>\n",
       "      <td>NaN</td>\n",
       "      <td>NaN</td>\n",
       "    </tr>\n",
       "    <tr>\n",
       "      <th>2000-07-27</th>\n",
       "      <td>17.500000</td>\n",
       "      <td>17.6250</td>\n",
       "      <td>17.3750</td>\n",
       "      <td>17.5000</td>\n",
       "      <td>16.033369</td>\n",
       "      <td>61200</td>\n",
       "      <td>0.000000</td>\n",
       "      <td>-0.160714</td>\n",
       "      <td>NaN</td>\n",
       "      <td>NaN</td>\n",
       "      <td>0.000000</td>\n",
       "      <td>NaN</td>\n",
       "      <td>NaN</td>\n",
       "      <td>NaN</td>\n",
       "    </tr>\n",
       "    <tr>\n",
       "      <th>2000-07-28</th>\n",
       "      <td>17.562500</td>\n",
       "      <td>17.5625</td>\n",
       "      <td>17.1250</td>\n",
       "      <td>17.3750</td>\n",
       "      <td>15.918845</td>\n",
       "      <td>146100</td>\n",
       "      <td>-0.007143</td>\n",
       "      <td>-0.151079</td>\n",
       "      <td>0.000000</td>\n",
       "      <td>NaN</td>\n",
       "      <td>0.071547</td>\n",
       "      <td>NaN</td>\n",
       "      <td>NaN</td>\n",
       "      <td>NaN</td>\n",
       "    </tr>\n",
       "    <tr>\n",
       "      <th>2000-07-31</th>\n",
       "      <td>17.500000</td>\n",
       "      <td>17.6875</td>\n",
       "      <td>16.8750</td>\n",
       "      <td>17.6875</td>\n",
       "      <td>16.205154</td>\n",
       "      <td>178400</td>\n",
       "      <td>0.017986</td>\n",
       "      <td>-0.180212</td>\n",
       "      <td>0.729166</td>\n",
       "      <td>NaN</td>\n",
       "      <td>0.186460</td>\n",
       "      <td>NaN</td>\n",
       "      <td>NaN</td>\n",
       "      <td>NaN</td>\n",
       "    </tr>\n",
       "    <tr>\n",
       "      <th>...</th>\n",
       "      <td>...</td>\n",
       "      <td>...</td>\n",
       "      <td>...</td>\n",
       "      <td>...</td>\n",
       "      <td>...</td>\n",
       "      <td>...</td>\n",
       "      <td>...</td>\n",
       "      <td>...</td>\n",
       "      <td>...</td>\n",
       "      <td>...</td>\n",
       "      <td>...</td>\n",
       "      <td>...</td>\n",
       "      <td>...</td>\n",
       "      <td>...</td>\n",
       "    </tr>\n",
       "    <tr>\n",
       "      <th>2021-06-17</th>\n",
       "      <td>10.160000</td>\n",
       "      <td>10.3300</td>\n",
       "      <td>9.8900</td>\n",
       "      <td>9.9100</td>\n",
       "      <td>9.910000</td>\n",
       "      <td>573300</td>\n",
       "      <td>-0.030333</td>\n",
       "      <td>NaN</td>\n",
       "      <td>0.613881</td>\n",
       "      <td>0.194531</td>\n",
       "      <td>0.671824</td>\n",
       "      <td>-0.157884</td>\n",
       "      <td>-0.033126</td>\n",
       "      <td>-0.319885</td>\n",
       "    </tr>\n",
       "    <tr>\n",
       "      <th>2021-06-18</th>\n",
       "      <td>9.850000</td>\n",
       "      <td>9.8700</td>\n",
       "      <td>9.5300</td>\n",
       "      <td>9.6700</td>\n",
       "      <td>9.670000</td>\n",
       "      <td>1276800</td>\n",
       "      <td>-0.024218</td>\n",
       "      <td>NaN</td>\n",
       "      <td>0.569526</td>\n",
       "      <td>0.193724</td>\n",
       "      <td>0.670559</td>\n",
       "      <td>-0.154222</td>\n",
       "      <td>-0.024858</td>\n",
       "      <td>-0.314266</td>\n",
       "    </tr>\n",
       "    <tr>\n",
       "      <th>2021-06-21</th>\n",
       "      <td>9.770000</td>\n",
       "      <td>9.7700</td>\n",
       "      <td>9.4500</td>\n",
       "      <td>9.4500</td>\n",
       "      <td>9.450000</td>\n",
       "      <td>362000</td>\n",
       "      <td>-0.022751</td>\n",
       "      <td>NaN</td>\n",
       "      <td>0.531607</td>\n",
       "      <td>0.195323</td>\n",
       "      <td>0.669181</td>\n",
       "      <td>-0.150916</td>\n",
       "      <td>-0.017929</td>\n",
       "      <td>-0.308843</td>\n",
       "    </tr>\n",
       "    <tr>\n",
       "      <th>2021-06-22</th>\n",
       "      <td>9.500000</td>\n",
       "      <td>9.9200</td>\n",
       "      <td>9.3200</td>\n",
       "      <td>9.7400</td>\n",
       "      <td>9.740000</td>\n",
       "      <td>731100</td>\n",
       "      <td>0.030688</td>\n",
       "      <td>NaN</td>\n",
       "      <td>0.572054</td>\n",
       "      <td>0.197116</td>\n",
       "      <td>0.668261</td>\n",
       "      <td>-0.147227</td>\n",
       "      <td>-0.010568</td>\n",
       "      <td>-0.303827</td>\n",
       "    </tr>\n",
       "    <tr>\n",
       "      <th>2021-06-23</th>\n",
       "      <td>9.820000</td>\n",
       "      <td>10.0300</td>\n",
       "      <td>9.5800</td>\n",
       "      <td>9.5800</td>\n",
       "      <td>9.580000</td>\n",
       "      <td>596300</td>\n",
       "      <td>-0.016427</td>\n",
       "      <td>NaN</td>\n",
       "      <td>0.544136</td>\n",
       "      <td>0.197847</td>\n",
       "      <td>0.666503</td>\n",
       "      <td>-0.143386</td>\n",
       "      <td>-0.002873</td>\n",
       "      <td>-0.298933</td>\n",
       "    </tr>\n",
       "  </tbody>\n",
       "</table>\n",
       "<p>5262 rows × 14 columns</p>\n",
       "</div>"
      ],
      "text/plain": [
       "                 Open     High      Low    Close  Adj Close   Volume  \\\n",
       "Date                                                                   \n",
       "2000-07-25  17.484375  17.7500  16.7500  17.5000  16.033369   126200   \n",
       "2000-07-26  17.250000  17.5625  17.1875  17.5000  16.033369    28900   \n",
       "2000-07-27  17.500000  17.6250  17.3750  17.5000  16.033369    61200   \n",
       "2000-07-28  17.562500  17.5625  17.1250  17.3750  15.918845   146100   \n",
       "2000-07-31  17.500000  17.6875  16.8750  17.6875  16.205154   178400   \n",
       "...               ...      ...      ...      ...        ...      ...   \n",
       "2021-06-17  10.160000  10.3300   9.8900   9.9100   9.910000   573300   \n",
       "2021-06-18   9.850000   9.8700   9.5300   9.6700   9.670000  1276800   \n",
       "2021-06-21   9.770000   9.7700   9.4500   9.4500   9.450000   362000   \n",
       "2021-06-22   9.500000   9.9200   9.3200   9.7400   9.740000   731100   \n",
       "2021-06-23   9.820000  10.0300   9.5800   9.5800   9.580000   596300   \n",
       "\n",
       "            pctChange        fw       rsi  roll_vol   ema_vol   cruce_1  \\\n",
       "Date                                                                      \n",
       "2000-07-25        NaN -0.185714       NaN       NaN       NaN       NaN   \n",
       "2000-07-26   0.000000 -0.192857       NaN       NaN       NaN       NaN   \n",
       "2000-07-27   0.000000 -0.160714       NaN       NaN  0.000000       NaN   \n",
       "2000-07-28  -0.007143 -0.151079  0.000000       NaN  0.071547       NaN   \n",
       "2000-07-31   0.017986 -0.180212  0.729166       NaN  0.186460       NaN   \n",
       "...               ...       ...       ...       ...       ...       ...   \n",
       "2021-06-17  -0.030333       NaN  0.613881  0.194531  0.671824 -0.157884   \n",
       "2021-06-18  -0.024218       NaN  0.569526  0.193724  0.670559 -0.154222   \n",
       "2021-06-21  -0.022751       NaN  0.531607  0.195323  0.669181 -0.150916   \n",
       "2021-06-22   0.030688       NaN  0.572054  0.197116  0.668261 -0.147227   \n",
       "2021-06-23  -0.016427       NaN  0.544136  0.197847  0.666503 -0.143386   \n",
       "\n",
       "             cruce_2   cruce_3  \n",
       "Date                            \n",
       "2000-07-25       NaN       NaN  \n",
       "2000-07-26       NaN       NaN  \n",
       "2000-07-27       NaN       NaN  \n",
       "2000-07-28       NaN       NaN  \n",
       "2000-07-31       NaN       NaN  \n",
       "...              ...       ...  \n",
       "2021-06-17 -0.033126 -0.319885  \n",
       "2021-06-18 -0.024858 -0.314266  \n",
       "2021-06-21 -0.017929 -0.308843  \n",
       "2021-06-22 -0.010568 -0.303827  \n",
       "2021-06-23 -0.002873 -0.298933  \n",
       "\n",
       "[5262 rows x 14 columns]"
      ]
     },
     "execution_count": 1,
     "metadata": {},
     "output_type": "execute_result"
    }
   ],
   "source": [
    "import yfinance as yf, numpy as np, pandas as pd\n",
    "\n",
    "medias = ((63, 422), (38, 350), (72, 506))\n",
    "ventana = 100\n",
    "\n",
    "data = yf.download('GGAL', start='2000-01-01')\n",
    "\n",
    "dif = data['Adj Close'].diff()\n",
    "win = pd.DataFrame(np.where(dif > 0, dif, 0))\n",
    "loss = pd.DataFrame(np.where(dif < 0, abs(dif), 0))\n",
    "ema_win = win.ewm(alpha=1/14).mean()\n",
    "ema_loss = loss.ewm(alpha=1/14).mean()\n",
    "rs = ema_win / ema_loss\n",
    "rsi = 100 - (100 / (1 + rs))\n",
    "rsi.index = data.index\n",
    "\n",
    "data['pctChange'] = data['Adj Close'].pct_change()\n",
    "data['fw'] = data['Adj Close'].shift(-ventana)/data['Adj Close']-1\n",
    "data['rsi'] = rsi/100\n",
    "data['roll_vol'] = data['pctChange'].rolling(60).std() * 60**0.5\n",
    "data['ema_vol'] = data['pctChange'].ewm(span=300).std() * 300**0.5\n",
    "data['cruce_1'] = data['Adj Close'].rolling(medias[0][0]).mean()/data['Adj Close'].rolling(medias[0][1]).mean()-1\n",
    "data['cruce_2'] = data['Adj Close'].rolling(medias[1][0]).mean()/data['Adj Close'].rolling(medias[1][1]).mean()-1\n",
    "data['cruce_3'] = data['Adj Close'].rolling(medias[2][0]).mean()/data['Adj Close'].rolling(medias[2][1]).mean()-1\n",
    "data"
   ]
  },
  {
   "cell_type": "markdown",
   "id": "ef342dca",
   "metadata": {},
   "source": [
    "## Definimos lo que vamos a querer predecir"
   ]
  },
  {
   "cell_type": "code",
   "execution_count": 2,
   "id": "10cac921",
   "metadata": {},
   "outputs": [
    {
     "data": {
      "text/html": [
       "<div>\n",
       "<style scoped>\n",
       "    .dataframe tbody tr th:only-of-type {\n",
       "        vertical-align: middle;\n",
       "    }\n",
       "\n",
       "    .dataframe tbody tr th {\n",
       "        vertical-align: top;\n",
       "    }\n",
       "\n",
       "    .dataframe thead th {\n",
       "        text-align: right;\n",
       "    }\n",
       "</style>\n",
       "<table border=\"1\" class=\"dataframe\">\n",
       "  <thead>\n",
       "    <tr style=\"text-align: right;\">\n",
       "      <th></th>\n",
       "      <th>rsi</th>\n",
       "      <th>roll_vol</th>\n",
       "      <th>ema_vol</th>\n",
       "      <th>cruce_1</th>\n",
       "      <th>cruce_2</th>\n",
       "      <th>cruce_3</th>\n",
       "    </tr>\n",
       "    <tr>\n",
       "      <th>Date</th>\n",
       "      <th></th>\n",
       "      <th></th>\n",
       "      <th></th>\n",
       "      <th></th>\n",
       "      <th></th>\n",
       "      <th></th>\n",
       "    </tr>\n",
       "  </thead>\n",
       "  <tbody>\n",
       "    <tr>\n",
       "      <th>2002-08-01</th>\n",
       "      <td>0.5164</td>\n",
       "      <td>1.2248</td>\n",
       "      <td>2.0035</td>\n",
       "      <td>-0.9164</td>\n",
       "      <td>-0.9198</td>\n",
       "      <td>-0.9182</td>\n",
       "    </tr>\n",
       "    <tr>\n",
       "      <th>2002-08-02</th>\n",
       "      <td>0.5164</td>\n",
       "      <td>1.2248</td>\n",
       "      <td>1.9966</td>\n",
       "      <td>-0.9173</td>\n",
       "      <td>-0.9188</td>\n",
       "      <td>-0.9191</td>\n",
       "    </tr>\n",
       "    <tr>\n",
       "      <th>2002-08-05</th>\n",
       "      <td>0.5064</td>\n",
       "      <td>1.2245</td>\n",
       "      <td>1.9898</td>\n",
       "      <td>-0.9183</td>\n",
       "      <td>-0.9177</td>\n",
       "      <td>-0.9198</td>\n",
       "    </tr>\n",
       "    <tr>\n",
       "      <th>2002-08-06</th>\n",
       "      <td>0.4863</td>\n",
       "      <td>1.2221</td>\n",
       "      <td>1.9834</td>\n",
       "      <td>-0.9193</td>\n",
       "      <td>-0.9163</td>\n",
       "      <td>-0.9204</td>\n",
       "    </tr>\n",
       "    <tr>\n",
       "      <th>2002-08-07</th>\n",
       "      <td>0.4863</td>\n",
       "      <td>1.2220</td>\n",
       "      <td>1.9766</td>\n",
       "      <td>-0.9202</td>\n",
       "      <td>-0.9148</td>\n",
       "      <td>-0.9211</td>\n",
       "    </tr>\n",
       "    <tr>\n",
       "      <th>...</th>\n",
       "      <td>...</td>\n",
       "      <td>...</td>\n",
       "      <td>...</td>\n",
       "      <td>...</td>\n",
       "      <td>...</td>\n",
       "      <td>...</td>\n",
       "    </tr>\n",
       "    <tr>\n",
       "      <th>2021-01-25</th>\n",
       "      <td>0.3321</td>\n",
       "      <td>0.2785</td>\n",
       "      <td>0.8163</td>\n",
       "      <td>-0.3940</td>\n",
       "      <td>-0.1832</td>\n",
       "      <td>-0.4948</td>\n",
       "    </tr>\n",
       "    <tr>\n",
       "      <th>2021-01-26</th>\n",
       "      <td>0.4304</td>\n",
       "      <td>0.2800</td>\n",
       "      <td>0.8173</td>\n",
       "      <td>-0.3908</td>\n",
       "      <td>-0.1845</td>\n",
       "      <td>-0.4925</td>\n",
       "    </tr>\n",
       "    <tr>\n",
       "      <th>2021-01-27</th>\n",
       "      <td>0.4188</td>\n",
       "      <td>0.2790</td>\n",
       "      <td>0.8147</td>\n",
       "      <td>-0.3876</td>\n",
       "      <td>-0.1865</td>\n",
       "      <td>-0.4901</td>\n",
       "    </tr>\n",
       "    <tr>\n",
       "      <th>2021-01-28</th>\n",
       "      <td>0.4283</td>\n",
       "      <td>0.2787</td>\n",
       "      <td>0.8120</td>\n",
       "      <td>-0.3840</td>\n",
       "      <td>-0.1891</td>\n",
       "      <td>-0.4875</td>\n",
       "    </tr>\n",
       "    <tr>\n",
       "      <th>2021-01-29</th>\n",
       "      <td>0.3798</td>\n",
       "      <td>0.2608</td>\n",
       "      <td>0.8110</td>\n",
       "      <td>-0.3805</td>\n",
       "      <td>-0.1920</td>\n",
       "      <td>-0.4850</td>\n",
       "    </tr>\n",
       "  </tbody>\n",
       "</table>\n",
       "<p>4657 rows × 6 columns</p>\n",
       "</div>"
      ],
      "text/plain": [
       "               rsi  roll_vol  ema_vol  cruce_1  cruce_2  cruce_3\n",
       "Date                                                            \n",
       "2002-08-01  0.5164    1.2248   2.0035  -0.9164  -0.9198  -0.9182\n",
       "2002-08-02  0.5164    1.2248   1.9966  -0.9173  -0.9188  -0.9191\n",
       "2002-08-05  0.5064    1.2245   1.9898  -0.9183  -0.9177  -0.9198\n",
       "2002-08-06  0.4863    1.2221   1.9834  -0.9193  -0.9163  -0.9204\n",
       "2002-08-07  0.4863    1.2220   1.9766  -0.9202  -0.9148  -0.9211\n",
       "...            ...       ...      ...      ...      ...      ...\n",
       "2021-01-25  0.3321    0.2785   0.8163  -0.3940  -0.1832  -0.4948\n",
       "2021-01-26  0.4304    0.2800   0.8173  -0.3908  -0.1845  -0.4925\n",
       "2021-01-27  0.4188    0.2790   0.8147  -0.3876  -0.1865  -0.4901\n",
       "2021-01-28  0.4283    0.2787   0.8120  -0.3840  -0.1891  -0.4875\n",
       "2021-01-29  0.3798    0.2608   0.8110  -0.3805  -0.1920  -0.4850\n",
       "\n",
       "[4657 rows x 6 columns]"
      ]
     },
     "execution_count": 2,
     "metadata": {},
     "output_type": "execute_result"
    }
   ],
   "source": [
    "\n",
    "data['target'] = 0\n",
    "data.loc[data.fw >= 0 , 'target'] = 1\n",
    "\n",
    "data_full = data.copy() # Esto nos va a servir despues cuando necesitemos los de hoy (sin etiquetas aun)\n",
    "data = data.round(4).dropna()\n",
    "\n",
    "y = list(data['target'])\n",
    "X = data.iloc[:,-7:-1]\n",
    "\n",
    "X"
   ]
  },
  {
   "cell_type": "code",
   "execution_count": 2,
   "id": "8f270efe",
   "metadata": {},
   "outputs": [
    {
     "data": {
      "text/plain": [
       "(2624, 4657)"
      ]
     },
     "execution_count": 2,
     "metadata": {},
     "output_type": "execute_result"
    }
   ],
   "source": [
    "sum(y), len(y)   # fw positivo, totales"
   ]
  },
  {
   "cell_type": "markdown",
   "id": "080529f5",
   "metadata": {},
   "source": [
    "## Separamos datos de entrenamiento de validación"
   ]
  },
  {
   "cell_type": "code",
   "execution_count": 3,
   "id": "f003a0d2",
   "metadata": {},
   "outputs": [
    {
     "data": {
      "text/plain": [
       "(4657, 4657)"
      ]
     },
     "execution_count": 3,
     "metadata": {},
     "output_type": "execute_result"
    }
   ],
   "source": [
    "len(X), len(y)"
   ]
  },
  {
   "cell_type": "code",
   "execution_count": 4,
   "id": "103fe97c",
   "metadata": {},
   "outputs": [],
   "source": [
    "from sklearn.model_selection import train_test_split\n",
    "\n",
    "# Entrenamos con el 60% de los datos al modelo\n",
    "X_train, X_test, y_train, y_test = train_test_split(X, y, test_size=0.4)"
   ]
  },
  {
   "cell_type": "code",
   "execution_count": 5,
   "id": "409778be",
   "metadata": {},
   "outputs": [
    {
     "data": {
      "text/plain": [
       "2794"
      ]
     },
     "execution_count": 5,
     "metadata": {},
     "output_type": "execute_result"
    }
   ],
   "source": [
    "len(X_train)"
   ]
  },
  {
   "cell_type": "code",
   "execution_count": 6,
   "id": "4d6b1b3e",
   "metadata": {},
   "outputs": [
    {
     "data": {
      "text/plain": [
       "1863"
      ]
     },
     "execution_count": 6,
     "metadata": {},
     "output_type": "execute_result"
    }
   ],
   "source": [
    "len(X_test)"
   ]
  },
  {
   "cell_type": "code",
   "execution_count": 7,
   "id": "e268e3dc",
   "metadata": {},
   "outputs": [
    {
     "data": {
      "text/html": [
       "<div>\n",
       "<style scoped>\n",
       "    .dataframe tbody tr th:only-of-type {\n",
       "        vertical-align: middle;\n",
       "    }\n",
       "\n",
       "    .dataframe tbody tr th {\n",
       "        vertical-align: top;\n",
       "    }\n",
       "\n",
       "    .dataframe thead th {\n",
       "        text-align: right;\n",
       "    }\n",
       "</style>\n",
       "<table border=\"1\" class=\"dataframe\">\n",
       "  <thead>\n",
       "    <tr style=\"text-align: right;\">\n",
       "      <th></th>\n",
       "      <th>rsi</th>\n",
       "      <th>roll_vol</th>\n",
       "      <th>ema_vol</th>\n",
       "      <th>cruce_1</th>\n",
       "      <th>cruce_2</th>\n",
       "      <th>cruce_3</th>\n",
       "    </tr>\n",
       "    <tr>\n",
       "      <th>Date</th>\n",
       "      <th></th>\n",
       "      <th></th>\n",
       "      <th></th>\n",
       "      <th></th>\n",
       "      <th></th>\n",
       "      <th></th>\n",
       "    </tr>\n",
       "  </thead>\n",
       "  <tbody>\n",
       "    <tr>\n",
       "      <th>2014-01-31</th>\n",
       "      <td>0.3090</td>\n",
       "      <td>0.2990</td>\n",
       "      <td>0.5641</td>\n",
       "      <td>0.5531</td>\n",
       "      <td>0.4259</td>\n",
       "      <td>0.5740</td>\n",
       "    </tr>\n",
       "    <tr>\n",
       "      <th>2015-12-23</th>\n",
       "      <td>0.5623</td>\n",
       "      <td>0.2704</td>\n",
       "      <td>0.5304</td>\n",
       "      <td>0.2880</td>\n",
       "      <td>0.3398</td>\n",
       "      <td>0.3539</td>\n",
       "    </tr>\n",
       "    <tr>\n",
       "      <th>2007-11-21</th>\n",
       "      <td>0.4574</td>\n",
       "      <td>0.1493</td>\n",
       "      <td>0.3802</td>\n",
       "      <td>-0.0370</td>\n",
       "      <td>-0.0685</td>\n",
       "      <td>-0.0197</td>\n",
       "    </tr>\n",
       "    <tr>\n",
       "      <th>2019-10-30</th>\n",
       "      <td>0.3662</td>\n",
       "      <td>0.6771</td>\n",
       "      <td>0.9746</td>\n",
       "      <td>-0.5252</td>\n",
       "      <td>-0.5352</td>\n",
       "      <td>-0.5183</td>\n",
       "    </tr>\n",
       "    <tr>\n",
       "      <th>2013-05-13</th>\n",
       "      <td>0.4908</td>\n",
       "      <td>0.2171</td>\n",
       "      <td>0.5343</td>\n",
       "      <td>-0.0857</td>\n",
       "      <td>-0.0295</td>\n",
       "      <td>-0.2141</td>\n",
       "    </tr>\n",
       "    <tr>\n",
       "      <th>2012-01-31</th>\n",
       "      <td>0.5597</td>\n",
       "      <td>0.2678</td>\n",
       "      <td>0.5682</td>\n",
       "      <td>-0.3468</td>\n",
       "      <td>-0.4112</td>\n",
       "      <td>-0.2596</td>\n",
       "    </tr>\n",
       "    <tr>\n",
       "      <th>2004-01-26</th>\n",
       "      <td>0.5834</td>\n",
       "      <td>0.2672</td>\n",
       "      <td>1.2247</td>\n",
       "      <td>1.1573</td>\n",
       "      <td>0.9675</td>\n",
       "      <td>1.3124</td>\n",
       "    </tr>\n",
       "    <tr>\n",
       "      <th>2005-10-28</th>\n",
       "      <td>0.3754</td>\n",
       "      <td>0.1381</td>\n",
       "      <td>0.4756</td>\n",
       "      <td>0.1084</td>\n",
       "      <td>0.0900</td>\n",
       "      <td>0.1307</td>\n",
       "    </tr>\n",
       "    <tr>\n",
       "      <th>2017-02-15</th>\n",
       "      <td>0.6872</td>\n",
       "      <td>0.1680</td>\n",
       "      <td>0.3862</td>\n",
       "      <td>0.0995</td>\n",
       "      <td>0.0986</td>\n",
       "      <td>0.1313</td>\n",
       "    </tr>\n",
       "    <tr>\n",
       "      <th>2013-09-12</th>\n",
       "      <td>0.7146</td>\n",
       "      <td>0.2049</td>\n",
       "      <td>0.4946</td>\n",
       "      <td>0.0434</td>\n",
       "      <td>0.1718</td>\n",
       "      <td>-0.0247</td>\n",
       "    </tr>\n",
       "  </tbody>\n",
       "</table>\n",
       "</div>"
      ],
      "text/plain": [
       "               rsi  roll_vol  ema_vol  cruce_1  cruce_2  cruce_3\n",
       "Date                                                            \n",
       "2014-01-31  0.3090    0.2990   0.5641   0.5531   0.4259   0.5740\n",
       "2015-12-23  0.5623    0.2704   0.5304   0.2880   0.3398   0.3539\n",
       "2007-11-21  0.4574    0.1493   0.3802  -0.0370  -0.0685  -0.0197\n",
       "2019-10-30  0.3662    0.6771   0.9746  -0.5252  -0.5352  -0.5183\n",
       "2013-05-13  0.4908    0.2171   0.5343  -0.0857  -0.0295  -0.2141\n",
       "2012-01-31  0.5597    0.2678   0.5682  -0.3468  -0.4112  -0.2596\n",
       "2004-01-26  0.5834    0.2672   1.2247   1.1573   0.9675   1.3124\n",
       "2005-10-28  0.3754    0.1381   0.4756   0.1084   0.0900   0.1307\n",
       "2017-02-15  0.6872    0.1680   0.3862   0.0995   0.0986   0.1313\n",
       "2013-09-12  0.7146    0.2049   0.4946   0.0434   0.1718  -0.0247"
      ]
     },
     "execution_count": 7,
     "metadata": {},
     "output_type": "execute_result"
    }
   ],
   "source": [
    "X_train[:10]"
   ]
  },
  {
   "cell_type": "markdown",
   "id": "0b974945",
   "metadata": {},
   "source": [
    "## Importamos el modelo"
   ]
  },
  {
   "cell_type": "code",
   "execution_count": 8,
   "id": "6e9984cd",
   "metadata": {},
   "outputs": [],
   "source": [
    "from sklearn.tree import DecisionTreeClassifier\n",
    "modelo = DecisionTreeClassifier(criterion = 'entropy', max_depth=6) # por default es gini, otros entropy"
   ]
  },
  {
   "cell_type": "markdown",
   "id": "31f36259",
   "metadata": {},
   "source": [
    "Parámetros importantes:\n",
    "    \n",
    "* criterion: entropy/gini\n",
    "* <b>max_depth</b>: Cantidad de subnodos desde cada hilo ppal (profundidad)\n",
    "* random_state"
   ]
  },
  {
   "cell_type": "markdown",
   "id": "c7ed5329",
   "metadata": {},
   "source": [
    "$$ {\\text{Ganancia de información, Entropia}}(S)= \\large - \\sum _{i=1}^{n}p_{i}\\log _{2}p_{i} $$"
   ]
  },
  {
   "cell_type": "markdown",
   "id": "69f6cdb9",
   "metadata": {},
   "source": [
    "$$ {\\text{Impureza de Gini} \\hspace{0.5cm}  \\large I_{G}(p)=\\sum _{i=1}^{m}p_{i}(1-p_{i})=\\sum _{i=1}^{m}(p_{i}-{p_{i}}^{2})=1-\\sum _{i=1}^{m}{p_{i}}^{2}} $$"
   ]
  },
  {
   "cell_type": "markdown",
   "id": "b312dbc5",
   "metadata": {},
   "source": [
    "Ver Shannon y Weaber formulacion matematica de la teoría de la información"
   ]
  },
  {
   "cell_type": "markdown",
   "id": "f060ae95",
   "metadata": {},
   "source": [
    "## Entrenamiento"
   ]
  },
  {
   "cell_type": "code",
   "execution_count": 9,
   "id": "0b0a98ad",
   "metadata": {},
   "outputs": [
    {
     "data": {
      "text/plain": [
       "DecisionTreeClassifier(criterion='entropy', max_depth=6)"
      ]
     },
     "execution_count": 9,
     "metadata": {},
     "output_type": "execute_result"
    }
   ],
   "source": [
    "modelo.fit(X_train, y_train)"
   ]
  },
  {
   "cell_type": "markdown",
   "id": "29d9dab0",
   "metadata": {},
   "source": [
    "## Corremos el modelo"
   ]
  },
  {
   "cell_type": "code",
   "execution_count": 10,
   "id": "7be71bb0",
   "metadata": {},
   "outputs": [
    {
     "data": {
      "text/plain": [
       "array([0, 1, 1, ..., 1, 1, 1])"
      ]
     },
     "execution_count": 10,
     "metadata": {},
     "output_type": "execute_result"
    }
   ],
   "source": [
    "y_pred = modelo.predict(X_test)\n",
    "y_pred"
   ]
  },
  {
   "cell_type": "code",
   "execution_count": 11,
   "id": "ed1f64e0",
   "metadata": {},
   "outputs": [
    {
     "data": {
      "text/plain": [
       "0\n",
       "0     728\n",
       "1    1135\n",
       "dtype: int64"
      ]
     },
     "execution_count": 11,
     "metadata": {},
     "output_type": "execute_result"
    }
   ],
   "source": [
    "pd.DataFrame(y_pred).groupby(0).size()"
   ]
  },
  {
   "cell_type": "code",
   "execution_count": 12,
   "id": "81e25f9a",
   "metadata": {
    "scrolled": true
   },
   "outputs": [
    {
     "data": {
      "text/plain": [
       "array([0, 1, 1, ..., 1, 1, 1])"
      ]
     },
     "execution_count": 12,
     "metadata": {},
     "output_type": "execute_result"
    }
   ],
   "source": [
    "modelo.predict(X_test)"
   ]
  },
  {
   "cell_type": "markdown",
   "id": "b03d6d5b",
   "metadata": {},
   "source": [
    "## Obtenemos las predicciones "
   ]
  },
  {
   "cell_type": "code",
   "execution_count": 13,
   "id": "f893db92",
   "metadata": {},
   "outputs": [
    {
     "data": {
      "text/plain": [
       "array([[0.66438356, 0.33561644],\n",
       "       [0.4034188 , 0.5965812 ],\n",
       "       [0.4034188 , 0.5965812 ],\n",
       "       ...,\n",
       "       [0.4034188 , 0.5965812 ],\n",
       "       [0.01538462, 0.98461538],\n",
       "       [0.09115282, 0.90884718]])"
      ]
     },
     "execution_count": 13,
     "metadata": {},
     "output_type": "execute_result"
    }
   ],
   "source": [
    "modelo.predict_proba(X_test)"
   ]
  },
  {
   "cell_type": "markdown",
   "id": "d24d940f",
   "metadata": {},
   "source": [
    "## Matriz de Confusión"
   ]
  },
  {
   "cell_type": "markdown",
   "id": "a4020274",
   "metadata": {},
   "source": [
    "<img src='imagenes/machine_learning_mc_sklearn.png' width='600'>"
   ]
  },
  {
   "cell_type": "markdown",
   "id": "23fe9c18",
   "metadata": {},
   "source": [
    "### Matriz de confusión \"a mano\""
   ]
  },
  {
   "cell_type": "code",
   "execution_count": 14,
   "id": "a68adac3",
   "metadata": {},
   "outputs": [
    {
     "data": {
      "text/plain": [
       "(545, 259, 183, 876)"
      ]
     },
     "execution_count": 14,
     "metadata": {},
     "output_type": "execute_result"
    }
   ],
   "source": [
    "resultados = list(zip(y_test, y_pred))\n",
    "\n",
    "manteca = 0\n",
    "mike = 0\n",
    "yoteavise = 0\n",
    "allin = 0\n",
    "\n",
    "for real, prediccion in resultados:\n",
    "    \n",
    "    if (real==0) & (prediccion==0):\n",
    "        # Verdaderos negativos\n",
    "        yoteavise +=1\n",
    "    if (real==0) & (prediccion==1):\n",
    "        # Falsos positivos\n",
    "        allin +=1\n",
    "    if (real==1) & (prediccion==0):\n",
    "        # Falsos negativos\n",
    "        mike +=1\n",
    "    if (real==1) & (prediccion==1):\n",
    "        # Verdaderos positivos\n",
    "        manteca +=1\n",
    "\n",
    "\n",
    "yoteavise, allin, mike, manteca"
   ]
  },
  {
   "cell_type": "code",
   "execution_count": 15,
   "id": "ffea2a0f",
   "metadata": {},
   "outputs": [
    {
     "data": {
      "text/plain": [
       "array([[545, 259],\n",
       "       [183, 876]], dtype=int64)"
      ]
     },
     "execution_count": 15,
     "metadata": {},
     "output_type": "execute_result"
    }
   ],
   "source": [
    "from sklearn.metrics import confusion_matrix, plot_confusion_matrix\n",
    "m = np.array(confusion_matrix(y_test, y_pred, normalize=None))\n",
    "m"
   ]
  },
  {
   "cell_type": "markdown",
   "id": "30b67e50",
   "metadata": {},
   "source": [
    "## Normalizado de matriz de confusión"
   ]
  },
  {
   "cell_type": "code",
   "execution_count": 16,
   "id": "73f57006",
   "metadata": {},
   "outputs": [
    {
     "data": {
      "text/plain": [
       "array([[0.29253892, 0.13902308],\n",
       "       [0.09822866, 0.47020934]])"
      ]
     },
     "execution_count": 16,
     "metadata": {},
     "output_type": "execute_result"
    }
   ],
   "source": [
    "m = np.array(confusion_matrix(y_test, y_pred, normalize='all'))\n",
    "m"
   ]
  },
  {
   "cell_type": "code",
   "execution_count": 17,
   "id": "610dcabc",
   "metadata": {},
   "outputs": [
    {
     "data": {
      "text/plain": [
       "<sklearn.metrics._plot.confusion_matrix.ConfusionMatrixDisplay at 0x17d41cd73a0>"
      ]
     },
     "execution_count": 17,
     "metadata": {},
     "output_type": "execute_result"
    },
    {
     "data": {
      "image/png": "[encoded data removed]",
      "text/plain": [
       "<Figure size 432x288 with 2 Axes>"
      ]
     },
     "metadata": {
      "needs_background": "light"
     },
     "output_type": "display_data"
    }
   ],
   "source": [
    "plot_confusion_matrix(modelo, X_test, y_test, values_format='.1%', normalize='all', cmap='Blues')"
   ]
  },
  {
   "cell_type": "code",
   "execution_count": 18,
   "id": "dd209f2e",
   "metadata": {},
   "outputs": [
    {
     "data": {
      "text/plain": [
       "array([[0.74862637, 0.22819383],\n",
       "       [0.25137363, 0.77180617]])"
      ]
     },
     "execution_count": 18,
     "metadata": {},
     "output_type": "execute_result"
    }
   ],
   "source": [
    "m = np.array(confusion_matrix(y_test, y_pred, normalize='pred'))\n",
    "m"
   ]
  },
  {
   "cell_type": "code",
   "execution_count": 19,
   "id": "e519edc2",
   "metadata": {},
   "outputs": [
    {
     "data": {
      "text/plain": [
       "array([[0.6778607 , 0.3221393 ],\n",
       "       [0.17280453, 0.82719547]])"
      ]
     },
     "execution_count": 19,
     "metadata": {},
     "output_type": "execute_result"
    }
   ],
   "source": [
    "m = np.array(confusion_matrix(y_test, y_pred, normalize='true'))\n",
    "m"
   ]
  },
  {
   "cell_type": "code",
   "execution_count": 20,
   "id": "abfb31a6",
   "metadata": {},
   "outputs": [
    {
     "name": "stdout",
     "output_type": "stream",
     "text": [
      "Arboles de decisión: \n",
      " [[0.29 0.14]\n",
      " [0.1  0.47]] \n",
      "Porcentajes:\n",
      " {'manteca': 0.47, 'mike oscilator': 0.1, 'all in': 0.14, 'yo te avise': 0.29} \n",
      " {'aciertos': '76.0%', 'sesgo +': '61.0%'}\n"
     ]
    }
   ],
   "source": [
    "from sklearn.metrics import confusion_matrix\n",
    "\n",
    "m = np.array(confusion_matrix(y_test, y_pred, normalize='all')).round(2)\n",
    "\n",
    "matriz = {'manteca':m[1][1], 'mike oscilator':m[1][0],'all in':m[0][1], 'yo te avise':m[0][0]}\n",
    "\n",
    "resumen = {'aciertos' : f\"{matriz['manteca']+matriz['yo te avise']:.1%}\", \n",
    "           'sesgo +': f\"{matriz['manteca']+matriz['all in']:.1%}\"}\n",
    "\n",
    "print('Arboles de decisión: \\n',m,'\\nPorcentajes:\\n',matriz,'\\n',resumen)"
   ]
  },
  {
   "cell_type": "code",
   "execution_count": null,
   "id": "69b7d589",
   "metadata": {},
   "outputs": [],
   "source": []
  },
  {
   "cell_type": "code",
   "execution_count": null,
   "id": "3d85f80e",
   "metadata": {},
   "outputs": [],
   "source": []
  },
  {
   "cell_type": "code",
   "execution_count": null,
   "id": "05aa8bd9",
   "metadata": {},
   "outputs": [],
   "source": []
  },
  {
   "cell_type": "code",
   "execution_count": null,
   "id": "3c7aeb84",
   "metadata": {},
   "outputs": [],
   "source": []
  },
  {
   "cell_type": "code",
   "execution_count": null,
   "id": "c2be1b97",
   "metadata": {},
   "outputs": [],
   "source": []
  },
  {
   "cell_type": "code",
   "execution_count": null,
   "id": "9904ee58",
   "metadata": {},
   "outputs": [],
   "source": []
  },
  {
   "cell_type": "code",
   "execution_count": null,
   "id": "6247dcfb",
   "metadata": {},
   "outputs": [],
   "source": []
  },
  {
   "cell_type": "code",
   "execution_count": null,
   "id": "786186e7",
   "metadata": {},
   "outputs": [],
   "source": []
  },
  {
   "cell_type": "code",
   "execution_count": null,
   "id": "a6ef6d39",
   "metadata": {},
   "outputs": [],
   "source": []
  },
  {
   "cell_type": "markdown",
   "id": "bb89c746",
   "metadata": {},
   "source": [
    "### Ojo con la definición de tuplas"
   ]
  },
  {
   "cell_type": "markdown",
   "id": "983b2861",
   "metadata": {},
   "source": [
    "Si definimos una tupla como x=(1), me va a asignar el entero 1 a la variable \"x\"\n",
    "\n",
    "Si quisiera que me asigne la tupla con el valor 1 como único valor debo poner x=(1,)"
   ]
  },
  {
   "cell_type": "code",
   "execution_count": 21,
   "id": "cc832155",
   "metadata": {},
   "outputs": [],
   "source": [
    "a = 5\n",
    "b = (5)\n",
    "c = (5,)"
   ]
  },
  {
   "cell_type": "code",
   "execution_count": 22,
   "id": "cb8b4e6a",
   "metadata": {
    "scrolled": true
   },
   "outputs": [
    {
     "data": {
      "text/plain": [
       "(int, int, tuple)"
      ]
     },
     "execution_count": 22,
     "metadata": {},
     "output_type": "execute_result"
    }
   ],
   "source": [
    "type(a), type(b), type(c)"
   ]
  },
  {
   "cell_type": "code",
   "execution_count": null,
   "id": "4b00e6d6",
   "metadata": {},
   "outputs": [],
   "source": []
  },
  {
   "cell_type": "markdown",
   "id": "8a84ba60",
   "metadata": {},
   "source": [
    "## Vemos predicción de algún valor"
   ]
  },
  {
   "cell_type": "code",
   "execution_count": 23,
   "id": "ac6290bc",
   "metadata": {},
   "outputs": [
    {
     "data": {
      "text/html": [
       "<div>\n",
       "<style scoped>\n",
       "    .dataframe tbody tr th:only-of-type {\n",
       "        vertical-align: middle;\n",
       "    }\n",
       "\n",
       "    .dataframe tbody tr th {\n",
       "        vertical-align: top;\n",
       "    }\n",
       "\n",
       "    .dataframe thead th {\n",
       "        text-align: right;\n",
       "    }\n",
       "</style>\n",
       "<table border=\"1\" class=\"dataframe\">\n",
       "  <thead>\n",
       "    <tr style=\"text-align: right;\">\n",
       "      <th></th>\n",
       "      <th>rsi</th>\n",
       "      <th>roll_vol</th>\n",
       "      <th>ema_vol</th>\n",
       "      <th>cruce_1</th>\n",
       "      <th>cruce_2</th>\n",
       "      <th>cruce_3</th>\n",
       "    </tr>\n",
       "    <tr>\n",
       "      <th>Date</th>\n",
       "      <th></th>\n",
       "      <th></th>\n",
       "      <th></th>\n",
       "      <th></th>\n",
       "      <th></th>\n",
       "      <th></th>\n",
       "    </tr>\n",
       "  </thead>\n",
       "  <tbody>\n",
       "    <tr>\n",
       "      <th>2002-08-01</th>\n",
       "      <td>0.5164</td>\n",
       "      <td>1.2248</td>\n",
       "      <td>2.0035</td>\n",
       "      <td>-0.9164</td>\n",
       "      <td>-0.9198</td>\n",
       "      <td>-0.9182</td>\n",
       "    </tr>\n",
       "    <tr>\n",
       "      <th>2002-08-02</th>\n",
       "      <td>0.5164</td>\n",
       "      <td>1.2248</td>\n",
       "      <td>1.9966</td>\n",
       "      <td>-0.9173</td>\n",
       "      <td>-0.9188</td>\n",
       "      <td>-0.9191</td>\n",
       "    </tr>\n",
       "    <tr>\n",
       "      <th>2002-08-05</th>\n",
       "      <td>0.5064</td>\n",
       "      <td>1.2245</td>\n",
       "      <td>1.9898</td>\n",
       "      <td>-0.9183</td>\n",
       "      <td>-0.9177</td>\n",
       "      <td>-0.9198</td>\n",
       "    </tr>\n",
       "    <tr>\n",
       "      <th>2002-08-06</th>\n",
       "      <td>0.4863</td>\n",
       "      <td>1.2221</td>\n",
       "      <td>1.9834</td>\n",
       "      <td>-0.9193</td>\n",
       "      <td>-0.9163</td>\n",
       "      <td>-0.9204</td>\n",
       "    </tr>\n",
       "    <tr>\n",
       "      <th>2002-08-07</th>\n",
       "      <td>0.4863</td>\n",
       "      <td>1.2220</td>\n",
       "      <td>1.9766</td>\n",
       "      <td>-0.9202</td>\n",
       "      <td>-0.9148</td>\n",
       "      <td>-0.9211</td>\n",
       "    </tr>\n",
       "    <tr>\n",
       "      <th>...</th>\n",
       "      <td>...</td>\n",
       "      <td>...</td>\n",
       "      <td>...</td>\n",
       "      <td>...</td>\n",
       "      <td>...</td>\n",
       "      <td>...</td>\n",
       "    </tr>\n",
       "    <tr>\n",
       "      <th>2021-01-25</th>\n",
       "      <td>0.3321</td>\n",
       "      <td>0.2785</td>\n",
       "      <td>0.8163</td>\n",
       "      <td>-0.3940</td>\n",
       "      <td>-0.1832</td>\n",
       "      <td>-0.4948</td>\n",
       "    </tr>\n",
       "    <tr>\n",
       "      <th>2021-01-26</th>\n",
       "      <td>0.4304</td>\n",
       "      <td>0.2800</td>\n",
       "      <td>0.8173</td>\n",
       "      <td>-0.3908</td>\n",
       "      <td>-0.1845</td>\n",
       "      <td>-0.4925</td>\n",
       "    </tr>\n",
       "    <tr>\n",
       "      <th>2021-01-27</th>\n",
       "      <td>0.4188</td>\n",
       "      <td>0.2790</td>\n",
       "      <td>0.8147</td>\n",
       "      <td>-0.3876</td>\n",
       "      <td>-0.1865</td>\n",
       "      <td>-0.4901</td>\n",
       "    </tr>\n",
       "    <tr>\n",
       "      <th>2021-01-28</th>\n",
       "      <td>0.4283</td>\n",
       "      <td>0.2787</td>\n",
       "      <td>0.8120</td>\n",
       "      <td>-0.3840</td>\n",
       "      <td>-0.1891</td>\n",
       "      <td>-0.4875</td>\n",
       "    </tr>\n",
       "    <tr>\n",
       "      <th>2021-01-29</th>\n",
       "      <td>0.3798</td>\n",
       "      <td>0.2608</td>\n",
       "      <td>0.8110</td>\n",
       "      <td>-0.3805</td>\n",
       "      <td>-0.1920</td>\n",
       "      <td>-0.4850</td>\n",
       "    </tr>\n",
       "  </tbody>\n",
       "</table>\n",
       "<p>4657 rows × 6 columns</p>\n",
       "</div>"
      ],
      "text/plain": [
       "               rsi  roll_vol  ema_vol  cruce_1  cruce_2  cruce_3\n",
       "Date                                                            \n",
       "2002-08-01  0.5164    1.2248   2.0035  -0.9164  -0.9198  -0.9182\n",
       "2002-08-02  0.5164    1.2248   1.9966  -0.9173  -0.9188  -0.9191\n",
       "2002-08-05  0.5064    1.2245   1.9898  -0.9183  -0.9177  -0.9198\n",
       "2002-08-06  0.4863    1.2221   1.9834  -0.9193  -0.9163  -0.9204\n",
       "2002-08-07  0.4863    1.2220   1.9766  -0.9202  -0.9148  -0.9211\n",
       "...            ...       ...      ...      ...      ...      ...\n",
       "2021-01-25  0.3321    0.2785   0.8163  -0.3940  -0.1832  -0.4948\n",
       "2021-01-26  0.4304    0.2800   0.8173  -0.3908  -0.1845  -0.4925\n",
       "2021-01-27  0.4188    0.2790   0.8147  -0.3876  -0.1865  -0.4901\n",
       "2021-01-28  0.4283    0.2787   0.8120  -0.3840  -0.1891  -0.4875\n",
       "2021-01-29  0.3798    0.2608   0.8110  -0.3805  -0.1920  -0.4850\n",
       "\n",
       "[4657 rows x 6 columns]"
      ]
     },
     "execution_count": 23,
     "metadata": {},
     "output_type": "execute_result"
    }
   ],
   "source": [
    "X"
   ]
  },
  {
   "cell_type": "code",
   "execution_count": 24,
   "id": "573cace3",
   "metadata": {},
   "outputs": [
    {
     "data": {
      "text/html": [
       "<div>\n",
       "<style scoped>\n",
       "    .dataframe tbody tr th:only-of-type {\n",
       "        vertical-align: middle;\n",
       "    }\n",
       "\n",
       "    .dataframe tbody tr th {\n",
       "        vertical-align: top;\n",
       "    }\n",
       "\n",
       "    .dataframe thead th {\n",
       "        text-align: right;\n",
       "    }\n",
       "</style>\n",
       "<table border=\"1\" class=\"dataframe\">\n",
       "  <thead>\n",
       "    <tr style=\"text-align: right;\">\n",
       "      <th></th>\n",
       "      <th>rsi</th>\n",
       "      <th>roll_vol</th>\n",
       "      <th>ema_vol</th>\n",
       "      <th>cruce_1</th>\n",
       "      <th>cruce_2</th>\n",
       "      <th>cruce_3</th>\n",
       "    </tr>\n",
       "    <tr>\n",
       "      <th>Date</th>\n",
       "      <th></th>\n",
       "      <th></th>\n",
       "      <th></th>\n",
       "      <th></th>\n",
       "      <th></th>\n",
       "      <th></th>\n",
       "    </tr>\n",
       "  </thead>\n",
       "  <tbody>\n",
       "    <tr>\n",
       "      <th>2000-07-25</th>\n",
       "      <td>NaN</td>\n",
       "      <td>NaN</td>\n",
       "      <td>NaN</td>\n",
       "      <td>NaN</td>\n",
       "      <td>NaN</td>\n",
       "      <td>NaN</td>\n",
       "    </tr>\n",
       "    <tr>\n",
       "      <th>2000-07-26</th>\n",
       "      <td>NaN</td>\n",
       "      <td>NaN</td>\n",
       "      <td>NaN</td>\n",
       "      <td>NaN</td>\n",
       "      <td>NaN</td>\n",
       "      <td>NaN</td>\n",
       "    </tr>\n",
       "    <tr>\n",
       "      <th>2000-07-27</th>\n",
       "      <td>NaN</td>\n",
       "      <td>NaN</td>\n",
       "      <td>0.000000</td>\n",
       "      <td>NaN</td>\n",
       "      <td>NaN</td>\n",
       "      <td>NaN</td>\n",
       "    </tr>\n",
       "    <tr>\n",
       "      <th>2000-07-28</th>\n",
       "      <td>0.000000</td>\n",
       "      <td>NaN</td>\n",
       "      <td>0.071547</td>\n",
       "      <td>NaN</td>\n",
       "      <td>NaN</td>\n",
       "      <td>NaN</td>\n",
       "    </tr>\n",
       "    <tr>\n",
       "      <th>2000-07-31</th>\n",
       "      <td>0.729166</td>\n",
       "      <td>NaN</td>\n",
       "      <td>0.186460</td>\n",
       "      <td>NaN</td>\n",
       "      <td>NaN</td>\n",
       "      <td>NaN</td>\n",
       "    </tr>\n",
       "    <tr>\n",
       "      <th>...</th>\n",
       "      <td>...</td>\n",
       "      <td>...</td>\n",
       "      <td>...</td>\n",
       "      <td>...</td>\n",
       "      <td>...</td>\n",
       "      <td>...</td>\n",
       "    </tr>\n",
       "    <tr>\n",
       "      <th>2021-06-17</th>\n",
       "      <td>0.613881</td>\n",
       "      <td>0.194531</td>\n",
       "      <td>0.671824</td>\n",
       "      <td>-0.157884</td>\n",
       "      <td>-0.033126</td>\n",
       "      <td>-0.319885</td>\n",
       "    </tr>\n",
       "    <tr>\n",
       "      <th>2021-06-18</th>\n",
       "      <td>0.569526</td>\n",
       "      <td>0.193724</td>\n",
       "      <td>0.670559</td>\n",
       "      <td>-0.154222</td>\n",
       "      <td>-0.024858</td>\n",
       "      <td>-0.314266</td>\n",
       "    </tr>\n",
       "    <tr>\n",
       "      <th>2021-06-21</th>\n",
       "      <td>0.531607</td>\n",
       "      <td>0.195323</td>\n",
       "      <td>0.669181</td>\n",
       "      <td>-0.150916</td>\n",
       "      <td>-0.017929</td>\n",
       "      <td>-0.308843</td>\n",
       "    </tr>\n",
       "    <tr>\n",
       "      <th>2021-06-22</th>\n",
       "      <td>0.572054</td>\n",
       "      <td>0.197116</td>\n",
       "      <td>0.668261</td>\n",
       "      <td>-0.147227</td>\n",
       "      <td>-0.010568</td>\n",
       "      <td>-0.303827</td>\n",
       "    </tr>\n",
       "    <tr>\n",
       "      <th>2021-06-23</th>\n",
       "      <td>0.561255</td>\n",
       "      <td>0.197016</td>\n",
       "      <td>0.666119</td>\n",
       "      <td>-0.143243</td>\n",
       "      <td>-0.002607</td>\n",
       "      <td>-0.298826</td>\n",
       "    </tr>\n",
       "  </tbody>\n",
       "</table>\n",
       "<p>5262 rows × 6 columns</p>\n",
       "</div>"
      ],
      "text/plain": [
       "                 rsi  roll_vol   ema_vol   cruce_1   cruce_2   cruce_3\n",
       "Date                                                                  \n",
       "2000-07-25       NaN       NaN       NaN       NaN       NaN       NaN\n",
       "2000-07-26       NaN       NaN       NaN       NaN       NaN       NaN\n",
       "2000-07-27       NaN       NaN  0.000000       NaN       NaN       NaN\n",
       "2000-07-28  0.000000       NaN  0.071547       NaN       NaN       NaN\n",
       "2000-07-31  0.729166       NaN  0.186460       NaN       NaN       NaN\n",
       "...              ...       ...       ...       ...       ...       ...\n",
       "2021-06-17  0.613881  0.194531  0.671824 -0.157884 -0.033126 -0.319885\n",
       "2021-06-18  0.569526  0.193724  0.670559 -0.154222 -0.024858 -0.314266\n",
       "2021-06-21  0.531607  0.195323  0.669181 -0.150916 -0.017929 -0.308843\n",
       "2021-06-22  0.572054  0.197116  0.668261 -0.147227 -0.010568 -0.303827\n",
       "2021-06-23  0.561255  0.197016  0.666119 -0.143243 -0.002607 -0.298826\n",
       "\n",
       "[5262 rows x 6 columns]"
      ]
     },
     "execution_count": 24,
     "metadata": {},
     "output_type": "execute_result"
    }
   ],
   "source": [
    "X_full = data_full.iloc[:,-7:-1]\n",
    "X_full"
   ]
  },
  {
   "cell_type": "code",
   "execution_count": 25,
   "id": "36873109",
   "metadata": {},
   "outputs": [
    {
     "data": {
      "text/plain": [
       "rsi         0.561255\n",
       "roll_vol    0.197016\n",
       "ema_vol     0.666119\n",
       "cruce_1    -0.143243\n",
       "cruce_2    -0.002607\n",
       "cruce_3    -0.298826\n",
       "Name: 2021-06-23 00:00:00, dtype: float64"
      ]
     },
     "execution_count": 25,
     "metadata": {},
     "output_type": "execute_result"
    }
   ],
   "source": [
    "datosHoy = X_full.iloc[-1]\n",
    "datosHoy"
   ]
  },
  {
   "cell_type": "code",
   "execution_count": 26,
   "id": "2d64884c",
   "metadata": {},
   "outputs": [
    {
     "data": {
      "text/plain": [
       "array([ 0.56125531,  0.19701565,  0.66611876, -0.14324299, -0.00260714,\n",
       "       -0.29882616])"
      ]
     },
     "execution_count": 26,
     "metadata": {},
     "output_type": "execute_result"
    }
   ],
   "source": [
    "datosHoy.values"
   ]
  },
  {
   "cell_type": "code",
   "execution_count": 27,
   "id": "be21ad63",
   "metadata": {
    "scrolled": true
   },
   "outputs": [
    {
     "data": {
      "text/plain": [
       "array([1])"
      ]
     },
     "execution_count": 27,
     "metadata": {},
     "output_type": "execute_result"
    }
   ],
   "source": [
    "modelo.predict((datosHoy,))"
   ]
  },
  {
   "cell_type": "code",
   "execution_count": 28,
   "id": "4dfa37b4",
   "metadata": {},
   "outputs": [
    {
     "data": {
      "text/plain": [
       "array([[0.06521739, 0.93478261]])"
      ]
     },
     "execution_count": 28,
     "metadata": {},
     "output_type": "execute_result"
    }
   ],
   "source": [
    "modelo.predict_proba((datosHoy,))"
   ]
  },
  {
   "cell_type": "code",
   "execution_count": 29,
   "id": "c7e0ebaf",
   "metadata": {},
   "outputs": [
    {
     "name": "stdout",
     "output_type": "stream",
     "text": [
      "\n",
      "Prediccion Ultimos 5 valores actuales\n",
      " [1 1 1 1 1]\n"
     ]
    }
   ],
   "source": [
    "ultimos = X_full[-5:]\n",
    "prediccion_ultimos = modelo.predict(ultimos)\n",
    "print('\\nPrediccion Ultimos 5 valores actuales\\n',prediccion_ultimos)"
   ]
  },
  {
   "cell_type": "code",
   "execution_count": 30,
   "id": "879be68a",
   "metadata": {},
   "outputs": [
    {
     "name": "stdout",
     "output_type": "stream",
     "text": [
      "\n",
      "Prediccion Ultimos 5 valores actuales\n",
      " [[0.06521739 0.93478261]\n",
      " [0.06521739 0.93478261]\n",
      " [0.06521739 0.93478261]\n",
      " [0.06521739 0.93478261]\n",
      " [0.06521739 0.93478261]]\n"
     ]
    }
   ],
   "source": [
    "ultimos = X_full[-5:]\n",
    "prediccion_ultimos = modelo.predict_proba(ultimos)\n",
    "print('\\nPrediccion Ultimos 5 valores actuales\\n',prediccion_ultimos)"
   ]
  },
  {
   "cell_type": "markdown",
   "id": "bd762bd9",
   "metadata": {},
   "source": [
    "## Graficamos el modelo"
   ]
  },
  {
   "cell_type": "code",
   "execution_count": 31,
   "id": "2af85a0c",
   "metadata": {
    "scrolled": false
   },
   "outputs": [
    {
     "data": {
      "image/png": "[encoded data removed]",
      "text/plain": [
       "<IPython.core.display.Image object>"
      ]
     },
     "execution_count": 31,
     "metadata": {},
     "output_type": "execute_result"
    }
   ],
   "source": [
    "# pip install pydotplus\n",
    "\n",
    "from IPython.display import Image  \n",
    "from sklearn import tree\n",
    "import pydotplus\n",
    "import os\n",
    "os.environ['PATH'] = os.environ['PATH']+';'+os.environ['CONDA_PREFIX']+r\"\\Library\\bin\\graphviz\"\n",
    "\n",
    "cols = ['roll_vol','cr1','cr2','cr3']\n",
    "targets = ['Sube','Baja']\n",
    "\n",
    "dot_data = tree.export_graphviz(modelo, out_file=None, feature_names=X.columns, \n",
    "                                class_names=targets, rounded = True, filled= True)\n",
    "\n",
    "graph = pydotplus.graph_from_dot_data(dot_data)  \n",
    "\n",
    "# guardo la imagen en disco\n",
    "graph.write_png(\"imagenes/gashe.png\")\n",
    "\n",
    "# imprimo en pantalla\n",
    "Image(graph.create_png())"
   ]
  },
  {
   "cell_type": "code",
   "execution_count": 32,
   "id": "528ffa71",
   "metadata": {},
   "outputs": [
    {
     "data": {
      "text/plain": [
       "'digraph Tree {\\nnode [shape=box, style=\"filled, rounded\", color=\"black\", fontname=helvetica] ;\\nedge [fontname=helvetica] ;\\n0 [label=\"ema_vol <= 1.328\\\\nentropy = 0.99\\\\nsamples = 2794\\\\nvalue = [1229, 1565]\\\\nclass = Baja\", fillcolor=\"#d4eaf9\"] ;\\n1 [label=\"cruce_2 <= 0.815\\\\nentropy = 0.998\\\\nsamples = 2582\\\\nvalue = [1229, 1353]\\\\nclass = Baja\", fillcolor=\"#edf6fd\"] ;\\n0 -> 1 [labeldistance=2.5, labelangle=45, headlabel=\"True\"] ;\\n2 [label=\"cruce_2 <= -0.034\\\\nentropy = 0.994\\\\nsamples = 2488\\\\nvalue = [1135, 1353]\\\\nclass = Baja\", fillcolor=\"#dfeffb\"] ;\\n1 -> 2 ;\\n3 [label=\"cruce_2 <= -0.436\\\\nentropy = 0.981\\\\nsamples = 993\\\\nvalue = [577, 416]\\\\nclass = Sube\", fillcolor=\"#f8dcc8\"] ;\\n2 -> 3 ;\\n4 [label=\"ema_vol <= 0.915\\\\nentropy = 0.905\\\\nsamples = 268\\\\nvalue = [86, 182]\\\\nclass = Baja\", fillcolor=\"#97cbf1\"] ;\\n3 -> 4 ;\\n5 [label=\"cruce_2 <= -0.481\\\\nentropy = 0.62\\\\nsamples = 188\\\\nvalue = [29, 159]\\\\nclass = Baja\", fillcolor=\"#5dafea\"] ;\\n4 -> 5 ;\\n6 [label=\"entropy = 0.073\\\\nsamples = 114\\\\nvalue = [1, 113]\\\\nclass = Baja\", fillcolor=\"#3b9ee5\"] ;\\n5 -> 6 ;\\n7 [label=\"entropy = 0.957\\\\nsamples = 74\\\\nvalue = [28, 46]\\\\nclass = Baja\", fillcolor=\"#b2d9f5\"] ;\\n5 -> 7 ;\\n8 [label=\"cruce_1 <= -0.525\\\\nentropy = 0.865\\\\nsamples = 80\\\\nvalue = [57, 23]\\\\nclass = Sube\", fillcolor=\"#efb489\"] ;\\n4 -> 8 ;\\n9 [label=\"entropy = 0.242\\\\nsamples = 50\\\\nvalue = [48, 2]\\\\nclass = Sube\", fillcolor=\"#e68641\"] ;\\n8 -> 9 ;\\n10 [label=\"entropy = 0.881\\\\nsamples = 30\\\\nvalue = [9, 21]\\\\nclass = Baja\", fillcolor=\"#8ec7f0\"] ;\\n8 -> 10 ;\\n11 [label=\"ema_vol <= 0.693\\\\nentropy = 0.907\\\\nsamples = 725\\\\nvalue = [491, 234]\\\\nclass = Sube\", fillcolor=\"#f1bd97\"] ;\\n3 -> 11 ;\\n12 [label=\"roll_vol <= 0.23\\\\nentropy = 0.787\\\\nsamples = 514\\\\nvalue = [393, 121]\\\\nclass = Sube\", fillcolor=\"#eda876\"] ;\\n11 -> 12 ;\\n13 [label=\"entropy = 0.965\\\\nsamples = 272\\\\nvalue = [166, 106]\\\\nclass = Sube\", fillcolor=\"#f6d1b7\"] ;\\n12 -> 13 ;\\n14 [label=\"entropy = 0.335\\\\nsamples = 242\\\\nvalue = [227, 15]\\\\nclass = Sube\", fillcolor=\"#e78946\"] ;\\n12 -> 14 ;\\n15 [label=\"cruce_1 <= -0.346\\\\nentropy = 0.996\\\\nsamples = 211\\\\nvalue = [98, 113]\\\\nclass = Baja\", fillcolor=\"#e5f2fc\"] ;\\n11 -> 15 ;\\n16 [label=\"entropy = 0.921\\\\nsamples = 146\\\\nvalue = [97, 49]\\\\nclass = Sube\", fillcolor=\"#f2c19d\"] ;\\n15 -> 16 ;\\n17 [label=\"entropy = 0.115\\\\nsamples = 65\\\\nvalue = [1, 64]\\\\nclass = Baja\", fillcolor=\"#3c9fe5\"] ;\\n15 -> 17 ;\\n18 [label=\"ema_vol <= 0.516\\\\nentropy = 0.953\\\\nsamples = 1495\\\\nvalue = [558, 937]\\\\nclass = Baja\", fillcolor=\"#afd7f4\"] ;\\n2 -> 18 ;\\n19 [label=\"cruce_3 <= 0.499\\\\nentropy = 0.997\\\\nsamples = 814\\\\nvalue = [382, 432]\\\\nclass = Baja\", fillcolor=\"#e8f4fc\"] ;\\n18 -> 19 ;\\n20 [label=\"cruce_1 <= 0.029\\\\nentropy = 0.946\\\\nsamples = 648\\\\nvalue = [236, 412]\\\\nclass = Baja\", fillcolor=\"#aad5f4\"] ;\\n19 -> 20 ;\\n21 [label=\"entropy = 0.0\\\\nsamples = 63\\\\nvalue = [0, 63]\\\\nclass = Baja\", fillcolor=\"#399de5\"] ;\\n20 -> 21 ;\\n22 [label=\"entropy = 0.973\\\\nsamples = 585\\\\nvalue = [236, 349]\\\\nclass = Baja\", fillcolor=\"#bfdff7\"] ;\\n20 -> 22 ;\\n23 [label=\"cruce_2 <= 0.439\\\\nentropy = 0.531\\\\nsamples = 166\\\\nvalue = [146, 20]\\\\nclass = Sube\", fillcolor=\"#e99254\"] ;\\n19 -> 23 ;\\n24 [label=\"entropy = 0.816\\\\nsamples = 79\\\\nvalue = [59, 20]\\\\nclass = Sube\", fillcolor=\"#eeac7c\"] ;\\n23 -> 24 ;\\n25 [label=\"entropy = 0.0\\\\nsamples = 87\\\\nvalue = [87, 0]\\\\nclass = Sube\", fillcolor=\"#e58139\"] ;\\n23 -> 25 ;\\n26 [label=\"cruce_1 <= 0.152\\\\nentropy = 0.824\\\\nsamples = 681\\\\nvalue = [176, 505]\\\\nclass = Baja\", fillcolor=\"#7ebfee\"] ;\\n18 -> 26 ;\\n27 [label=\"cruce_2 <= -0.001\\\\nentropy = 0.988\\\\nsamples = 163\\\\nvalue = [92, 71]\\\\nclass = Sube\", fillcolor=\"#f9e2d2\"] ;\\n26 -> 27 ;\\n28 [label=\"entropy = 0.348\\\\nsamples = 46\\\\nvalue = [3, 43]\\\\nclass = Baja\", fillcolor=\"#47a4e7\"] ;\\n27 -> 28 ;\\n29 [label=\"entropy = 0.794\\\\nsamples = 117\\\\nvalue = [89, 28]\\\\nclass = Sube\", fillcolor=\"#eda977\"] ;\\n27 -> 29 ;\\n30 [label=\"ema_vol <= 0.644\\\\nentropy = 0.639\\\\nsamples = 518\\\\nvalue = [84, 434]\\\\nclass = Baja\", fillcolor=\"#5fb0ea\"] ;\\n26 -> 30 ;\\n31 [label=\"entropy = 0.44\\\\nsamples = 373\\\\nvalue = [34, 339]\\\\nclass = Baja\", fillcolor=\"#4da7e8\"] ;\\n30 -> 31 ;\\n32 [label=\"entropy = 0.929\\\\nsamples = 145\\\\nvalue = [50, 95]\\\\nclass = Baja\", fillcolor=\"#a1d1f3\"] ;\\n30 -> 32 ;\\n33 [label=\"entropy = 0.0\\\\nsamples = 94\\\\nvalue = [94, 0]\\\\nclass = Sube\", fillcolor=\"#e58139\"] ;\\n1 -> 33 ;\\n34 [label=\"entropy = 0.0\\\\nsamples = 212\\\\nvalue = [0, 212]\\\\nclass = Baja\", fillcolor=\"#399de5\"] ;\\n0 -> 34 [labeldistance=2.5, labelangle=-45, headlabel=\"False\"] ;\\n}'"
      ]
     },
     "execution_count": 32,
     "metadata": {},
     "output_type": "execute_result"
    }
   ],
   "source": [
    "dot_data"
   ]
  },
  {
   "cell_type": "markdown",
   "id": "03c08e98",
   "metadata": {},
   "source": [
    "## Overfiteamos"
   ]
  },
  {
   "cell_type": "code",
   "execution_count": 33,
   "id": "94790649",
   "metadata": {},
   "outputs": [
    {
     "data": {
      "text/plain": [
       "<AxesSubplot:>"
      ]
     },
     "execution_count": 33,
     "metadata": {},
     "output_type": "execute_result"
    },
    {
     "data": {
      "image/png": "[encoded data removed]",
      "text/plain": [
       "<Figure size 432x288 with 1 Axes>"
      ]
     },
     "metadata": {
      "needs_background": "light"
     },
     "output_type": "display_data"
    }
   ],
   "source": [
    "aciertos = []\n",
    "for i in range(1,50):\n",
    "    modelo = DecisionTreeClassifier(criterion = 'entropy', max_depth=i) #Definimos modelo\n",
    "    modelo.fit(X_train, y_train) # Entrenamos\n",
    "    y_pred = modelo.predict(X_test) # Corremos\n",
    "    m = np.array(confusion_matrix(y_test, y_pred)) # medimos\n",
    "    mp = (m/m.sum().sum() *100).round(2)\n",
    "    aciertos.append( round(mp[0][0]+mp[1][1],2) )\n",
    "\n",
    "aciertosTot = pd.DataFrame(aciertos)\n",
    "aciertosTot.plot()"
   ]
  },
  {
   "cell_type": "markdown",
   "id": "afb12f86",
   "metadata": {},
   "source": [
    "# Repaso en limpio"
   ]
  },
  {
   "cell_type": "code",
   "execution_count": 34,
   "id": "e0939e4a",
   "metadata": {},
   "outputs": [
    {
     "name": "stdout",
     "output_type": "stream",
     "text": [
      "[*********************100%***********************]  1 of 1 completed\n"
     ]
    },
    {
     "data": {
      "text/plain": [
       "(array([[0.36, 0.07],\n",
       "        [0.18, 0.38]]),\n",
       " array([[0.53954802, 0.46045198],\n",
       "        [0.53954802, 0.46045198],\n",
       "        [0.53954802, 0.46045198],\n",
       "        [0.53954802, 0.46045198],\n",
       "        [0.53954802, 0.46045198]]))"
      ]
     },
     "execution_count": 34,
     "metadata": {},
     "output_type": "execute_result"
    }
   ],
   "source": [
    "import yfinance as yf, numpy as np, pandas as pd\n",
    "from sklearn.model_selection import train_test_split\n",
    "from sklearn.tree import DecisionTreeClassifier\n",
    "from sklearn.metrics import confusion_matrix\n",
    "\n",
    "\n",
    "medias = ((63, 422), (38, 350), (72, 506))\n",
    "ventana = 100\n",
    "\n",
    "data = yf.download('GGAL', start='2000-01-01')\n",
    "\n",
    "dif = data['Adj Close'].diff()\n",
    "win = pd.DataFrame(np.where(dif > 0, dif, 0))\n",
    "loss = pd.DataFrame(np.where(dif < 0, abs(dif), 0))\n",
    "ema_win = win.ewm(alpha=1/14).mean()\n",
    "ema_loss = loss.ewm(alpha=1/14).mean()\n",
    "rs = ema_win / ema_loss\n",
    "rsi = 100 - (100 / (1 + rs))\n",
    "rsi.index = data.index\n",
    "\n",
    "data['pctChange'] = data['Adj Close'].pct_change()\n",
    "data['fw'] = data['Adj Close'].shift(-ventana)/data['Adj Close']-1\n",
    "data['rsi'] = rsi/100\n",
    "data['roll_vol'] = data['pctChange'].rolling(60).std() * 60**0.5\n",
    "data['ema_vol'] = data['pctChange'].ewm(span=300).std() * 300**0.5\n",
    "data['cruce_1'] = data['Adj Close'].rolling(medias[0][0]).mean()/data['Adj Close'].rolling(medias[0][1]).mean()-1\n",
    "data['cruce_2'] = data['Adj Close'].rolling(medias[1][0]).mean()/data['Adj Close'].rolling(medias[1][1]).mean()-1\n",
    "data['cruce_3'] = data['Adj Close'].rolling(medias[2][0]).mean()/data['Adj Close'].rolling(medias[2][1]).mean()-1\n",
    "\n",
    "data['target'] = 0\n",
    "data.loc[data.fw >= 0 , 'target'] = 1\n",
    "\n",
    "data_full = data.copy() # Esto nos va a servir despues cuando necesitemos los de hoy (sin etiquetas aun)\n",
    "data = data.round(4).dropna()\n",
    "\n",
    "y = list(data['target'])\n",
    "X = data.iloc[:,-7:-1]\n",
    "\n",
    "X_train, X_test, y_train, y_test = train_test_split(X, y, test_size=0.4)\n",
    "\n",
    "modelo = DecisionTreeClassifier(criterion = 'entropy', max_depth=7) \n",
    "modelo.fit(X_train, y_train)\n",
    "y_pred = modelo.predict(X_test)\n",
    "\n",
    "m = np.array(confusion_matrix(y_test, y_pred, normalize='all')).round(2)\n",
    "\n",
    "ultimos = data_full.iloc[-5:,-7:-1]\n",
    "prediccion_ultimos = modelo.predict_proba(ultimos)\n",
    "\n",
    "m, prediccion_ultimos"
   ]
  },
  {
   "cell_type": "markdown",
   "id": "b2405452",
   "metadata": {},
   "source": [
    "# Se acuerdan de la serializacion?"
   ]
  },
  {
   "cell_type": "code",
   "execution_count": 35,
   "id": "afa135c9",
   "metadata": {},
   "outputs": [],
   "source": [
    "import pickle\n",
    "\n",
    "with open('modelo_arboles.dat' , 'wb') as file:\n",
    "    pickle.dump(modelo, file)"
   ]
  },
  {
   "cell_type": "markdown",
   "id": "431385c1",
   "metadata": {},
   "source": [
    "# Reiniciamos kernel y probamos modelo pre-fiteado"
   ]
  },
  {
   "cell_type": "code",
   "execution_count": 36,
   "id": "fe194aa4",
   "metadata": {},
   "outputs": [],
   "source": [
    "import pickle\n",
    "with open('modelo_arboles.dat' , 'rb') as file:\n",
    "    m_loaded = pickle.load(file)"
   ]
  },
  {
   "cell_type": "code",
   "execution_count": 37,
   "id": "1dc5de21",
   "metadata": {},
   "outputs": [
    {
     "name": "stdout",
     "output_type": "stream",
     "text": [
      "[*********************100%***********************]  1 of 1 completed\n"
     ]
    },
    {
     "data": {
      "text/plain": [
       "array([[0.53954802, 0.46045198],\n",
       "       [0.53954802, 0.46045198],\n",
       "       [0.53954802, 0.46045198],\n",
       "       [0.53954802, 0.46045198],\n",
       "       [0.53954802, 0.46045198]])"
      ]
     },
     "execution_count": 37,
     "metadata": {},
     "output_type": "execute_result"
    }
   ],
   "source": [
    "import yfinance as yf, numpy as np, pandas as pd\n",
    "\n",
    "medias = ((63, 422), (38, 350), (72, 506))\n",
    "ventana = 100\n",
    "\n",
    "data = yf.download('GGAL', start='2000-01-01')\n",
    "\n",
    "dif = data['Adj Close'].diff()\n",
    "win = pd.DataFrame(np.where(dif > 0, dif, 0))\n",
    "loss = pd.DataFrame(np.where(dif < 0, abs(dif), 0))\n",
    "ema_win = win.ewm(alpha=1/14).mean()\n",
    "ema_loss = loss.ewm(alpha=1/14).mean()\n",
    "rs = ema_win / ema_loss\n",
    "rsi = 100 - (100 / (1 + rs))\n",
    "rsi.index = data.index\n",
    "\n",
    "data['pctChange'] = data['Adj Close'].pct_change()\n",
    "data['fw'] = data['Adj Close'].shift(-ventana)/data['Adj Close']-1\n",
    "data['rsi'] = rsi/100\n",
    "data['roll_vol'] = data['pctChange'].rolling(60).std() * 60**0.5\n",
    "data['ema_vol'] = data['pctChange'].ewm(span=300).std() * 300**0.5\n",
    "data['cruce_1'] = data['Adj Close'].rolling(medias[0][0]).mean()/data['Adj Close'].rolling(medias[0][1]).mean()-1\n",
    "data['cruce_2'] = data['Adj Close'].rolling(medias[1][0]).mean()/data['Adj Close'].rolling(medias[1][1]).mean()-1\n",
    "data['cruce_3'] = data['Adj Close'].rolling(medias[2][0]).mean()/data['Adj Close'].rolling(medias[2][1]).mean()-1\n",
    "\n",
    "ultimos = data.iloc[-5:,-6:]\n",
    "prediccion_ultimos = m_loaded.predict_proba(ultimos)\n",
    "prediccion_ultimos"
   ]
  },
  {
   "cell_type": "code",
   "execution_count": null,
   "id": "4e9f6b6d",
   "metadata": {},
   "outputs": [],
   "source": []
  },
  {
   "cell_type": "code",
   "execution_count": null,
   "id": "2283ea8c",
   "metadata": {},
   "outputs": [],
   "source": []
  },
  {
   "cell_type": "markdown",
   "id": "1721a91a",
   "metadata": {},
   "source": [
    "# OverSampling y UnderSampling"
   ]
  },
  {
   "cell_type": "markdown",
   "id": "725b9f08",
   "metadata": {},
   "source": [
    "<img src=\"imagenes/os_us.png\" width=800>"
   ]
  },
  {
   "cell_type": "code",
   "execution_count": null,
   "id": "7dace2a7",
   "metadata": {},
   "outputs": [],
   "source": []
  },
  {
   "cell_type": "code",
   "execution_count": null,
   "id": "81052bf1",
   "metadata": {},
   "outputs": [],
   "source": []
  },
  {
   "cell_type": "markdown",
   "id": "7f41bbcd",
   "metadata": {},
   "source": [
    "## Over Sampling:"
   ]
  },
  {
   "cell_type": "markdown",
   "id": "3a385cf8",
   "metadata": {},
   "source": [
    "Simplemente repitiendo al azar\n",
    "\n",
    "* <b>RandomOverSampler</b>\n",
    "\n",
    "Sintéticos\n",
    "\n",
    "    * SMOTE \n",
    "    * BorderlineSMOTE (Líneas de separación jerarárquicas)\n",
    "    * KMeansSMOTE (c/modelo de agrupamiento KMeans)\n",
    "    * SVMSMOTE (c/modelo de agrupamiento SVM)\n",
    "    * SMOTEN (para predictores discretos)\n",
    "    * SMOTENC (mezcla de predictores continuos y discretos)\n",
    "    * ADASYN (sinteticos adaptativos)"
   ]
  },
  {
   "cell_type": "markdown",
   "id": "f2674b83",
   "metadata": {},
   "source": [
    "Paper original <b>SMOTE</b>, DOI: 10.1613/jair.301\n",
    "<br>https://www.jair.org/index.php/jair/article/view/10302/24590\n",
    "\n",
    "<b>BorderLine</b> DOI DOI:10.1007/11538059_91\n",
    "<br>https://sci2s.ugr.es/keel/keel-dataset/pdfs/2005-Han-LNCS.pdf"
   ]
  },
  {
   "cell_type": "markdown",
   "id": "eb5a26f8",
   "metadata": {},
   "source": [
    "<b>ADASYN</b> DOI:10.1109/IJCNN.2008.4633969\n",
    "<br>https://sci2s.ugr.es/keel/pdf/algorithm/congreso/2008-He-ieee.pdf"
   ]
  },
  {
   "cell_type": "code",
   "execution_count": null,
   "id": "b5b6cf7d",
   "metadata": {},
   "outputs": [],
   "source": []
  },
  {
   "cell_type": "code",
   "execution_count": null,
   "id": "c004e709",
   "metadata": {},
   "outputs": [],
   "source": []
  },
  {
   "cell_type": "markdown",
   "id": "8cf3a303",
   "metadata": {},
   "source": [
    "<br>\n",
    "<img src=\"imagenes/os_1.png\" width=500 style=\"float:left;margin-right:40px;margin-top:-20px;\">\n",
    "<img src=\"imagenes/os_2.png\" width=400 style=\"float:left; margin-bottom:50px;\">"
   ]
  },
  {
   "cell_type": "markdown",
   "id": "bf24f5b1",
   "metadata": {},
   "source": [
    "## Under Sampling"
   ]
  },
  {
   "cell_type": "markdown",
   "id": "db8142e5",
   "metadata": {},
   "source": [
    "* <b>RandomUnderSampler</b>\n",
    "\n",
    "* <b>NearMiss</b> (usa KNN, busca mas separacion de grupos) \n",
    "* <b>ClusterCentroids</b> (Usa KMeans, remueve primero los mas parecidos, busca mas variabilidad, me gusta mas en la bolsa)\n",
    "* CondensedNearestNeighbour (Busca la zona mas densa posible)\n",
    "* EditedNearestNeighbours ENN (remueve primeros los korea del centro)\n",
    "* RepeatedEditedNearestNeighbours (ENN recursivo)\n",
    "* AllKNN (ENN adaptativo)\n",
    "* InstanceHardnessThreshold (Usa cortes de clustering jerárquico y dendrogramas)\n",
    "* NeighbourhoodCleaningRule (remueve primero los mas discordantes, saca ruido)\n",
    "* OneSidedSelection \n",
    "* TomekLinks"
   ]
  },
  {
   "cell_type": "markdown",
   "id": "fb3c5d56",
   "metadata": {},
   "source": [
    "<img src=\"imagenes/os_3.png\" width=300>"
   ]
  },
  {
   "cell_type": "markdown",
   "id": "c3f87b7d",
   "metadata": {},
   "source": [
    "<b>NearMiss</b>\n",
    "<br>https://www.site.uottawa.ca/~nat/Workshop2003/jzhang.pdf"
   ]
  },
  {
   "cell_type": "markdown",
   "id": "c13887fe",
   "metadata": {},
   "source": [
    "<b>CondensedNearestNeighbour</b> DOI 10.1109/TIT.1968.1054155\n",
    "<br>https://sci2s.ugr.es/keel/pdf/algorithm/articulo/1979-IEEE_TIT-Chidananda-IS-MNV.pdf"
   ]
  },
  {
   "cell_type": "markdown",
   "id": "4bc9fbd1",
   "metadata": {},
   "source": [
    "OneSideSelect\n",
    "<br>https://sci2s.ugr.es/keel/pdf/algorithm/congreso/kubat97addressing.pdf"
   ]
  },
  {
   "cell_type": "markdown",
   "id": "429af1a7",
   "metadata": {},
   "source": [
    "Neighboorhood Cleaning Rule\n",
    "<br>https://www.scirp.org/pdf/JBiSE20101000009_16323745.pdf"
   ]
  },
  {
   "cell_type": "markdown",
   "id": "4f52484a",
   "metadata": {},
   "source": [
    "InstanceHardnessThreshold \n",
    "<br>https://link.springer.com/content/pdf/10.1007/s10994-013-5422-z.pdf"
   ]
  },
  {
   "cell_type": "markdown",
   "id": "0ab5d0e9",
   "metadata": {},
   "source": [
    "<b>Tomek</b> DOI 10.4236/jilsa.2015.74010\n",
    "<br>https://www.scirp.org/(S(i43dyn45teexjx455qlt3d2q))/journal/paperinformation.aspx?paperid=60996"
   ]
  },
  {
   "cell_type": "markdown",
   "id": "49584b13",
   "metadata": {},
   "source": [
    "## Instalación e importación"
   ]
  },
  {
   "cell_type": "code",
   "execution_count": 1,
   "id": "36914e31",
   "metadata": {},
   "outputs": [],
   "source": [
    "# conda install -c conda-forge imbalanced-learn"
   ]
  },
  {
   "cell_type": "code",
   "execution_count": 2,
   "id": "12ba8bf9",
   "metadata": {},
   "outputs": [],
   "source": [
    "from imblearn import over_sampling as os \n",
    "from imblearn import under_sampling as us"
   ]
  },
  {
   "cell_type": "markdown",
   "id": "2bb18608",
   "metadata": {},
   "source": [
    "## Ejemplos"
   ]
  },
  {
   "cell_type": "code",
   "execution_count": 3,
   "id": "e4bb1aec",
   "metadata": {},
   "outputs": [
    {
     "name": "stdout",
     "output_type": "stream",
     "text": [
      "[*********************100%***********************]  1 of 1 completed\n"
     ]
    },
    {
     "data": {
      "text/html": [
       "<div>\n",
       "<style scoped>\n",
       "    .dataframe tbody tr th:only-of-type {\n",
       "        vertical-align: middle;\n",
       "    }\n",
       "\n",
       "    .dataframe tbody tr th {\n",
       "        vertical-align: top;\n",
       "    }\n",
       "\n",
       "    .dataframe thead th {\n",
       "        text-align: right;\n",
       "    }\n",
       "</style>\n",
       "<table border=\"1\" class=\"dataframe\">\n",
       "  <thead>\n",
       "    <tr style=\"text-align: right;\">\n",
       "      <th></th>\n",
       "      <th>rsi</th>\n",
       "      <th>roll_vol</th>\n",
       "      <th>ema_vol</th>\n",
       "      <th>cruce_1</th>\n",
       "      <th>cruce_2</th>\n",
       "      <th>cruce_3</th>\n",
       "      <th>se_vuela</th>\n",
       "    </tr>\n",
       "    <tr>\n",
       "      <th>Date</th>\n",
       "      <th></th>\n",
       "      <th></th>\n",
       "      <th></th>\n",
       "      <th></th>\n",
       "      <th></th>\n",
       "      <th></th>\n",
       "      <th></th>\n",
       "    </tr>\n",
       "  </thead>\n",
       "  <tbody>\n",
       "    <tr>\n",
       "      <th>2002-08-01</th>\n",
       "      <td>0.516379</td>\n",
       "      <td>1.224781</td>\n",
       "      <td>2.003486</td>\n",
       "      <td>-0.916384</td>\n",
       "      <td>-0.919752</td>\n",
       "      <td>-0.918197</td>\n",
       "      <td>1</td>\n",
       "    </tr>\n",
       "    <tr>\n",
       "      <th>2002-08-02</th>\n",
       "      <td>0.516379</td>\n",
       "      <td>1.224781</td>\n",
       "      <td>1.996585</td>\n",
       "      <td>-0.917296</td>\n",
       "      <td>-0.918774</td>\n",
       "      <td>-0.919104</td>\n",
       "      <td>1</td>\n",
       "    </tr>\n",
       "    <tr>\n",
       "      <th>2002-08-05</th>\n",
       "      <td>0.506445</td>\n",
       "      <td>1.224476</td>\n",
       "      <td>1.989791</td>\n",
       "      <td>-0.918321</td>\n",
       "      <td>-0.917697</td>\n",
       "      <td>-0.919782</td>\n",
       "      <td>1</td>\n",
       "    </tr>\n",
       "    <tr>\n",
       "      <th>2002-08-06</th>\n",
       "      <td>0.486296</td>\n",
       "      <td>1.222121</td>\n",
       "      <td>1.983378</td>\n",
       "      <td>-0.919269</td>\n",
       "      <td>-0.916295</td>\n",
       "      <td>-0.920390</td>\n",
       "      <td>1</td>\n",
       "    </tr>\n",
       "    <tr>\n",
       "      <th>2002-08-07</th>\n",
       "      <td>0.486296</td>\n",
       "      <td>1.221981</td>\n",
       "      <td>1.976552</td>\n",
       "      <td>-0.920217</td>\n",
       "      <td>-0.914802</td>\n",
       "      <td>-0.921078</td>\n",
       "      <td>1</td>\n",
       "    </tr>\n",
       "    <tr>\n",
       "      <th>...</th>\n",
       "      <td>...</td>\n",
       "      <td>...</td>\n",
       "      <td>...</td>\n",
       "      <td>...</td>\n",
       "      <td>...</td>\n",
       "      <td>...</td>\n",
       "      <td>...</td>\n",
       "    </tr>\n",
       "    <tr>\n",
       "      <th>2021-01-21</th>\n",
       "      <td>0.364303</td>\n",
       "      <td>0.283208</td>\n",
       "      <td>0.821268</td>\n",
       "      <td>-0.399947</td>\n",
       "      <td>-0.176904</td>\n",
       "      <td>-0.498450</td>\n",
       "      <td>0</td>\n",
       "    </tr>\n",
       "    <tr>\n",
       "      <th>2021-01-22</th>\n",
       "      <td>0.345944</td>\n",
       "      <td>0.283797</td>\n",
       "      <td>0.818857</td>\n",
       "      <td>-0.396869</td>\n",
       "      <td>-0.179686</td>\n",
       "      <td>-0.496622</td>\n",
       "      <td>0</td>\n",
       "    </tr>\n",
       "    <tr>\n",
       "      <th>2021-01-25</th>\n",
       "      <td>0.332081</td>\n",
       "      <td>0.278527</td>\n",
       "      <td>0.816321</td>\n",
       "      <td>-0.393994</td>\n",
       "      <td>-0.183155</td>\n",
       "      <td>-0.494815</td>\n",
       "      <td>0</td>\n",
       "    </tr>\n",
       "    <tr>\n",
       "      <th>2021-01-26</th>\n",
       "      <td>0.430406</td>\n",
       "      <td>0.279987</td>\n",
       "      <td>0.817315</td>\n",
       "      <td>-0.390756</td>\n",
       "      <td>-0.184459</td>\n",
       "      <td>-0.492537</td>\n",
       "      <td>0</td>\n",
       "    </tr>\n",
       "    <tr>\n",
       "      <th>2021-01-27</th>\n",
       "      <td>0.418787</td>\n",
       "      <td>0.279008</td>\n",
       "      <td>0.814680</td>\n",
       "      <td>-0.387588</td>\n",
       "      <td>-0.186497</td>\n",
       "      <td>-0.490134</td>\n",
       "      <td>0</td>\n",
       "    </tr>\n",
       "  </tbody>\n",
       "</table>\n",
       "<p>4655 rows × 7 columns</p>\n",
       "</div>"
      ],
      "text/plain": [
       "                 rsi  roll_vol   ema_vol   cruce_1   cruce_2   cruce_3  \\\n",
       "Date                                                                     \n",
       "2002-08-01  0.516379  1.224781  2.003486 -0.916384 -0.919752 -0.918197   \n",
       "2002-08-02  0.516379  1.224781  1.996585 -0.917296 -0.918774 -0.919104   \n",
       "2002-08-05  0.506445  1.224476  1.989791 -0.918321 -0.917697 -0.919782   \n",
       "2002-08-06  0.486296  1.222121  1.983378 -0.919269 -0.916295 -0.920390   \n",
       "2002-08-07  0.486296  1.221981  1.976552 -0.920217 -0.914802 -0.921078   \n",
       "...              ...       ...       ...       ...       ...       ...   \n",
       "2021-01-21  0.364303  0.283208  0.821268 -0.399947 -0.176904 -0.498450   \n",
       "2021-01-22  0.345944  0.283797  0.818857 -0.396869 -0.179686 -0.496622   \n",
       "2021-01-25  0.332081  0.278527  0.816321 -0.393994 -0.183155 -0.494815   \n",
       "2021-01-26  0.430406  0.279987  0.817315 -0.390756 -0.184459 -0.492537   \n",
       "2021-01-27  0.418787  0.279008  0.814680 -0.387588 -0.186497 -0.490134   \n",
       "\n",
       "            se_vuela  \n",
       "Date                  \n",
       "2002-08-01         1  \n",
       "2002-08-02         1  \n",
       "2002-08-05         1  \n",
       "2002-08-06         1  \n",
       "2002-08-07         1  \n",
       "...              ...  \n",
       "2021-01-21         0  \n",
       "2021-01-22         0  \n",
       "2021-01-25         0  \n",
       "2021-01-26         0  \n",
       "2021-01-27         0  \n",
       "\n",
       "[4655 rows x 7 columns]"
      ]
     },
     "execution_count": 3,
     "metadata": {},
     "output_type": "execute_result"
    }
   ],
   "source": [
    "import pandas as pd\n",
    "import numpy as np\n",
    "import yfinance as yf\n",
    "\n",
    "\n",
    "medias = ((63, 422), (38, 350), (72, 506))\n",
    "ventana = 100\n",
    "\n",
    "data = yf.download('GGAL', start='2000-01-01')\n",
    "\n",
    "\n",
    "dif = data['Adj Close'].diff()\n",
    "win = pd.DataFrame(np.where(dif > 0, dif, 0))\n",
    "loss = pd.DataFrame(np.where(dif < 0, abs(dif), 0))\n",
    "ema_win = win.ewm(alpha=1/14).mean()\n",
    "ema_loss = loss.ewm(alpha=1/14).mean()\n",
    "rs = ema_win / ema_loss\n",
    "rsi = 100 - (100 / (1 + rs))\n",
    "rsi.index = data.index\n",
    "\n",
    "data['pctChange'] = data['Adj Close'].pct_change()\n",
    "data['fw'] = np.log(data['Adj Close'].shift(-ventana)/data['Adj Close'])\n",
    "data['rsi'] = rsi/100\n",
    "data['roll_vol'] = data['pctChange'].rolling(60).std() * 60**0.5\n",
    "data['ema_vol'] = data['pctChange'].ewm(span=300).std() * 300**0.5\n",
    "data['cruce_1'] = data['Adj Close'].rolling(medias[0][0]).mean()/data['Adj Close'].rolling(medias[0][1]).mean()-1\n",
    "data['cruce_2'] = data['Adj Close'].rolling(medias[1][0]).mean()/data['Adj Close'].rolling(medias[1][1]).mean()-1\n",
    "data['cruce_3'] = data['Adj Close'].rolling(medias[2][0]).mean()/data['Adj Close'].rolling(medias[2][1]).mean()-1\n",
    "data.dropna(inplace=True)\n",
    "\n",
    "data['se_vuela'] = np.where(data.fw > 0.5, 1, 0)\n",
    "\n",
    "df = data.iloc[:, 8:]\n",
    "df"
   ]
  },
  {
   "cell_type": "code",
   "execution_count": 4,
   "id": "b528dd10",
   "metadata": {},
   "outputs": [
    {
     "data": {
      "text/plain": [
       "se_vuela\n",
       "0    4086\n",
       "1     569\n",
       "dtype: int64"
      ]
     },
     "execution_count": 4,
     "metadata": {},
     "output_type": "execute_result"
    }
   ],
   "source": [
    "df.groupby('se_vuela').size()"
   ]
  },
  {
   "cell_type": "code",
   "execution_count": 5,
   "id": "60d82de1",
   "metadata": {},
   "outputs": [],
   "source": [
    "X, Y = df.iloc[:,:-1], df.iloc[:,-1]"
   ]
  },
  {
   "cell_type": "markdown",
   "id": "1e3dcd84",
   "metadata": {},
   "source": [
    "### OS, Random, SMOTE"
   ]
  },
  {
   "cell_type": "code",
   "execution_count": 6,
   "id": "a7bb9e9a",
   "metadata": {},
   "outputs": [],
   "source": [
    "# Uso oversampling al azar\n",
    "# Repite muestras del df original aleatoriamente\n",
    "\n",
    "X_os, Y_os = os.RandomOverSampler().fit_resample(X,Y)"
   ]
  },
  {
   "cell_type": "code",
   "execution_count": 7,
   "id": "6caa4236",
   "metadata": {},
   "outputs": [
    {
     "data": {
      "text/html": [
       "<div>\n",
       "<style scoped>\n",
       "    .dataframe tbody tr th:only-of-type {\n",
       "        vertical-align: middle;\n",
       "    }\n",
       "\n",
       "    .dataframe tbody tr th {\n",
       "        vertical-align: top;\n",
       "    }\n",
       "\n",
       "    .dataframe thead th {\n",
       "        text-align: right;\n",
       "    }\n",
       "</style>\n",
       "<table border=\"1\" class=\"dataframe\">\n",
       "  <thead>\n",
       "    <tr style=\"text-align: right;\">\n",
       "      <th></th>\n",
       "      <th>rsi</th>\n",
       "      <th>roll_vol</th>\n",
       "      <th>ema_vol</th>\n",
       "      <th>cruce_1</th>\n",
       "      <th>cruce_2</th>\n",
       "      <th>cruce_3</th>\n",
       "      <th>se_vuela</th>\n",
       "    </tr>\n",
       "  </thead>\n",
       "  <tbody>\n",
       "    <tr>\n",
       "      <th>0</th>\n",
       "      <td>0.516379</td>\n",
       "      <td>1.224781</td>\n",
       "      <td>2.003486</td>\n",
       "      <td>-0.916384</td>\n",
       "      <td>-0.919752</td>\n",
       "      <td>-0.918197</td>\n",
       "      <td>1</td>\n",
       "    </tr>\n",
       "    <tr>\n",
       "      <th>1</th>\n",
       "      <td>0.516379</td>\n",
       "      <td>1.224781</td>\n",
       "      <td>1.996585</td>\n",
       "      <td>-0.917296</td>\n",
       "      <td>-0.918774</td>\n",
       "      <td>-0.919104</td>\n",
       "      <td>1</td>\n",
       "    </tr>\n",
       "    <tr>\n",
       "      <th>2</th>\n",
       "      <td>0.506445</td>\n",
       "      <td>1.224476</td>\n",
       "      <td>1.989791</td>\n",
       "      <td>-0.918321</td>\n",
       "      <td>-0.917697</td>\n",
       "      <td>-0.919782</td>\n",
       "      <td>1</td>\n",
       "    </tr>\n",
       "    <tr>\n",
       "      <th>3</th>\n",
       "      <td>0.486296</td>\n",
       "      <td>1.222121</td>\n",
       "      <td>1.983378</td>\n",
       "      <td>-0.919269</td>\n",
       "      <td>-0.916295</td>\n",
       "      <td>-0.920390</td>\n",
       "      <td>1</td>\n",
       "    </tr>\n",
       "    <tr>\n",
       "      <th>4</th>\n",
       "      <td>0.486296</td>\n",
       "      <td>1.221981</td>\n",
       "      <td>1.976552</td>\n",
       "      <td>-0.920217</td>\n",
       "      <td>-0.914802</td>\n",
       "      <td>-0.921078</td>\n",
       "      <td>1</td>\n",
       "    </tr>\n",
       "    <tr>\n",
       "      <th>...</th>\n",
       "      <td>...</td>\n",
       "      <td>...</td>\n",
       "      <td>...</td>\n",
       "      <td>...</td>\n",
       "      <td>...</td>\n",
       "      <td>...</td>\n",
       "      <td>...</td>\n",
       "    </tr>\n",
       "    <tr>\n",
       "      <th>8167</th>\n",
       "      <td>0.273690</td>\n",
       "      <td>0.197574</td>\n",
       "      <td>0.881206</td>\n",
       "      <td>0.060269</td>\n",
       "      <td>-0.052148</td>\n",
       "      <td>0.240660</td>\n",
       "      <td>1</td>\n",
       "    </tr>\n",
       "    <tr>\n",
       "      <th>8168</th>\n",
       "      <td>0.565353</td>\n",
       "      <td>0.145415</td>\n",
       "      <td>0.382658</td>\n",
       "      <td>-0.195538</td>\n",
       "      <td>-0.167581</td>\n",
       "      <td>-0.200864</td>\n",
       "      <td>1</td>\n",
       "    </tr>\n",
       "    <tr>\n",
       "      <th>8169</th>\n",
       "      <td>0.342784</td>\n",
       "      <td>0.270442</td>\n",
       "      <td>0.581358</td>\n",
       "      <td>0.453891</td>\n",
       "      <td>0.269738</td>\n",
       "      <td>0.574725</td>\n",
       "      <td>1</td>\n",
       "    </tr>\n",
       "    <tr>\n",
       "      <th>8170</th>\n",
       "      <td>0.617008</td>\n",
       "      <td>0.386794</td>\n",
       "      <td>0.876273</td>\n",
       "      <td>-0.632909</td>\n",
       "      <td>-0.599096</td>\n",
       "      <td>-0.676379</td>\n",
       "      <td>1</td>\n",
       "    </tr>\n",
       "    <tr>\n",
       "      <th>8171</th>\n",
       "      <td>0.601569</td>\n",
       "      <td>0.141247</td>\n",
       "      <td>0.472887</td>\n",
       "      <td>-0.046219</td>\n",
       "      <td>-0.015188</td>\n",
       "      <td>-0.135988</td>\n",
       "      <td>1</td>\n",
       "    </tr>\n",
       "  </tbody>\n",
       "</table>\n",
       "<p>8172 rows × 7 columns</p>\n",
       "</div>"
      ],
      "text/plain": [
       "           rsi  roll_vol   ema_vol   cruce_1   cruce_2   cruce_3  se_vuela\n",
       "0     0.516379  1.224781  2.003486 -0.916384 -0.919752 -0.918197         1\n",
       "1     0.516379  1.224781  1.996585 -0.917296 -0.918774 -0.919104         1\n",
       "2     0.506445  1.224476  1.989791 -0.918321 -0.917697 -0.919782         1\n",
       "3     0.486296  1.222121  1.983378 -0.919269 -0.916295 -0.920390         1\n",
       "4     0.486296  1.221981  1.976552 -0.920217 -0.914802 -0.921078         1\n",
       "...        ...       ...       ...       ...       ...       ...       ...\n",
       "8167  0.273690  0.197574  0.881206  0.060269 -0.052148  0.240660         1\n",
       "8168  0.565353  0.145415  0.382658 -0.195538 -0.167581 -0.200864         1\n",
       "8169  0.342784  0.270442  0.581358  0.453891  0.269738  0.574725         1\n",
       "8170  0.617008  0.386794  0.876273 -0.632909 -0.599096 -0.676379         1\n",
       "8171  0.601569  0.141247  0.472887 -0.046219 -0.015188 -0.135988         1\n",
       "\n",
       "[8172 rows x 7 columns]"
      ]
     },
     "execution_count": 7,
     "metadata": {},
     "output_type": "execute_result"
    }
   ],
   "source": [
    "df_os = pd.concat([X_os,Y_os], axis=1)\n",
    "df_os"
   ]
  },
  {
   "cell_type": "code",
   "execution_count": 8,
   "id": "b3f08fec",
   "metadata": {},
   "outputs": [
    {
     "data": {
      "text/plain": [
       "se_vuela\n",
       "0    4086\n",
       "1    4086\n",
       "dtype: int64"
      ]
     },
     "execution_count": 8,
     "metadata": {},
     "output_type": "execute_result"
    }
   ],
   "source": [
    "df_os.groupby('se_vuela').size()"
   ]
  },
  {
   "cell_type": "code",
   "execution_count": 10,
   "id": "b592539f",
   "metadata": {},
   "outputs": [
    {
     "data": {
      "text/html": [
       "<div>\n",
       "<style scoped>\n",
       "    .dataframe tbody tr th:only-of-type {\n",
       "        vertical-align: middle;\n",
       "    }\n",
       "\n",
       "    .dataframe tbody tr th {\n",
       "        vertical-align: top;\n",
       "    }\n",
       "\n",
       "    .dataframe thead th {\n",
       "        text-align: right;\n",
       "    }\n",
       "</style>\n",
       "<table border=\"1\" class=\"dataframe\">\n",
       "  <thead>\n",
       "    <tr style=\"text-align: right;\">\n",
       "      <th></th>\n",
       "      <th>rsi</th>\n",
       "      <th>roll_vol</th>\n",
       "      <th>ema_vol</th>\n",
       "      <th>cruce_1</th>\n",
       "      <th>cruce_2</th>\n",
       "      <th>cruce_3</th>\n",
       "    </tr>\n",
       "    <tr>\n",
       "      <th>se_vuela</th>\n",
       "      <th></th>\n",
       "      <th></th>\n",
       "      <th></th>\n",
       "      <th></th>\n",
       "      <th></th>\n",
       "      <th></th>\n",
       "    </tr>\n",
       "  </thead>\n",
       "  <tbody>\n",
       "    <tr>\n",
       "      <th>0</th>\n",
       "      <td>0.518840</td>\n",
       "      <td>0.245184</td>\n",
       "      <td>0.636189</td>\n",
       "      <td>0.110881</td>\n",
       "      <td>0.104260</td>\n",
       "      <td>0.133124</td>\n",
       "    </tr>\n",
       "    <tr>\n",
       "      <th>1</th>\n",
       "      <td>0.521713</td>\n",
       "      <td>0.514675</td>\n",
       "      <td>1.250846</td>\n",
       "      <td>-0.106609</td>\n",
       "      <td>-0.049032</td>\n",
       "      <td>-0.186543</td>\n",
       "    </tr>\n",
       "  </tbody>\n",
       "</table>\n",
       "</div>"
      ],
      "text/plain": [
       "               rsi  roll_vol   ema_vol   cruce_1   cruce_2   cruce_3\n",
       "se_vuela                                                            \n",
       "0         0.518840  0.245184  0.636189  0.110881  0.104260  0.133124\n",
       "1         0.521713  0.514675  1.250846 -0.106609 -0.049032 -0.186543"
      ]
     },
     "execution_count": 10,
     "metadata": {},
     "output_type": "execute_result"
    }
   ],
   "source": [
    "df.groupby('se_vuela').mean()"
   ]
  },
  {
   "cell_type": "code",
   "execution_count": 9,
   "id": "a7f8d416",
   "metadata": {},
   "outputs": [
    {
     "data": {
      "text/html": [
       "<div>\n",
       "<style scoped>\n",
       "    .dataframe tbody tr th:only-of-type {\n",
       "        vertical-align: middle;\n",
       "    }\n",
       "\n",
       "    .dataframe tbody tr th {\n",
       "        vertical-align: top;\n",
       "    }\n",
       "\n",
       "    .dataframe thead th {\n",
       "        text-align: right;\n",
       "    }\n",
       "</style>\n",
       "<table border=\"1\" class=\"dataframe\">\n",
       "  <thead>\n",
       "    <tr style=\"text-align: right;\">\n",
       "      <th></th>\n",
       "      <th>rsi</th>\n",
       "      <th>roll_vol</th>\n",
       "      <th>ema_vol</th>\n",
       "      <th>cruce_1</th>\n",
       "      <th>cruce_2</th>\n",
       "      <th>cruce_3</th>\n",
       "    </tr>\n",
       "    <tr>\n",
       "      <th>se_vuela</th>\n",
       "      <th></th>\n",
       "      <th></th>\n",
       "      <th></th>\n",
       "      <th></th>\n",
       "      <th></th>\n",
       "      <th></th>\n",
       "    </tr>\n",
       "  </thead>\n",
       "  <tbody>\n",
       "    <tr>\n",
       "      <th>0</th>\n",
       "      <td>0.518840</td>\n",
       "      <td>0.245184</td>\n",
       "      <td>0.636189</td>\n",
       "      <td>0.110881</td>\n",
       "      <td>0.104260</td>\n",
       "      <td>0.133124</td>\n",
       "    </tr>\n",
       "    <tr>\n",
       "      <th>1</th>\n",
       "      <td>0.523168</td>\n",
       "      <td>0.513915</td>\n",
       "      <td>1.259650</td>\n",
       "      <td>-0.109167</td>\n",
       "      <td>-0.049164</td>\n",
       "      <td>-0.189723</td>\n",
       "    </tr>\n",
       "  </tbody>\n",
       "</table>\n",
       "</div>"
      ],
      "text/plain": [
       "               rsi  roll_vol   ema_vol   cruce_1   cruce_2   cruce_3\n",
       "se_vuela                                                            \n",
       "0         0.518840  0.245184  0.636189  0.110881  0.104260  0.133124\n",
       "1         0.523168  0.513915  1.259650 -0.109167 -0.049164 -0.189723"
      ]
     },
     "execution_count": 9,
     "metadata": {},
     "output_type": "execute_result"
    }
   ],
   "source": [
    "X_os, Y_os = os.RandomOverSampler(random_state=0).fit_resample(X,Y)\n",
    "df_os = pd.concat([X_os,Y_os], axis=1)\n",
    "df_os.groupby('se_vuela').mean()"
   ]
  },
  {
   "cell_type": "code",
   "execution_count": 11,
   "id": "c25ed239",
   "metadata": {},
   "outputs": [
    {
     "data": {
      "text/html": [
       "<div>\n",
       "<style scoped>\n",
       "    .dataframe tbody tr th:only-of-type {\n",
       "        vertical-align: middle;\n",
       "    }\n",
       "\n",
       "    .dataframe tbody tr th {\n",
       "        vertical-align: top;\n",
       "    }\n",
       "\n",
       "    .dataframe thead th {\n",
       "        text-align: right;\n",
       "    }\n",
       "</style>\n",
       "<table border=\"1\" class=\"dataframe\">\n",
       "  <thead>\n",
       "    <tr style=\"text-align: right;\">\n",
       "      <th></th>\n",
       "      <th>rsi</th>\n",
       "      <th>roll_vol</th>\n",
       "      <th>ema_vol</th>\n",
       "      <th>cruce_1</th>\n",
       "      <th>cruce_2</th>\n",
       "      <th>cruce_3</th>\n",
       "    </tr>\n",
       "    <tr>\n",
       "      <th>se_vuela</th>\n",
       "      <th></th>\n",
       "      <th></th>\n",
       "      <th></th>\n",
       "      <th></th>\n",
       "      <th></th>\n",
       "      <th></th>\n",
       "    </tr>\n",
       "  </thead>\n",
       "  <tbody>\n",
       "    <tr>\n",
       "      <th>0</th>\n",
       "      <td>0.518840</td>\n",
       "      <td>0.245184</td>\n",
       "      <td>0.636189</td>\n",
       "      <td>0.110881</td>\n",
       "      <td>0.104260</td>\n",
       "      <td>0.133124</td>\n",
       "    </tr>\n",
       "    <tr>\n",
       "      <th>1</th>\n",
       "      <td>0.521107</td>\n",
       "      <td>0.517905</td>\n",
       "      <td>1.250186</td>\n",
       "      <td>-0.100388</td>\n",
       "      <td>-0.044443</td>\n",
       "      <td>-0.180808</td>\n",
       "    </tr>\n",
       "  </tbody>\n",
       "</table>\n",
       "</div>"
      ],
      "text/plain": [
       "               rsi  roll_vol   ema_vol   cruce_1   cruce_2   cruce_3\n",
       "se_vuela                                                            \n",
       "0         0.518840  0.245184  0.636189  0.110881  0.104260  0.133124\n",
       "1         0.521107  0.517905  1.250186 -0.100388 -0.044443 -0.180808"
      ]
     },
     "execution_count": 11,
     "metadata": {},
     "output_type": "execute_result"
    }
   ],
   "source": [
    "X_os, Y_os = os.SMOTE(random_state=0).fit_resample(X,Y)\n",
    "df_os = pd.concat([X_os,Y_os], axis=1)\n",
    "df_os.groupby('se_vuela').mean()"
   ]
  },
  {
   "cell_type": "markdown",
   "id": "f5caa909",
   "metadata": {},
   "source": [
    "### US, Random, NearMiss, "
   ]
  },
  {
   "cell_type": "code",
   "execution_count": 12,
   "id": "f3abbbe5",
   "metadata": {},
   "outputs": [
    {
     "data": {
      "text/plain": [
       "se_vuela\n",
       "0    4086\n",
       "1     569\n",
       "dtype: int64"
      ]
     },
     "execution_count": 12,
     "metadata": {},
     "output_type": "execute_result"
    }
   ],
   "source": [
    "df.groupby('se_vuela').size()"
   ]
  },
  {
   "cell_type": "code",
   "execution_count": 13,
   "id": "59acf810",
   "metadata": {},
   "outputs": [
    {
     "data": {
      "text/plain": [
       "(se_vuela\n",
       " 0    569\n",
       " 1    569\n",
       " dtype: int64,\n",
       "                rsi  roll_vol   ema_vol   cruce_1   cruce_2   cruce_3\n",
       " se_vuela                                                            \n",
       " 0         0.516354  0.247538  0.646319  0.095657  0.095728  0.116444\n",
       " 1         0.521713  0.514675  1.250846 -0.106609 -0.049032 -0.186543)"
      ]
     },
     "execution_count": 13,
     "metadata": {},
     "output_type": "execute_result"
    }
   ],
   "source": [
    "X_us, Y_us = us.RandomUnderSampler(random_state=0).fit_resample(X,Y)\n",
    "df_us = pd.concat([X_us,Y_us], axis=1)\n",
    "df_us.groupby('se_vuela').size(),    df_us.groupby('se_vuela').mean()"
   ]
  },
  {
   "cell_type": "code",
   "execution_count": 14,
   "id": "2d87a95d",
   "metadata": {},
   "outputs": [
    {
     "data": {
      "text/plain": [
       "(se_vuela\n",
       " 0    569\n",
       " 1    569\n",
       " dtype: int64,\n",
       "                rsi  roll_vol   ema_vol   cruce_1   cruce_2   cruce_3\n",
       " se_vuela                                                            \n",
       " 0         0.535140  0.235621  0.679130  0.152341  0.150661  0.156053\n",
       " 1         0.521713  0.514675  1.250846 -0.106609 -0.049032 -0.186543)"
      ]
     },
     "execution_count": 14,
     "metadata": {},
     "output_type": "execute_result"
    }
   ],
   "source": [
    "X_us, Y_us = us.NearMiss().fit_resample(X,Y)\n",
    "df_us = pd.concat([X_us,Y_us], axis=1)\n",
    "df_us.groupby('se_vuela').size(),    df_us.groupby('se_vuela').mean()"
   ]
  },
  {
   "cell_type": "code",
   "execution_count": null,
   "id": "72e8e5be",
   "metadata": {},
   "outputs": [],
   "source": []
  },
  {
   "cell_type": "markdown",
   "id": "258a242a",
   "metadata": {},
   "source": [
    "# Criterio de Entropía e impureza de gini"
   ]
  },
  {
   "cell_type": "markdown",
   "id": "dcb7ddb0",
   "metadata": {},
   "source": [
    "## Fórmulas"
   ]
  },
  {
   "cell_type": "markdown",
   "id": "b4a9de8d",
   "metadata": {},
   "source": [
    "$$ {\\text{Ganancia de información, Entropia}}(S)= \\large - \\sum _{i=1}^{n}p_{i}\\log _{2}p_{i} $$"
   ]
  },
  {
   "cell_type": "markdown",
   "id": "4493eff2",
   "metadata": {},
   "source": [
    "$$ {\\text{Impureza de Gini} \\hspace{0.5cm}  \\large I_{G}(p)=\\sum _{i=1}^{m}p_{i}(1-p_{i})=\\sum _{i=1}^{m}(p_{i}-{p_{i}}^{2})=1-\\sum _{i=1}^{m}{p_{i}}^{2}} $$"
   ]
  },
  {
   "cell_type": "markdown",
   "id": "91420867",
   "metadata": {},
   "source": [
    "## Implementamos las funciones"
   ]
  },
  {
   "cell_type": "code",
   "execution_count": 1,
   "id": "31c9dcd0",
   "metadata": {},
   "outputs": [],
   "source": [
    "from math import log\n",
    "import numpy as np\n",
    "import pandas as pd\n",
    "\n",
    "def gini(p):\n",
    "    return 1 - (p**2 + (1-p)**2)\n",
    "\n",
    "def entropy(p, base=2):\n",
    "    try:\n",
    "        var =  abs(p*log(p, base)+(1-p)*log(1-p, base))\n",
    "        return var\n",
    "    except (ValueError):\n",
    "        return 0"
   ]
  },
  {
   "cell_type": "code",
   "execution_count": 2,
   "id": "0f20012f",
   "metadata": {},
   "outputs": [
    {
     "data": {
      "text/html": [
       "<div>\n",
       "<style scoped>\n",
       "    .dataframe tbody tr th:only-of-type {\n",
       "        vertical-align: middle;\n",
       "    }\n",
       "\n",
       "    .dataframe tbody tr th {\n",
       "        vertical-align: top;\n",
       "    }\n",
       "\n",
       "    .dataframe thead th {\n",
       "        text-align: right;\n",
       "    }\n",
       "</style>\n",
       "<table border=\"1\" class=\"dataframe\">\n",
       "  <thead>\n",
       "    <tr style=\"text-align: right;\">\n",
       "      <th></th>\n",
       "      <th>Gini</th>\n",
       "      <th>Entropy</th>\n",
       "    </tr>\n",
       "    <tr>\n",
       "      <th>P</th>\n",
       "      <th></th>\n",
       "      <th></th>\n",
       "    </tr>\n",
       "  </thead>\n",
       "  <tbody>\n",
       "    <tr>\n",
       "      <th>0.00</th>\n",
       "      <td>0.0000</td>\n",
       "      <td>0.000000</td>\n",
       "    </tr>\n",
       "    <tr>\n",
       "      <th>0.01</th>\n",
       "      <td>0.0198</td>\n",
       "      <td>0.080793</td>\n",
       "    </tr>\n",
       "    <tr>\n",
       "      <th>0.02</th>\n",
       "      <td>0.0392</td>\n",
       "      <td>0.141441</td>\n",
       "    </tr>\n",
       "    <tr>\n",
       "      <th>0.03</th>\n",
       "      <td>0.0582</td>\n",
       "      <td>0.194392</td>\n",
       "    </tr>\n",
       "    <tr>\n",
       "      <th>0.04</th>\n",
       "      <td>0.0768</td>\n",
       "      <td>0.242292</td>\n",
       "    </tr>\n",
       "    <tr>\n",
       "      <th>...</th>\n",
       "      <td>...</td>\n",
       "      <td>...</td>\n",
       "    </tr>\n",
       "    <tr>\n",
       "      <th>0.95</th>\n",
       "      <td>0.0950</td>\n",
       "      <td>0.286397</td>\n",
       "    </tr>\n",
       "    <tr>\n",
       "      <th>0.96</th>\n",
       "      <td>0.0768</td>\n",
       "      <td>0.242292</td>\n",
       "    </tr>\n",
       "    <tr>\n",
       "      <th>0.97</th>\n",
       "      <td>0.0582</td>\n",
       "      <td>0.194392</td>\n",
       "    </tr>\n",
       "    <tr>\n",
       "      <th>0.98</th>\n",
       "      <td>0.0392</td>\n",
       "      <td>0.141441</td>\n",
       "    </tr>\n",
       "    <tr>\n",
       "      <th>0.99</th>\n",
       "      <td>0.0198</td>\n",
       "      <td>0.080793</td>\n",
       "    </tr>\n",
       "  </tbody>\n",
       "</table>\n",
       "<p>100 rows × 2 columns</p>\n",
       "</div>"
      ],
      "text/plain": [
       "        Gini   Entropy\n",
       "P                     \n",
       "0.00  0.0000  0.000000\n",
       "0.01  0.0198  0.080793\n",
       "0.02  0.0392  0.141441\n",
       "0.03  0.0582  0.194392\n",
       "0.04  0.0768  0.242292\n",
       "...      ...       ...\n",
       "0.95  0.0950  0.286397\n",
       "0.96  0.0768  0.242292\n",
       "0.97  0.0582  0.194392\n",
       "0.98  0.0392  0.141441\n",
       "0.99  0.0198  0.080793\n",
       "\n",
       "[100 rows x 2 columns]"
      ]
     },
     "execution_count": 2,
     "metadata": {},
     "output_type": "execute_result"
    }
   ],
   "source": [
    "p_subas = np.linspace(0,1,100, endpoint=False)\n",
    "data_gini = [gini(x) for x in p_subas]\n",
    "data_entropy = [entropy(x) for x in p_subas]\n",
    "df = pd.DataFrame(zip(p_subas, data_gini, data_entropy), columns=['P','Gini','Entropy']).set_index('P')\n",
    "df"
   ]
  },
  {
   "cell_type": "code",
   "execution_count": 3,
   "id": "b833b4c0",
   "metadata": {},
   "outputs": [
    {
     "data": {
      "text/plain": [
       "<AxesSubplot:xlabel='P'>"
      ]
     },
     "execution_count": 3,
     "metadata": {},
     "output_type": "execute_result"
    },
    {
     "data": {
      "image/png": "[encoded data removed]",
      "text/plain": [
       "<Figure size 432x288 with 1 Axes>"
      ]
     },
     "metadata": {
      "needs_background": "light"
     },
     "output_type": "display_data"
    }
   ],
   "source": [
    "df.plot()"
   ]
  },
  {
   "cell_type": "code",
   "execution_count": 4,
   "id": "c075fb95",
   "metadata": {},
   "outputs": [
    {
     "data": {
      "text/plain": [
       "<AxesSubplot:xlabel='P'>"
      ]
     },
     "execution_count": 4,
     "metadata": {},
     "output_type": "execute_result"
    },
    {
     "data": {
      "image/png": "[encoded data removed]",
      "text/plain": [
       "<Figure size 432x288 with 1 Axes>"
      ]
     },
     "metadata": {
      "needs_background": "light"
     },
     "output_type": "display_data"
    }
   ],
   "source": [
    "df_escalada = df.copy()\n",
    "df_escalada['Entropy'] /= 2\n",
    "df_escalada.plot()"
   ]
  },
  {
   "cell_type": "markdown",
   "id": "9613a02a",
   "metadata": {},
   "source": [
    "## Sensibilidad, Derivamos"
   ]
  },
  {
   "cell_type": "code",
   "execution_count": 5,
   "id": "bbeb032e",
   "metadata": {},
   "outputs": [
    {
     "data": {
      "text/plain": [
       "Text(0.5, 1.0, 'Zona mas definida')"
      ]
     },
     "execution_count": 5,
     "metadata": {},
     "output_type": "execute_result"
    },
    {
     "data": {
      "image/png": "[encoded data removed]",
      "text/plain": [
       "<Figure size 1080x360 with 3 Axes>"
      ]
     },
     "metadata": {
      "needs_background": "light"
     },
     "output_type": "display_data"
    }
   ],
   "source": [
    "import matplotlib.pyplot as plt\n",
    "\n",
    "fig, ax = plt.subplots(figsize=(15,5), ncols=3)\n",
    "\n",
    "df.pct_change().plot(ax=ax[0])\n",
    "df.pct_change().plot(xlim=(.3,.7), ylim=(-.02,.02), ax=ax[1])\n",
    "df.pct_change().plot(xlim=(.8,1), ylim=(-.5,0), ax=ax[2])\n",
    "ax[1].set_title('Zona mas difusa')\n",
    "ax[2].set_title('Zona mas definida')"
   ]
  },
  {
   "cell_type": "code",
   "execution_count": 6,
   "id": "b7424592",
   "metadata": {},
   "outputs": [
    {
     "data": {
      "text/plain": [
       "Gini       0.067372\n",
       "Entropy    0.052136\n",
       "dtype: float64"
      ]
     },
     "execution_count": 6,
     "metadata": {},
     "output_type": "execute_result"
    }
   ],
   "source": [
    "tasas = df.pct_change().abs().iloc[2:]\n",
    "tasas.mean()"
   ]
  },
  {
   "cell_type": "code",
   "execution_count": null,
   "id": "ee894397",
   "metadata": {},
   "outputs": [],
   "source": []
  },
  {
   "cell_type": "code",
   "execution_count": null,
   "id": "2ff3e04c",
   "metadata": {},
   "outputs": [],
   "source": []
  },
  {
   "cell_type": "code",
   "execution_count": null,
   "id": "e34c41f9",
   "metadata": {},
   "outputs": [],
   "source": []
  },
  {
   "cell_type": "code",
   "execution_count": null,
   "id": "616500a5",
   "metadata": {},
   "outputs": [],
   "source": [
    "# Aprendizaje Supervisado: Algoritmos de Clasificación\n",
    "\n",
    "<img src=\"imagenes/ia_clas0.png\" width=750>\n",
    "\n",
    "<img src=\"imagenes/ia.jfif\" width=600>\n",
    "\n",
    "Tipos de algoritmos para resolver una clasificación:\n",
    "    \n",
    "    * Arboles de decisión\n",
    "    * Máquinas de vectores de soporte\n",
    "    * Naive Bayes\n",
    "    * Regresión Logística\n",
    "    * Bosques Aleatorios\n",
    "\n",
    "# Arboles de decisión\n",
    "\n",
    "<img src='imagenes/gashe.png'>\n",
    "\n",
    "## Preparamos los datos\n",
    "\n",
    "import yfinance as yf, numpy as np, pandas as pd\n",
    "\n",
    "medias = ((63, 422), (38, 350), (72, 506))\n",
    "ventana = 100\n",
    "\n",
    "data = yf.download('GGAL', start='2000-01-01')\n",
    "\n",
    "dif = data['Adj Close'].diff()\n",
    "win = pd.DataFrame(np.where(dif > 0, dif, 0))\n",
    "loss = pd.DataFrame(np.where(dif < 0, abs(dif), 0))\n",
    "ema_win = win.ewm(alpha=1/14).mean()\n",
    "ema_loss = loss.ewm(alpha=1/14).mean()\n",
    "rs = ema_win / ema_loss\n",
    "rsi = 100 - (100 / (1 + rs))\n",
    "rsi.index = data.index\n",
    "\n",
    "data['pctChange'] = data['Adj Close'].pct_change()\n",
    "data['fw'] = data['Adj Close'].shift(-ventana)/data['Adj Close']-1\n",
    "data['rsi'] = rsi/100\n",
    "data['roll_vol'] = data['pctChange'].rolling(60).std() * 60**0.5\n",
    "data['ema_vol'] = data['pctChange'].ewm(span=300).std() * 300**0.5\n",
    "data['cruce_1'] = data['Adj Close'].rolling(medias[0][0]).mean()/data['Adj Close'].rolling(medias[0][1]).mean()-1\n",
    "data['cruce_2'] = data['Adj Close'].rolling(medias[1][0]).mean()/data['Adj Close'].rolling(medias[1][1]).mean()-1\n",
    "data['cruce_3'] = data['Adj Close'].rolling(medias[2][0]).mean()/data['Adj Close'].rolling(medias[2][1]).mean()-1\n",
    "\n",
    "data['target'] = 0\n",
    "data.loc[data.fw >= 0 , 'target'] = 1\n",
    "\n",
    "data_full = data.copy() # Esto nos va a servir despues cuando necesitemos los de hoy (sin etiquetas aun)\n",
    "data = data.round(4).dropna()\n",
    "\n",
    "y = list(data['target'])\n",
    "X = data.iloc[:,-7:-1]\n",
    "\n",
    "X\n",
    "\n",
    "sum(y), len(y)   # fw positivo, totales\n",
    "\n",
    "## Separamos los datos de entrenamiento de los de validación\n",
    "\n",
    "len(X), len(y)\n",
    "\n",
    "from sklearn.model_selection import train_test_split\n",
    "\n",
    "# Entrenamos con el 60% de los datos al modelo\n",
    "X_train, X_test, y_train, y_test = train_test_split(X, y, test_size=0.4)\n",
    "\n",
    "len(X_train)\n",
    "\n",
    "len(X_test)\n",
    "\n",
    "X_train[:10]\n",
    "\n",
    "## Importamos el modelo\n",
    "\n",
    "from sklearn.tree import DecisionTreeClassifier\n",
    "modelo = DecisionTreeClassifier(criterion = 'entropy', max_depth=6) # por default es gini, otros entropy\n",
    "\n",
    "Parámetros importantes:\n",
    "    \n",
    "* criterion: entropy/gini\n",
    "* <b>max_depth</b>: Cantidad de subnodos desde cada hilo ppal (profundidad)\n",
    "* random_state\n",
    "\n",
    "$$ {\\text{Ganancia de información, Entropia}}(S)= \\large - \\sum _{i=1}^{n}p_{i}\\log _{2}p_{i} $$\n",
    "\n",
    "$$ {\\text{Impureza de Gini} \\hspace{0.5cm}  \\large I_{G}(p)=\\sum _{i=1}^{m}p_{i}(1-p_{i})=\\sum _{i=1}^{m}(p_{i}-{p_{i}}^{2})=1-\\sum _{i=1}^{m}{p_{i}}^{2}} $$\n",
    "\n",
    "Ver Shannon y Weaber formulacion matematica de la teoría de la información\n",
    "\n",
    "## Entrenamiento\n",
    "\n",
    "modelo.fit(X_train, y_train)\n",
    "\n",
    "## Corremos el modelo\n",
    "\n",
    "y_pred = modelo.predict(X_test)\n",
    "y_pred\n",
    "\n",
    "pd.DataFrame(y_pred).groupby(0).size()\n",
    "\n",
    "modelo.predict(X_test)\n",
    "\n",
    "## Obtenemos las predicciones de probabilidad \n",
    "\n",
    "modelo.predict_proba(X_test)\n",
    "\n",
    "## Matriz de Confusión\n",
    "\n",
    "<img src='imagenes/machine_learning_mc_sklearn.png' width='600'>\n",
    "\n",
    "### Matriz de confusión \"a mano\"\n",
    "\n",
    "resultados = list(zip(y_test, y_pred))\n",
    "\n",
    "manteca = 0\n",
    "mike = 0\n",
    "yoteavise = 0\n",
    "allin = 0\n",
    "\n",
    "for real, prediccion in resultados:\n",
    "    \n",
    "    if (real==0) & (prediccion==0):\n",
    "        # Verdaderos negativos\n",
    "        yoteavise +=1\n",
    "    if (real==0) & (prediccion==1):\n",
    "        # Falsos positivos\n",
    "        allin +=1\n",
    "    if (real==1) & (prediccion==0):\n",
    "        # Falsos negativos\n",
    "        mike +=1\n",
    "    if (real==1) & (prediccion==1):\n",
    "        # Verdaderos positivos\n",
    "        manteca +=1\n",
    "\n",
    "\n",
    "yoteavise, allin, mike, manteca\n",
    "\n",
    "from sklearn.metrics import confusion_matrix, plot_confusion_matrix\n",
    "m = np.array(confusion_matrix(y_test, y_pred, normalize=None))\n",
    "m\n",
    "\n",
    "## Normalizado de matriz de confusión\n",
    "\n",
    "m = np.array(confusion_matrix(y_test, y_pred, normalize='all'))\n",
    "m\n",
    "\n",
    "plot_confusion_matrix(modelo, X_test, y_test, values_format='.1%', normalize='all', cmap='Blues')\n",
    "\n",
    "m = np.array(confusion_matrix(y_test, y_pred, normalize='pred'))\n",
    "m\n",
    "\n",
    "m = np.array(confusion_matrix(y_test, y_pred, normalize='true'))\n",
    "m\n",
    "\n",
    "from sklearn.metrics import confusion_matrix\n",
    "\n",
    "m = np.array(confusion_matrix(y_test, y_pred, normalize='all')).round(2)\n",
    "\n",
    "matriz = {'manteca':m[1][1], 'mike oscilator':m[1][0],'all in':m[0][1], 'yo te avise':m[0][0]}\n",
    "\n",
    "resumen = {'aciertos' : f\"{matriz['manteca']+matriz['yo te avise']:.1%}\", \n",
    "           'sesgo +': f\"{matriz['manteca']+matriz['all in']:.1%}\"}\n",
    "\n",
    "print('Arboles de decisión: \\n',m,'\\nPorcentajes:\\n',matriz,'\\n',resumen)\n",
    "\n",
    "\n",
    "\n",
    "\n",
    "\n",
    "\n",
    "\n",
    "\n",
    "\n",
    "\n",
    "\n",
    "\n",
    "\n",
    "\n",
    "\n",
    "\n",
    "\n",
    "\n",
    "\n",
    "### Ojo con la definición de tuplas\n",
    "\n",
    "Si definimos una tupla como x=(1), me va a asignar el entero 1 a la variable \"x\"\n",
    "\n",
    "Si quisiera que me asigne la tupla con el valor 1 como único valor debo poner x=(1,)\n",
    "\n",
    "a = 5\n",
    "b = (5)\n",
    "c = (5,)\n",
    "\n",
    "type(a), type(b), type(c)\n",
    "\n",
    "\n",
    "\n",
    "## Vemos predicción de algún valor\n",
    "\n",
    "X\n",
    "\n",
    "X_full = data_full.iloc[:,-7:-1]\n",
    "X_full\n",
    "\n",
    "datosHoy = X_full.iloc[-1]\n",
    "datosHoy\n",
    "\n",
    "datosHoy.values\n",
    "\n",
    "modelo.predict((datosHoy,))\n",
    "\n",
    "modelo.predict_proba((datosHoy,))\n",
    "\n",
    "ultimos = X_full[-5:]\n",
    "prediccion_ultimos = modelo.predict(ultimos)\n",
    "print('\\nPrediccion Ultimos 5 valores actuales\\n',prediccion_ultimos)\n",
    "\n",
    "ultimos = X_full[-5:]\n",
    "prediccion_ultimos = modelo.predict_proba(ultimos)\n",
    "print('\\nPrediccion Ultimos 5 valores actuales\\n',prediccion_ultimos)\n",
    "\n",
    "## Graficamos el modelo\n",
    "\n",
    "# pip install pydotplus\n",
    "\n",
    "from IPython.display import Image  \n",
    "from sklearn import tree\n",
    "import pydotplus\n",
    "import os\n",
    "os.environ['PATH'] = os.environ['PATH']+';'+os.environ['CONDA_PREFIX']+r\"\\Library\\bin\\graphviz\"\n",
    "\n",
    "cols = ['roll_vol','cr1','cr2','cr3']\n",
    "targets = ['Sube','Baja']\n",
    "\n",
    "dot_data = tree.export_graphviz(modelo, out_file=None, feature_names=X.columns, \n",
    "                                class_names=targets, rounded = True, filled= True)\n",
    "\n",
    "graph = pydotplus.graph_from_dot_data(dot_data)  \n",
    "\n",
    "# guardo la imagen en disco\n",
    "graph.write_png(\"imagenes/gashe.png\")\n",
    "\n",
    "# imprimo en pantalla\n",
    "Image(graph.create_png())\n",
    "\n",
    "dot_data\n",
    "\n",
    "## Overfiteamos\n",
    "\n",
    "aciertos = []\n",
    "for i in range(1,50):\n",
    "    modelo = DecisionTreeClassifier(criterion = 'entropy', max_depth=i) #Definimos modelo\n",
    "    modelo.fit(X_train, y_train) # Entrenamos\n",
    "    y_pred = modelo.predict(X_test) # Corremos\n",
    "    m = np.array(confusion_matrix(y_test, y_pred)) # medimos\n",
    "    mp = (m/m.sum().sum() *100).round(2)\n",
    "    aciertos.append( round(mp[0][0]+mp[1][1],2) )\n",
    "\n",
    "aciertosTot = pd.DataFrame(aciertos)\n",
    "aciertosTot.plot()\n",
    "\n",
    "# Repaso en limpio\n",
    "\n",
    "import yfinance as yf, numpy as np, pandas as pd\n",
    "from sklearn.model_selection import train_test_split\n",
    "from sklearn.tree import DecisionTreeClassifier\n",
    "from sklearn.metrics import confusion_matrix\n",
    "\n",
    "\n",
    "medias = ((63, 422), (38, 350), (72, 506))\n",
    "ventana = 100\n",
    "\n",
    "data = yf.download('GGAL', start='2000-01-01')\n",
    "\n",
    "dif = data['Adj Close'].diff()\n",
    "win = pd.DataFrame(np.where(dif > 0, dif, 0))\n",
    "loss = pd.DataFrame(np.where(dif < 0, abs(dif), 0))\n",
    "ema_win = win.ewm(alpha=1/14).mean()\n",
    "ema_loss = loss.ewm(alpha=1/14).mean()\n",
    "rs = ema_win / ema_loss\n",
    "rsi = 100 - (100 / (1 + rs))\n",
    "rsi.index = data.index\n",
    "\n",
    "data['pctChange'] = data['Adj Close'].pct_change()\n",
    "data['fw'] = data['Adj Close'].shift(-ventana)/data['Adj Close']-1\n",
    "data['rsi'] = rsi/100\n",
    "data['roll_vol'] = data['pctChange'].rolling(60).std() * 60**0.5\n",
    "data['ema_vol'] = data['pctChange'].ewm(span=300).std() * 300**0.5\n",
    "data['cruce_1'] = data['Adj Close'].rolling(medias[0][0]).mean()/data['Adj Close'].rolling(medias[0][1]).mean()-1\n",
    "data['cruce_2'] = data['Adj Close'].rolling(medias[1][0]).mean()/data['Adj Close'].rolling(medias[1][1]).mean()-1\n",
    "data['cruce_3'] = data['Adj Close'].rolling(medias[2][0]).mean()/data['Adj Close'].rolling(medias[2][1]).mean()-1\n",
    "\n",
    "data['target'] = 0\n",
    "data.loc[data.fw >= 0 , 'target'] = 1\n",
    "\n",
    "data_full = data.copy() # Esto nos va a servir despues cuando necesitemos los de hoy (sin etiquetas aun)\n",
    "data = data.round(4).dropna()\n",
    "\n",
    "y = list(data['target'])\n",
    "X = data.iloc[:,-7:-1]\n",
    "\n",
    "X_train, X_test, y_train, y_test = train_test_split(X, y, test_size=0.4)\n",
    "\n",
    "modelo = DecisionTreeClassifier(criterion = 'entropy', max_depth=7) \n",
    "modelo.fit(X_train, y_train)\n",
    "y_pred = modelo.predict(X_test)\n",
    "\n",
    "m = np.array(confusion_matrix(y_test, y_pred, normalize='all')).round(2)\n",
    "\n",
    "ultimos = data_full.iloc[-5:,-7:-1]\n",
    "prediccion_ultimos = modelo.predict_proba(ultimos)\n",
    "\n",
    "m, prediccion_ultimos\n",
    "\n",
    "# Se acuerdan de la serializacion?\n",
    "\n",
    "import pickle\n",
    "\n",
    "with open('modelo_arboles.dat' , 'wb') as file:\n",
    "    pickle.dump(modelo, file)\n",
    "\n",
    "# Reiniciamos kernel y probamos modelo pre-fiteado\n",
    "\n",
    "import pickle\n",
    "with open('modelo_arboles.dat' , 'rb') as file:\n",
    "    m_loaded = pickle.load(file)\n",
    "\n",
    "import yfinance as yf, numpy as np, pandas as pd\n",
    "\n",
    "medias = ((63, 422), (38, 350), (72, 506))\n",
    "ventana = 100\n",
    "\n",
    "data = yf.download('GGAL', start='2000-01-01')\n",
    "\n",
    "dif = data['Adj Close'].diff()\n",
    "win = pd.DataFrame(np.where(dif > 0, dif, 0))\n",
    "loss = pd.DataFrame(np.where(dif < 0, abs(dif), 0))\n",
    "ema_win = win.ewm(alpha=1/14).mean()\n",
    "ema_loss = loss.ewm(alpha=1/14).mean()\n",
    "rs = ema_win / ema_loss\n",
    "rsi = 100 - (100 / (1 + rs))\n",
    "rsi.index = data.index\n",
    "\n",
    "data['pctChange'] = data['Adj Close'].pct_change()\n",
    "data['fw'] = data['Adj Close'].shift(-ventana)/data['Adj Close']-1\n",
    "data['rsi'] = rsi/100\n",
    "data['roll_vol'] = data['pctChange'].rolling(60).std() * 60**0.5\n",
    "data['ema_vol'] = data['pctChange'].ewm(span=300).std() * 300**0.5\n",
    "data['cruce_1'] = data['Adj Close'].rolling(medias[0][0]).mean()/data['Adj Close'].rolling(medias[0][1]).mean()-1\n",
    "data['cruce_2'] = data['Adj Close'].rolling(medias[1][0]).mean()/data['Adj Close'].rolling(medias[1][1]).mean()-1\n",
    "data['cruce_3'] = data['Adj Close'].rolling(medias[2][0]).mean()/data['Adj Close'].rolling(medias[2][1]).mean()-1\n",
    "\n",
    "ultimos = data.iloc[-5:,-6:]\n",
    "prediccion_ultimos = m_loaded.predict_proba(ultimos)\n",
    "prediccion_ultimos\n",
    "\n",
    "\n",
    "\n",
    "\n",
    "\n",
    "# OverSampling y UnderSampling\n",
    "\n",
    "<img src=\"imagenes/os_us.png\" width=800>\n",
    "\n",
    "\n",
    "\n",
    "\n",
    "\n",
    "## Over Sampling:\n",
    "\n",
    "Simplemente repitiendo al azar\n",
    "\n",
    "* <b>RandomOverSampler</b>\n",
    "\n",
    "Sintéticos\n",
    "\n",
    "    * SMOTE \n",
    "    * BorderlineSMOTE (Líneas de separación jerarárquicas)\n",
    "    * KMeansSMOTE (c/modelo de agrupamiento KMeans)\n",
    "    * SVMSMOTE (c/modelo de agrupamiento SVM)\n",
    "    * SMOTEN (para predictores discretos)\n",
    "    * SMOTENC (mezcla de predictores continuos y discretos)\n",
    "    * ADASYN (sinteticos adaptativos)\n",
    "\n",
    "Paper original <b>SMOTE</b>, DOI: 10.1613/jair.301\n",
    "<br>https://www.jair.org/index.php/jair/article/view/10302/24590\n",
    "\n",
    "<b>BorderLine</b> DOI DOI:10.1007/11538059_91\n",
    "<br>https://sci2s.ugr.es/keel/keel-dataset/pdfs/2005-Han-LNCS.pdf\n",
    "\n",
    "<b>ADASYN</b> DOI:10.1109/IJCNN.2008.4633969\n",
    "<br>https://sci2s.ugr.es/keel/pdf/algorithm/congreso/2008-He-ieee.pdf\n",
    "\n",
    "\n",
    "\n",
    "\n",
    "\n",
    "<br>\n",
    "<img src=\"imagenes/os_1.png\" width=500 style=\"float:left;margin-right:40px;margin-top:-20px;\">\n",
    "<img src=\"imagenes/os_2.png\" width=400 style=\"float:left; margin-bottom:50px;\">\n",
    "\n",
    "## Under Sampling\n",
    "\n",
    "* <b>RandomUnderSampler</b>\n",
    "\n",
    "* <b>NearMiss</b> (usa KNN, busca mas separacion de grupos) \n",
    "* <b>ClusterCentroids</b> (Usa KMeans, remueve primero los mas parecidos, busca mas variabilidad, me gusta mas en la bolsa)\n",
    "* CondensedNearestNeighbour (Busca la zona mas densa posible)\n",
    "* EditedNearestNeighbours ENN (remueve primeros los korea del centro)\n",
    "* RepeatedEditedNearestNeighbours (ENN recursivo)\n",
    "* AllKNN (ENN adaptativo)\n",
    "* InstanceHardnessThreshold (Usa cortes de clustering jerárquico y dendrogramas)\n",
    "* NeighbourhoodCleaningRule (remueve primero los mas discordantes, saca ruido)\n",
    "* OneSidedSelection \n",
    "* TomekLinks\n",
    "\n",
    "<img src=\"imagenes/os_3.png\" width=300>\n",
    "\n",
    "<b>NearMiss</b>\n",
    "<br>https://www.site.uottawa.ca/~nat/Workshop2003/jzhang.pdf\n",
    "\n",
    "<b>CondensedNearestNeighbour</b> DOI 10.1109/TIT.1968.1054155\n",
    "<br>https://sci2s.ugr.es/keel/pdf/algorithm/articulo/1979-IEEE_TIT-Chidananda-IS-MNV.pdf\n",
    "\n",
    "OneSideSelect\n",
    "<br>https://sci2s.ugr.es/keel/pdf/algorithm/congreso/kubat97addressing.pdf\n",
    "\n",
    "Neighboorhood Cleaning Rule\n",
    "<br>https://www.scirp.org/pdf/JBiSE20101000009_16323745.pdf\n",
    "\n",
    "InstanceHardnessThreshold \n",
    "<br>https://link.springer.com/content/pdf/10.1007/s10994-013-5422-z.pdf\n",
    "\n",
    "<b>Tomek</b> DOI 10.4236/jilsa.2015.74010\n",
    "<br>https://www.scirp.org/(S(i43dyn45teexjx455qlt3d2q))/journal/paperinformation.aspx?paperid=60996\n",
    "\n",
    "## Instalación e importación\n",
    "\n",
    "# conda install -c conda-forge imbalanced-learn\n",
    "\n",
    "from imblearn import over_sampling as os \n",
    "from imblearn import under_sampling as us\n",
    "\n",
    "## Ejemplos\n",
    "\n",
    "import pandas as pd\n",
    "import numpy as np\n",
    "import yfinance as yf\n",
    "\n",
    "\n",
    "medias = ((63, 422), (38, 350), (72, 506))\n",
    "ventana = 100\n",
    "\n",
    "data = yf.download('GGAL', start='2000-01-01')\n",
    "\n",
    "\n",
    "dif = data['Adj Close'].diff()\n",
    "win = pd.DataFrame(np.where(dif > 0, dif, 0))\n",
    "loss = pd.DataFrame(np.where(dif < 0, abs(dif), 0))\n",
    "ema_win = win.ewm(alpha=1/14).mean()\n",
    "ema_loss = loss.ewm(alpha=1/14).mean()\n",
    "rs = ema_win / ema_loss\n",
    "rsi = 100 - (100 / (1 + rs))\n",
    "rsi.index = data.index\n",
    "\n",
    "data['pctChange'] = data['Adj Close'].pct_change()\n",
    "data['fw'] = np.log(data['Adj Close'].shift(-ventana)/data['Adj Close'])\n",
    "data['rsi'] = rsi/100\n",
    "data['roll_vol'] = data['pctChange'].rolling(60).std() * 60**0.5\n",
    "data['ema_vol'] = data['pctChange'].ewm(span=300).std() * 300**0.5\n",
    "data['cruce_1'] = data['Adj Close'].rolling(medias[0][0]).mean()/data['Adj Close'].rolling(medias[0][1]).mean()-1\n",
    "data['cruce_2'] = data['Adj Close'].rolling(medias[1][0]).mean()/data['Adj Close'].rolling(medias[1][1]).mean()-1\n",
    "data['cruce_3'] = data['Adj Close'].rolling(medias[2][0]).mean()/data['Adj Close'].rolling(medias[2][1]).mean()-1\n",
    "data.dropna(inplace=True)\n",
    "\n",
    "data['se_vuela'] = np.where(data.fw > 0.5, 1, 0)\n",
    "\n",
    "df = data.iloc[:, 8:]\n",
    "df\n",
    "\n",
    "df.groupby('se_vuela').size()\n",
    "\n",
    "X, Y = df.iloc[:,:-1], df.iloc[:,-1]\n",
    "\n",
    "### OS, Random, SMOTE\n",
    "\n",
    "# Uso oversampling al azar\n",
    "# Repite muestras del df original aleatoriamente\n",
    "\n",
    "X_os, Y_os = os.RandomOverSampler().fit_resample(X,Y)\n",
    "\n",
    "df_os = pd.concat([X_os,Y_os], axis=1)\n",
    "df_os\n",
    "\n",
    "df_os.groupby('se_vuela').size()\n",
    "\n",
    "df.groupby('se_vuela').mean()\n",
    "\n",
    "X_os, Y_os = os.RandomOverSampler(random_state=0).fit_resample(X,Y)\n",
    "df_os = pd.concat([X_os,Y_os], axis=1)\n",
    "df_os.groupby('se_vuela').mean()\n",
    "\n",
    "X_os, Y_os = os.SMOTE(random_state=0).fit_resample(X,Y)\n",
    "df_os = pd.concat([X_os,Y_os], axis=1)\n",
    "df_os.groupby('se_vuela').mean()\n",
    "\n",
    "### US, Random, NearMiss, \n",
    "\n",
    "df.groupby('se_vuela').size()\n",
    "\n",
    "X_us, Y_us = us.RandomUnderSampler(random_state=0).fit_resample(X,Y)\n",
    "df_us = pd.concat([X_us,Y_us], axis=1)\n",
    "df_us.groupby('se_vuela').size(),    df_us.groupby('se_vuela').mean()\n",
    "\n",
    "X_us, Y_us = us.NearMiss().fit_resample(X,Y)\n",
    "df_us = pd.concat([X_us,Y_us], axis=1)\n",
    "df_us.groupby('se_vuela').size(),    df_us.groupby('se_vuela').mean()\n",
    "\n",
    "\n",
    "\n",
    "# Criterio de Entropía e impureza de gini\n",
    "\n",
    "## Fórmulas\n",
    "\n",
    "$$ {\\text{Ganancia de información, Entropia}}(S)= \\large - \\sum _{i=1}^{n}p_{i}\\log _{2}p_{i} $$\n",
    "\n",
    "$$ {\\text{Impureza de Gini} \\hspace{0.5cm}  \\large I_{G}(p)=\\sum _{i=1}^{m}p_{i}(1-p_{i})=\\sum _{i=1}^{m}(p_{i}-{p_{i}}^{2})=1-\\sum _{i=1}^{m}{p_{i}}^{2}} $$\n",
    "\n",
    "## Implementamos las funciones\n",
    "\n",
    "from math import log\n",
    "import numpy as np\n",
    "import pandas as pd\n",
    "\n",
    "def gini(p):\n",
    "    return 1 - (p**2 + (1-p)**2)\n",
    "\n",
    "def entropy(p, base=2):\n",
    "    try:\n",
    "        var =  abs(p*log(p, base)+(1-p)*log(1-p, base))\n",
    "        return var\n",
    "    except (ValueError):\n",
    "        return 0\n",
    "\n",
    "p_subas = np.linspace(0,1,100, endpoint=False)\n",
    "data_gini = [gini(x) for x in p_subas]\n",
    "data_entropy = [entropy(x) for x in p_subas]\n",
    "df = pd.DataFrame(zip(p_subas, data_gini, data_entropy), columns=['P','Gini','Entropy']).set_index('P')\n",
    "df\n",
    "\n",
    "df.plot()\n",
    "\n",
    "df_escalada = df.copy()\n",
    "df_escalada['Entropy'] /= 2\n",
    "df_escalada.plot()\n",
    "\n",
    "## Sensibilidad, Derivamos\n",
    "\n",
    "import matplotlib.pyplot as plt\n",
    "\n",
    "fig, ax = plt.subplots(figsize=(15,5), ncols=3)\n",
    "\n",
    "df.pct_change().plot(ax=ax[0])\n",
    "df.pct_change().plot(xlim=(.3,.7), ylim=(-.02,.02), ax=ax[1])\n",
    "df.pct_change().plot(xlim=(.8,1), ylim=(-.5,0), ax=ax[2])\n",
    "ax[1].set_title('Zona mas difusa')\n",
    "ax[2].set_title('Zona mas definida')\n",
    "\n",
    "tasas = df.pct_change().abs().iloc[2:]\n",
    "tasas.mean()\n",
    "\n",
    "\n",
    "\n",
    "\n",
    "\n"
   ]
  }
 ],
 "metadata": {
  "kernelspec": {
   "display_name": "Python 3",
   "language": "python",
   "name": "python3"
  },
  "language_info": {
   "codemirror_mode": {
    "name": "ipython",
    "version": 3
   },
   "file_extension": ".py",
   "mimetype": "text/x-python",
   "name": "python",
   "nbconvert_exporter": "python",
   "pygments_lexer": "ipython3",
   "version": "3.8.5"
  },
  "toc": {
   "base_numbering": 1,
   "nav_menu": {},
   "number_sections": true,
   "sideBar": true,
   "skip_h1_title": false,
   "title_cell": "Table of Contents",
   "title_sidebar": "Contents",
   "toc_cell": false,
   "toc_position": {
    "height": "calc(100% - 180px)",
    "left": "10px",
    "top": "150px",
    "width": "361.825px"
   },
   "toc_section_display": true,
   "toc_window_display": true
  }
 },
 "nbformat": 4,
 "nbformat_minor": 5
}
