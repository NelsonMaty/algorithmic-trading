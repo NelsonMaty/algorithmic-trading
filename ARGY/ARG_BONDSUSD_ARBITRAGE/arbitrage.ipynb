{
 "metadata": {
  "language_info": {
   "codemirror_mode": {
    "name": "ipython",
    "version": 3
   },
   "file_extension": ".py",
   "mimetype": "text/x-python",
   "name": "python",
   "nbconvert_exporter": "python",
   "pygments_lexer": "ipython3",
   "version": "3.8.10"
  },
  "orig_nbformat": 4,
  "kernelspec": {
   "name": "python3",
   "display_name": "Python 3.8.10 64-bit ('base': conda)"
  },
  "interpreter": {
   "hash": "79bdd3397e82b1066c01c5d5c8e0837bf70c7783dc7c82168e2022e53ba12356"
  }
 },
 "nbformat": 4,
 "nbformat_minor": 2,
 "cells": [
  {
   "source": [
    "# 1. Me conecto con la API de IOL"
   ],
   "cell_type": "markdown",
   "metadata": {}
  },
  {
   "cell_type": "code",
   "execution_count": 2,
   "metadata": {},
   "outputs": [],
   "source": [
    "import requests\n",
    "import json\n",
    "from datetime import datetime\n",
    "\n",
    "import pandas as pd"
   ]
  },
  {
   "cell_type": "code",
   "execution_count": 279,
   "metadata": {},
   "outputs": [],
   "source": [
    "URL__API_IOL__BASE = 'https://api.invertironline.com/'\n",
    "URL__API_IOL__TOKEN = URL__API_IOL__BASE + 'token'\n",
    "\n",
    "URL__API_IOL__V2 = URL__API_IOL__BASE + 'api/v2/'\n",
    "URL__API_IOL__BONDS = URL__API_IOL__V2 + 'Cotizaciones/bonos/bonos/argentina'\n",
    "URL__API_IOL__CEDEARS = URL__API_IOL__V2 + 'Cotizaciones/acciones/cedears/argentina'\n",
    "URL__API_IOL__ACCOUNT = URL__API_IOL__V2 + 'estadocuenta'\n",
    "\n",
    "SECRET__USER_IOL = 'nelsonmaty'\n",
    "SECRET__PASS_IOL = 'admindora9'"
   ]
  },
  {
   "cell_type": "code",
   "execution_count": 296,
   "metadata": {},
   "outputs": [],
   "source": [
    "request_token_data = {\n",
    "    'username': SECRET__USER_IOL,\n",
    "    'password': SECRET__PASS_IOL,\n",
    "    'grant_type': 'password'\n",
    "}\n",
    "\n",
    "request_token_headers = {\n",
    "    'Content-Type': 'application/x-www-form-urlencoded'\n",
    "}\n",
    "\n",
    "r = requests.post(url=URL__API_IOL__TOKEN, data=request_token_data, headers=request_token_headers)\n",
    "\n",
    "request_headers = {\n",
    "    'Authorization': 'Bearer ' + r.json()['access_token']\n",
    "}"
   ]
  },
  {
   "cell_type": "code",
   "execution_count": 254,
   "metadata": {},
   "outputs": [
    {
     "output_type": "execute_result",
     "data": {
      "text/plain": [
       "'jKYYJMIHKe5JpwVn0YPLQqKNnvs5mq9zvFDo4_4Nojsi6rPTOXPXHKkG-5yp77HD77GvTEt8nM3sxjvAUhlJrb300kgwKCe4MNPtxrGrVMHOa637VKjcaa5XW0S3gnw5SaifXjEPEVTh8O8Rqao9MxOtAdHdRZmEAmyIBUUqrbGI9FFtO1ZU8i3cCsJ0VdlgP8zGpEhEW4iTjPFWiohU0j0y7AcPJyPlwtoS0z19oy5_ir278oPOvSglRdqjWnu_6xZsHhDZAdw2rHO0pylIkARq17tiy3viTuRpDRdao2kuhu2OFCF5Kw4bNO3iDQJZ4oIoWT0J13oqrKlWLdynPmpK9W9ojkxmReBjc0f6QN310BxZSKOX88ixkLelgRb9Ci7mNvgfomMiWkkRu7WdmQ'"
      ]
     },
     "metadata": {},
     "execution_count": 254
    }
   ],
   "source": [
    "r.json()['access_token']"
   ]
  },
  {
   "source": [
    "# 2. Obtengo cotizacion de bonos"
   ],
   "cell_type": "markdown",
   "metadata": {}
  },
  {
   "cell_type": "code",
   "execution_count": 20,
   "metadata": {},
   "outputs": [],
   "source": [
    "request_bonds_data = {\n",
    "    'panelCotizacion': {\n",
    "        'pais': 'argentina',\n",
    "        'instrumento': 'bonos'\n",
    "    }\n",
    "}"
   ]
  },
  {
   "cell_type": "code",
   "execution_count": 252,
   "metadata": {},
   "outputs": [
    {
     "output_type": "error",
     "ename": "KeyError",
     "evalue": "'titulos'",
     "traceback": [
      "\u001b[0;31m---------------------------------------------------------------------------\u001b[0m",
      "\u001b[0;31mKeyError\u001b[0m                                  Traceback (most recent call last)",
      "\u001b[0;32m<ipython-input-252-96e7cbd189c4>\u001b[0m in \u001b[0;36m<module>\u001b[0;34m\u001b[0m\n\u001b[1;32m      2\u001b[0m \u001b[0mr\u001b[0m\u001b[0;34m.\u001b[0m\u001b[0mjson\u001b[0m\u001b[0;34m(\u001b[0m\u001b[0;34m)\u001b[0m\u001b[0;34m\u001b[0m\u001b[0;34m\u001b[0m\u001b[0m\n\u001b[1;32m      3\u001b[0m \u001b[0;34m\u001b[0m\u001b[0m\n\u001b[0;32m----> 4\u001b[0;31m \u001b[0mdf\u001b[0m \u001b[0;34m=\u001b[0m \u001b[0mpd\u001b[0m\u001b[0;34m.\u001b[0m\u001b[0mDataFrame\u001b[0m\u001b[0;34m.\u001b[0m\u001b[0mfrom_dict\u001b[0m\u001b[0;34m(\u001b[0m\u001b[0mr\u001b[0m\u001b[0;34m.\u001b[0m\u001b[0mjson\u001b[0m\u001b[0;34m(\u001b[0m\u001b[0;34m)\u001b[0m\u001b[0;34m[\u001b[0m\u001b[0;34m'titulos'\u001b[0m\u001b[0;34m]\u001b[0m\u001b[0;34m)\u001b[0m\u001b[0;34m\u001b[0m\u001b[0;34m\u001b[0m\u001b[0m\n\u001b[0m",
      "\u001b[0;31mKeyError\u001b[0m: 'titulos'"
     ]
    }
   ],
   "source": [
    "r = requests.get(url=URL__API_IOL__BONDS, data=request_token_data, headers=request_headers)\n",
    "r.json()\n",
    "\n",
    "df = pd.DataFrame.from_dict(r.json()['titulos'])"
   ]
  },
  {
   "cell_type": "code",
   "execution_count": 234,
   "metadata": {},
   "outputs": [
    {
     "output_type": "execute_result",
     "data": {
      "text/plain": [
       "{'access_token': 'K5FzHyECPU2XJOBwUsOCCtZiZYO0VVW8rMCReKbo7IVleVWyFfBVwT6zavsBAjpwNWjNGhP7wCinFEDXBFeLVadBS4_6WBM2lPcv_BvmG5daRhlfBaxKii-nVf7US7f8OCoog9DRmkQFKgfpalCTolsD2jvLgoLT_UVFcng-RiqFDdR4VOaCzLxLlXnTPfaLsH7kO15NhlMurTnusQ6TRMSGd0msZhOetEjVzG4yN_n1cfmwCj3PikES21BjO4Xeu6rBioR8xed3fe76M3Rg19R05HFj-NAyt1QAr_flW_SvXWwsmeKO4C6_TxF-wjIKrUSrvjtoCuIXZj6q7A1Nxx6Pc5isTTA1xRg6VPxKJvw4urjxTv1IqiwOSXDSezxgD1aFjHgsqXudYCj4_nxMhg',\n",
       " 'token_type': 'bearer',\n",
       " 'expires_in': 899,\n",
       " 'refresh_token': 'FFWrnAkg_83_aY0oeiQRx_lqrOu0By86jRbIJ1F6I8JAVyF3ndtNzdcs-iCfq4BvRWkON5mGngsLe_EIpxV0SDmjFUoPb6RwaTFf0HE44h8HclVHq5i8GCg6hO6lPNV7l2LeGIsiLHQxxcGkZh7UjNv9UlmpWe7jMMC2kCqdfxxLRrcpVSr3CP4UZ93JiXPovdGM09MVPZDrVvRBj3RgaHmngbegIZpEMGWTFjQDwMnNQ9c2m-dpKKLTxymi-IVB3IAUIOJP1Z5y5hB8TXhh4OLJr_PY7NJFibPPDwvLe4tz4GITyAO84YsRES2ebsWD8DkyogULn-R2Vk6iJnqy7E8NFpHDYdBYMFS5-cl5znktr-DQHL7cvTUxZKQ9ChC3bqYeFEC35Aor7Y5yHQvuAg',\n",
       " '.issued': 'Mon, 19 Jul 2021 16:37:02 GMT',\n",
       " '.expires': 'Mon, 19 Jul 2021 16:52:02 GMT',\n",
       " '.refreshexpires': 'Mon, 19 Jul 2021 17:37:02 GMT'}"
      ]
     },
     "metadata": {},
     "execution_count": 234
    }
   ],
   "source": [
    "r.json()"
   ]
  },
  {
   "cell_type": "code",
   "execution_count": 59,
   "metadata": {},
   "outputs": [
    {
     "output_type": "execute_result",
     "data": {
      "text/plain": [
       "    simbolo                                             puntas  ultimoPrecio  \\\n",
       "0      A2E8                                               None       5301.00   \n",
       "1     A2E8D                                               None         42.50   \n",
       "2      AA21                                               None       4660.00   \n",
       "3     AA21D                                               None         45.75   \n",
       "4      AA22  {'cantidadCompra': 499513.0, 'precioCompra': 9...         99.25   \n",
       "..      ...                                                ...           ...   \n",
       "143    TX23  {'cantidadCompra': 5000000.0, 'precioCompra': ...        154.45   \n",
       "144    TX24  {'cantidadCompra': 35280.0, 'precioCompra': 14...        145.80   \n",
       "145    TX26  {'cantidadCompra': 43181.0, 'precioCompra': 11...        118.50   \n",
       "146    TX28  {'cantidadCompra': 3050.0, 'precioCompra': 111...        112.25   \n",
       "147   TY22P                                               None         80.00   \n",
       "\n",
       "     variacionPorcentual  apertura   maximo   minimo  ultimoCierre  \\\n",
       "0                   0.00   5301.00  5302.00  5301.00       5301.00   \n",
       "1                   0.00     42.50    42.50    42.50         42.50   \n",
       "2                   0.00   4660.00     0.00     0.00       4660.00   \n",
       "3                   0.00     45.75     0.00     0.00         45.75   \n",
       "4                   0.05     99.10    99.60    99.00         99.25   \n",
       "..                   ...       ...      ...      ...           ...   \n",
       "143                 0.22    154.50   154.60   154.15        154.45   \n",
       "144                 0.13    145.60   146.00   145.00        145.80   \n",
       "145                 0.67    117.70   118.75   117.25        118.50   \n",
       "146                 0.22    112.30   112.30   111.50        112.25   \n",
       "147                 0.00     80.00    80.00    80.00         80.00   \n",
       "\n",
       "         volumen  cantidadOperaciones                    fecha tipoOpcion  \\\n",
       "0            0.0                  0.0  2021-07-13T03:00:05.787       None   \n",
       "1            0.0                  0.0   2021-07-13T03:00:09.79       None   \n",
       "2            0.0                  0.0   2021-07-13T03:00:01.78       None   \n",
       "3            0.0                  0.0  2021-07-13T03:00:09.177       None   \n",
       "4    260534590.0                 54.0  2021-07-13T17:00:10.287       None   \n",
       "..           ...                  ...                      ...        ...   \n",
       "143  191575848.0                 59.0  2021-07-13T17:00:30.177       None   \n",
       "144  500083714.0                 74.0  2021-07-13T17:00:16.367       None   \n",
       "145  776393255.0                157.0  2021-07-13T17:00:11.383       None   \n",
       "146   23074782.0                 28.0   2021-07-13T17:00:11.21       None   \n",
       "147          0.0                  0.0  2021-07-13T03:00:05.103       None   \n",
       "\n",
       "    precioEjercicio fechaVencimiento mercado moneda  \n",
       "0              None             None    BCBA    AR$  \n",
       "1              None             None    BCBA    US$  \n",
       "2              None             None    BCBA    AR$  \n",
       "3              None             None    BCBA    US$  \n",
       "4              None             None    BCBA    AR$  \n",
       "..              ...              ...     ...    ...  \n",
       "143            None             None    BCBA    AR$  \n",
       "144            None             None    BCBA    AR$  \n",
       "145            None             None    BCBA    AR$  \n",
       "146            None             None    BCBA    AR$  \n",
       "147            None             None    BCBA    AR$  \n",
       "\n",
       "[148 rows x 16 columns]"
      ],
      "text/html": "<div>\n<style scoped>\n    .dataframe tbody tr th:only-of-type {\n        vertical-align: middle;\n    }\n\n    .dataframe tbody tr th {\n        vertical-align: top;\n    }\n\n    .dataframe thead th {\n        text-align: right;\n    }\n</style>\n<table border=\"1\" class=\"dataframe\">\n  <thead>\n    <tr style=\"text-align: right;\">\n      <th></th>\n      <th>simbolo</th>\n      <th>puntas</th>\n      <th>ultimoPrecio</th>\n      <th>variacionPorcentual</th>\n      <th>apertura</th>\n      <th>maximo</th>\n      <th>minimo</th>\n      <th>ultimoCierre</th>\n      <th>volumen</th>\n      <th>cantidadOperaciones</th>\n      <th>fecha</th>\n      <th>tipoOpcion</th>\n      <th>precioEjercicio</th>\n      <th>fechaVencimiento</th>\n      <th>mercado</th>\n      <th>moneda</th>\n    </tr>\n  </thead>\n  <tbody>\n    <tr>\n      <th>0</th>\n      <td>A2E8</td>\n      <td>None</td>\n      <td>5301.00</td>\n      <td>0.00</td>\n      <td>5301.00</td>\n      <td>5302.00</td>\n      <td>5301.00</td>\n      <td>5301.00</td>\n      <td>0.0</td>\n      <td>0.0</td>\n      <td>2021-07-13T03:00:05.787</td>\n      <td>None</td>\n      <td>None</td>\n      <td>None</td>\n      <td>BCBA</td>\n      <td>AR$</td>\n    </tr>\n    <tr>\n      <th>1</th>\n      <td>A2E8D</td>\n      <td>None</td>\n      <td>42.50</td>\n      <td>0.00</td>\n      <td>42.50</td>\n      <td>42.50</td>\n      <td>42.50</td>\n      <td>42.50</td>\n      <td>0.0</td>\n      <td>0.0</td>\n      <td>2021-07-13T03:00:09.79</td>\n      <td>None</td>\n      <td>None</td>\n      <td>None</td>\n      <td>BCBA</td>\n      <td>US$</td>\n    </tr>\n    <tr>\n      <th>2</th>\n      <td>AA21</td>\n      <td>None</td>\n      <td>4660.00</td>\n      <td>0.00</td>\n      <td>4660.00</td>\n      <td>0.00</td>\n      <td>0.00</td>\n      <td>4660.00</td>\n      <td>0.0</td>\n      <td>0.0</td>\n      <td>2021-07-13T03:00:01.78</td>\n      <td>None</td>\n      <td>None</td>\n      <td>None</td>\n      <td>BCBA</td>\n      <td>AR$</td>\n    </tr>\n    <tr>\n      <th>3</th>\n      <td>AA21D</td>\n      <td>None</td>\n      <td>45.75</td>\n      <td>0.00</td>\n      <td>45.75</td>\n      <td>0.00</td>\n      <td>0.00</td>\n      <td>45.75</td>\n      <td>0.0</td>\n      <td>0.0</td>\n      <td>2021-07-13T03:00:09.177</td>\n      <td>None</td>\n      <td>None</td>\n      <td>None</td>\n      <td>BCBA</td>\n      <td>US$</td>\n    </tr>\n    <tr>\n      <th>4</th>\n      <td>AA22</td>\n      <td>{'cantidadCompra': 499513.0, 'precioCompra': 9...</td>\n      <td>99.25</td>\n      <td>0.05</td>\n      <td>99.10</td>\n      <td>99.60</td>\n      <td>99.00</td>\n      <td>99.25</td>\n      <td>260534590.0</td>\n      <td>54.0</td>\n      <td>2021-07-13T17:00:10.287</td>\n      <td>None</td>\n      <td>None</td>\n      <td>None</td>\n      <td>BCBA</td>\n      <td>AR$</td>\n    </tr>\n    <tr>\n      <th>...</th>\n      <td>...</td>\n      <td>...</td>\n      <td>...</td>\n      <td>...</td>\n      <td>...</td>\n      <td>...</td>\n      <td>...</td>\n      <td>...</td>\n      <td>...</td>\n      <td>...</td>\n      <td>...</td>\n      <td>...</td>\n      <td>...</td>\n      <td>...</td>\n      <td>...</td>\n      <td>...</td>\n    </tr>\n    <tr>\n      <th>143</th>\n      <td>TX23</td>\n      <td>{'cantidadCompra': 5000000.0, 'precioCompra': ...</td>\n      <td>154.45</td>\n      <td>0.22</td>\n      <td>154.50</td>\n      <td>154.60</td>\n      <td>154.15</td>\n      <td>154.45</td>\n      <td>191575848.0</td>\n      <td>59.0</td>\n      <td>2021-07-13T17:00:30.177</td>\n      <td>None</td>\n      <td>None</td>\n      <td>None</td>\n      <td>BCBA</td>\n      <td>AR$</td>\n    </tr>\n    <tr>\n      <th>144</th>\n      <td>TX24</td>\n      <td>{'cantidadCompra': 35280.0, 'precioCompra': 14...</td>\n      <td>145.80</td>\n      <td>0.13</td>\n      <td>145.60</td>\n      <td>146.00</td>\n      <td>145.00</td>\n      <td>145.80</td>\n      <td>500083714.0</td>\n      <td>74.0</td>\n      <td>2021-07-13T17:00:16.367</td>\n      <td>None</td>\n      <td>None</td>\n      <td>None</td>\n      <td>BCBA</td>\n      <td>AR$</td>\n    </tr>\n    <tr>\n      <th>145</th>\n      <td>TX26</td>\n      <td>{'cantidadCompra': 43181.0, 'precioCompra': 11...</td>\n      <td>118.50</td>\n      <td>0.67</td>\n      <td>117.70</td>\n      <td>118.75</td>\n      <td>117.25</td>\n      <td>118.50</td>\n      <td>776393255.0</td>\n      <td>157.0</td>\n      <td>2021-07-13T17:00:11.383</td>\n      <td>None</td>\n      <td>None</td>\n      <td>None</td>\n      <td>BCBA</td>\n      <td>AR$</td>\n    </tr>\n    <tr>\n      <th>146</th>\n      <td>TX28</td>\n      <td>{'cantidadCompra': 3050.0, 'precioCompra': 111...</td>\n      <td>112.25</td>\n      <td>0.22</td>\n      <td>112.30</td>\n      <td>112.30</td>\n      <td>111.50</td>\n      <td>112.25</td>\n      <td>23074782.0</td>\n      <td>28.0</td>\n      <td>2021-07-13T17:00:11.21</td>\n      <td>None</td>\n      <td>None</td>\n      <td>None</td>\n      <td>BCBA</td>\n      <td>AR$</td>\n    </tr>\n    <tr>\n      <th>147</th>\n      <td>TY22P</td>\n      <td>None</td>\n      <td>80.00</td>\n      <td>0.00</td>\n      <td>80.00</td>\n      <td>80.00</td>\n      <td>80.00</td>\n      <td>80.00</td>\n      <td>0.0</td>\n      <td>0.0</td>\n      <td>2021-07-13T03:00:05.103</td>\n      <td>None</td>\n      <td>None</td>\n      <td>None</td>\n      <td>BCBA</td>\n      <td>AR$</td>\n    </tr>\n  </tbody>\n</table>\n<p>148 rows × 16 columns</p>\n</div>"
     },
     "metadata": {},
     "execution_count": 59
    }
   ],
   "source": [
    "df"
   ]
  },
  {
   "cell_type": "code",
   "execution_count": 60,
   "metadata": {},
   "outputs": [],
   "source": [
    "df = df[['simbolo', 'ultimoPrecio', 'moneda']]"
   ]
  },
  {
   "cell_type": "code",
   "execution_count": 62,
   "metadata": {},
   "outputs": [
    {
     "output_type": "execute_result",
     "data": {
      "text/plain": [
       "    simbolo  ultimoPrecio moneda\n",
       "0      A2E8       5301.00    AR$\n",
       "1     A2E8D         42.50    US$\n",
       "2      AA21       4660.00    AR$\n",
       "3     AA21D         45.75    US$\n",
       "4      AA22         99.25    AR$\n",
       "..      ...           ...    ...\n",
       "143    TX23        154.45    AR$\n",
       "144    TX24        145.80    AR$\n",
       "145    TX26        118.50    AR$\n",
       "146    TX28        112.25    AR$\n",
       "147   TY22P         80.00    AR$\n",
       "\n",
       "[148 rows x 3 columns]"
      ],
      "text/html": "<div>\n<style scoped>\n    .dataframe tbody tr th:only-of-type {\n        vertical-align: middle;\n    }\n\n    .dataframe tbody tr th {\n        vertical-align: top;\n    }\n\n    .dataframe thead th {\n        text-align: right;\n    }\n</style>\n<table border=\"1\" class=\"dataframe\">\n  <thead>\n    <tr style=\"text-align: right;\">\n      <th></th>\n      <th>simbolo</th>\n      <th>ultimoPrecio</th>\n      <th>moneda</th>\n    </tr>\n  </thead>\n  <tbody>\n    <tr>\n      <th>0</th>\n      <td>A2E8</td>\n      <td>5301.00</td>\n      <td>AR$</td>\n    </tr>\n    <tr>\n      <th>1</th>\n      <td>A2E8D</td>\n      <td>42.50</td>\n      <td>US$</td>\n    </tr>\n    <tr>\n      <th>2</th>\n      <td>AA21</td>\n      <td>4660.00</td>\n      <td>AR$</td>\n    </tr>\n    <tr>\n      <th>3</th>\n      <td>AA21D</td>\n      <td>45.75</td>\n      <td>US$</td>\n    </tr>\n    <tr>\n      <th>4</th>\n      <td>AA22</td>\n      <td>99.25</td>\n      <td>AR$</td>\n    </tr>\n    <tr>\n      <th>...</th>\n      <td>...</td>\n      <td>...</td>\n      <td>...</td>\n    </tr>\n    <tr>\n      <th>143</th>\n      <td>TX23</td>\n      <td>154.45</td>\n      <td>AR$</td>\n    </tr>\n    <tr>\n      <th>144</th>\n      <td>TX24</td>\n      <td>145.80</td>\n      <td>AR$</td>\n    </tr>\n    <tr>\n      <th>145</th>\n      <td>TX26</td>\n      <td>118.50</td>\n      <td>AR$</td>\n    </tr>\n    <tr>\n      <th>146</th>\n      <td>TX28</td>\n      <td>112.25</td>\n      <td>AR$</td>\n    </tr>\n    <tr>\n      <th>147</th>\n      <td>TY22P</td>\n      <td>80.00</td>\n      <td>AR$</td>\n    </tr>\n  </tbody>\n</table>\n<p>148 rows × 3 columns</p>\n</div>"
     },
     "metadata": {},
     "execution_count": 62
    }
   ],
   "source": [
    "df"
   ]
  },
  {
   "cell_type": "code",
   "execution_count": 86,
   "metadata": {},
   "outputs": [
    {
     "output_type": "stream",
     "name": "stderr",
     "text": [
      "<ipython-input-86-72dc22c0c039>:1: UserWarning: Boolean Series key will be reindexed to match DataFrame index.\n  dollar_bonds = df[(df['moneda'] == 'US$')][df['simbolo'].str.endswith('D')][df['ultimoPrecio']>0]\n<ipython-input-86-72dc22c0c039>:1: UserWarning: Boolean Series key will be reindexed to match DataFrame index.\n  dollar_bonds = df[(df['moneda'] == 'US$')][df['simbolo'].str.endswith('D')][df['ultimoPrecio']>0]\n<ipython-input-86-72dc22c0c039>:2: UserWarning: Boolean Series key will be reindexed to match DataFrame index.\n  peso_bonds = df[(df['moneda'] == 'AR$')][df['ultimoPrecio']>0]\n"
     ]
    }
   ],
   "source": [
    "dollar_bonds = df[(df['moneda'] == 'US$')][df['simbolo'].str.endswith('D')][df['ultimoPrecio']>0]\n",
    "peso_bonds = df[(df['moneda'] == 'AR$')][df['ultimoPrecio']>0]"
   ]
  },
  {
   "cell_type": "code",
   "execution_count": 87,
   "metadata": {},
   "outputs": [
    {
     "output_type": "execute_result",
     "data": {
      "text/plain": [
       "    simbolo  ultimoPrecio moneda\n",
       "1     A2E8D         42.50    US$\n",
       "3     AA21D         45.75    US$\n",
       "6     AA25D         32.60    US$\n",
       "8     AA37D         32.47    US$\n",
       "10    AA46D         30.25    US$\n",
       "13    AE38D         36.50    US$\n",
       "15    AE48D         28.00    US$\n",
       "17    AF20D         50.00    US$\n",
       "20    AL29D         36.05    US$\n",
       "23    AL30D         34.75    US$\n",
       "26    AL35D         32.75    US$\n",
       "30    AL41D         36.00    US$\n",
       "32    AO20D         52.00    US$\n",
       "35    AY24D         44.00    US$\n",
       "43    BPLDD         36.60    US$\n",
       "46    BPMDD         14.25    US$\n",
       "57    CO26D         66.20    US$\n",
       "60    DIA0D         75.00    US$\n",
       "62    DICAD         51.20    US$\n",
       "68    GD29D         39.31    US$\n",
       "71    GD30D         37.41    US$\n",
       "74    GD35D         33.75    US$\n",
       "77    GD38D         40.30    US$\n",
       "80    GD41D         38.20    US$\n",
       "83    GD46D         33.30    US$\n",
       "92    PAA0D         44.50    US$\n",
       "95    PARAD         46.10    US$\n",
       "98    PAY0D         37.00    US$\n",
       "106   PF23D         39.00    US$\n",
       "119   T2V1D         55.00    US$\n",
       "139   TVPYD          0.89    US$"
      ],
      "text/html": "<div>\n<style scoped>\n    .dataframe tbody tr th:only-of-type {\n        vertical-align: middle;\n    }\n\n    .dataframe tbody tr th {\n        vertical-align: top;\n    }\n\n    .dataframe thead th {\n        text-align: right;\n    }\n</style>\n<table border=\"1\" class=\"dataframe\">\n  <thead>\n    <tr style=\"text-align: right;\">\n      <th></th>\n      <th>simbolo</th>\n      <th>ultimoPrecio</th>\n      <th>moneda</th>\n    </tr>\n  </thead>\n  <tbody>\n    <tr>\n      <th>1</th>\n      <td>A2E8D</td>\n      <td>42.50</td>\n      <td>US$</td>\n    </tr>\n    <tr>\n      <th>3</th>\n      <td>AA21D</td>\n      <td>45.75</td>\n      <td>US$</td>\n    </tr>\n    <tr>\n      <th>6</th>\n      <td>AA25D</td>\n      <td>32.60</td>\n      <td>US$</td>\n    </tr>\n    <tr>\n      <th>8</th>\n      <td>AA37D</td>\n      <td>32.47</td>\n      <td>US$</td>\n    </tr>\n    <tr>\n      <th>10</th>\n      <td>AA46D</td>\n      <td>30.25</td>\n      <td>US$</td>\n    </tr>\n    <tr>\n      <th>13</th>\n      <td>AE38D</td>\n      <td>36.50</td>\n      <td>US$</td>\n    </tr>\n    <tr>\n      <th>15</th>\n      <td>AE48D</td>\n      <td>28.00</td>\n      <td>US$</td>\n    </tr>\n    <tr>\n      <th>17</th>\n      <td>AF20D</td>\n      <td>50.00</td>\n      <td>US$</td>\n    </tr>\n    <tr>\n      <th>20</th>\n      <td>AL29D</td>\n      <td>36.05</td>\n      <td>US$</td>\n    </tr>\n    <tr>\n      <th>23</th>\n      <td>AL30D</td>\n      <td>34.75</td>\n      <td>US$</td>\n    </tr>\n    <tr>\n      <th>26</th>\n      <td>AL35D</td>\n      <td>32.75</td>\n      <td>US$</td>\n    </tr>\n    <tr>\n      <th>30</th>\n      <td>AL41D</td>\n      <td>36.00</td>\n      <td>US$</td>\n    </tr>\n    <tr>\n      <th>32</th>\n      <td>AO20D</td>\n      <td>52.00</td>\n      <td>US$</td>\n    </tr>\n    <tr>\n      <th>35</th>\n      <td>AY24D</td>\n      <td>44.00</td>\n      <td>US$</td>\n    </tr>\n    <tr>\n      <th>43</th>\n      <td>BPLDD</td>\n      <td>36.60</td>\n      <td>US$</td>\n    </tr>\n    <tr>\n      <th>46</th>\n      <td>BPMDD</td>\n      <td>14.25</td>\n      <td>US$</td>\n    </tr>\n    <tr>\n      <th>57</th>\n      <td>CO26D</td>\n      <td>66.20</td>\n      <td>US$</td>\n    </tr>\n    <tr>\n      <th>60</th>\n      <td>DIA0D</td>\n      <td>75.00</td>\n      <td>US$</td>\n    </tr>\n    <tr>\n      <th>62</th>\n      <td>DICAD</td>\n      <td>51.20</td>\n      <td>US$</td>\n    </tr>\n    <tr>\n      <th>68</th>\n      <td>GD29D</td>\n      <td>39.31</td>\n      <td>US$</td>\n    </tr>\n    <tr>\n      <th>71</th>\n      <td>GD30D</td>\n      <td>37.41</td>\n      <td>US$</td>\n    </tr>\n    <tr>\n      <th>74</th>\n      <td>GD35D</td>\n      <td>33.75</td>\n      <td>US$</td>\n    </tr>\n    <tr>\n      <th>77</th>\n      <td>GD38D</td>\n      <td>40.30</td>\n      <td>US$</td>\n    </tr>\n    <tr>\n      <th>80</th>\n      <td>GD41D</td>\n      <td>38.20</td>\n      <td>US$</td>\n    </tr>\n    <tr>\n      <th>83</th>\n      <td>GD46D</td>\n      <td>33.30</td>\n      <td>US$</td>\n    </tr>\n    <tr>\n      <th>92</th>\n      <td>PAA0D</td>\n      <td>44.50</td>\n      <td>US$</td>\n    </tr>\n    <tr>\n      <th>95</th>\n      <td>PARAD</td>\n      <td>46.10</td>\n      <td>US$</td>\n    </tr>\n    <tr>\n      <th>98</th>\n      <td>PAY0D</td>\n      <td>37.00</td>\n      <td>US$</td>\n    </tr>\n    <tr>\n      <th>106</th>\n      <td>PF23D</td>\n      <td>39.00</td>\n      <td>US$</td>\n    </tr>\n    <tr>\n      <th>119</th>\n      <td>T2V1D</td>\n      <td>55.00</td>\n      <td>US$</td>\n    </tr>\n    <tr>\n      <th>139</th>\n      <td>TVPYD</td>\n      <td>0.89</td>\n      <td>US$</td>\n    </tr>\n  </tbody>\n</table>\n</div>"
     },
     "metadata": {},
     "execution_count": 87
    }
   ],
   "source": [
    "dollar_bonds"
   ]
  },
  {
   "cell_type": "code",
   "execution_count": 166,
   "metadata": {},
   "outputs": [
    {
     "output_type": "execute_result",
     "data": {
      "text/plain": [
       "[5301.0,\n",
       " 4660.0,\n",
       " 5520.0,\n",
       " 5100.0,\n",
       " 3150.0,\n",
       " 6080.0,\n",
       " 4850.0,\n",
       " 8310.0,\n",
       " 5990.0,\n",
       " 5747.0,\n",
       " 5400.0,\n",
       " 5980.0,\n",
       " 8650.0,\n",
       " 7345.0,\n",
       " 6800.0,\n",
       " 1280.0,\n",
       " 11000.0,\n",
       " 8500.0,\n",
       " 8350.0,\n",
       " 6569.0,\n",
       " 6200.0,\n",
       " 5590.0,\n",
       " 6738.5,\n",
       " 6321.0,\n",
       " 5495.0,\n",
       " 4801.0,\n",
       " 5980.0,\n",
       " 5100.0,\n",
       " nan,\n",
       " 9225.0,\n",
       " 126.0]"
      ]
     },
     "metadata": {},
     "execution_count": 166
    }
   ],
   "source": [
    "\n",
    "peso_prices_list = []\n",
    "\n",
    "for x in range(len(dollar_bonds)):\n",
    "    value = peso_bonds[peso_bonds['simbolo'] == dollar_bonds.iloc[x]['simbolo'][:-1]]['ultimoPrecio']\n",
    "    if (len(value) > 0):\n",
    "        peso_prices_list.append(value.iloc[0])\n",
    "    else:\n",
    "        peso_prices_list.append(float('NaN'))\n",
    "\n",
    "peso_prices_list\n"
   ]
  },
  {
   "cell_type": "code",
   "execution_count": 171,
   "metadata": {},
   "outputs": [
    {
     "output_type": "execute_result",
     "data": {
      "text/plain": [
       "    simbolo  ultimoPrecio moneda  ultimoPrecioPesos\n",
       "1     A2E8D         42.50    US$             5301.0\n",
       "3     AA21D         45.75    US$             4660.0\n",
       "6     AA25D         32.60    US$             5520.0\n",
       "8     AA37D         32.47    US$             5100.0\n",
       "10    AA46D         30.25    US$             3150.0\n",
       "13    AE38D         36.50    US$             6080.0\n",
       "15    AE48D         28.00    US$             4850.0\n",
       "17    AF20D         50.00    US$             8310.0\n",
       "20    AL29D         36.05    US$             5990.0\n",
       "23    AL30D         34.75    US$             5747.0\n",
       "26    AL35D         32.75    US$             5400.0\n",
       "30    AL41D         36.00    US$             5980.0\n",
       "32    AO20D         52.00    US$             8650.0\n",
       "35    AY24D         44.00    US$             7345.0\n",
       "43    BPLDD         36.60    US$             6800.0\n",
       "46    BPMDD         14.25    US$             1280.0\n",
       "57    CO26D         66.20    US$            11000.0\n",
       "60    DIA0D         75.00    US$             8500.0\n",
       "62    DICAD         51.20    US$             8350.0\n",
       "68    GD29D         39.31    US$             6569.0\n",
       "71    GD30D         37.41    US$             6200.0\n",
       "74    GD35D         33.75    US$             5590.0\n",
       "77    GD38D         40.30    US$             6738.5\n",
       "80    GD41D         38.20    US$             6321.0\n",
       "83    GD46D         33.30    US$             5495.0\n",
       "92    PAA0D         44.50    US$             4801.0\n",
       "95    PARAD         46.10    US$             5980.0\n",
       "98    PAY0D         37.00    US$             5100.0\n",
       "106   PF23D         39.00    US$                NaN\n",
       "119   T2V1D         55.00    US$             9225.0\n",
       "139   TVPYD          0.89    US$              126.0"
      ],
      "text/html": "<div>\n<style scoped>\n    .dataframe tbody tr th:only-of-type {\n        vertical-align: middle;\n    }\n\n    .dataframe tbody tr th {\n        vertical-align: top;\n    }\n\n    .dataframe thead th {\n        text-align: right;\n    }\n</style>\n<table border=\"1\" class=\"dataframe\">\n  <thead>\n    <tr style=\"text-align: right;\">\n      <th></th>\n      <th>simbolo</th>\n      <th>ultimoPrecio</th>\n      <th>moneda</th>\n      <th>ultimoPrecioPesos</th>\n    </tr>\n  </thead>\n  <tbody>\n    <tr>\n      <th>1</th>\n      <td>A2E8D</td>\n      <td>42.50</td>\n      <td>US$</td>\n      <td>5301.0</td>\n    </tr>\n    <tr>\n      <th>3</th>\n      <td>AA21D</td>\n      <td>45.75</td>\n      <td>US$</td>\n      <td>4660.0</td>\n    </tr>\n    <tr>\n      <th>6</th>\n      <td>AA25D</td>\n      <td>32.60</td>\n      <td>US$</td>\n      <td>5520.0</td>\n    </tr>\n    <tr>\n      <th>8</th>\n      <td>AA37D</td>\n      <td>32.47</td>\n      <td>US$</td>\n      <td>5100.0</td>\n    </tr>\n    <tr>\n      <th>10</th>\n      <td>AA46D</td>\n      <td>30.25</td>\n      <td>US$</td>\n      <td>3150.0</td>\n    </tr>\n    <tr>\n      <th>13</th>\n      <td>AE38D</td>\n      <td>36.50</td>\n      <td>US$</td>\n      <td>6080.0</td>\n    </tr>\n    <tr>\n      <th>15</th>\n      <td>AE48D</td>\n      <td>28.00</td>\n      <td>US$</td>\n      <td>4850.0</td>\n    </tr>\n    <tr>\n      <th>17</th>\n      <td>AF20D</td>\n      <td>50.00</td>\n      <td>US$</td>\n      <td>8310.0</td>\n    </tr>\n    <tr>\n      <th>20</th>\n      <td>AL29D</td>\n      <td>36.05</td>\n      <td>US$</td>\n      <td>5990.0</td>\n    </tr>\n    <tr>\n      <th>23</th>\n      <td>AL30D</td>\n      <td>34.75</td>\n      <td>US$</td>\n      <td>5747.0</td>\n    </tr>\n    <tr>\n      <th>26</th>\n      <td>AL35D</td>\n      <td>32.75</td>\n      <td>US$</td>\n      <td>5400.0</td>\n    </tr>\n    <tr>\n      <th>30</th>\n      <td>AL41D</td>\n      <td>36.00</td>\n      <td>US$</td>\n      <td>5980.0</td>\n    </tr>\n    <tr>\n      <th>32</th>\n      <td>AO20D</td>\n      <td>52.00</td>\n      <td>US$</td>\n      <td>8650.0</td>\n    </tr>\n    <tr>\n      <th>35</th>\n      <td>AY24D</td>\n      <td>44.00</td>\n      <td>US$</td>\n      <td>7345.0</td>\n    </tr>\n    <tr>\n      <th>43</th>\n      <td>BPLDD</td>\n      <td>36.60</td>\n      <td>US$</td>\n      <td>6800.0</td>\n    </tr>\n    <tr>\n      <th>46</th>\n      <td>BPMDD</td>\n      <td>14.25</td>\n      <td>US$</td>\n      <td>1280.0</td>\n    </tr>\n    <tr>\n      <th>57</th>\n      <td>CO26D</td>\n      <td>66.20</td>\n      <td>US$</td>\n      <td>11000.0</td>\n    </tr>\n    <tr>\n      <th>60</th>\n      <td>DIA0D</td>\n      <td>75.00</td>\n      <td>US$</td>\n      <td>8500.0</td>\n    </tr>\n    <tr>\n      <th>62</th>\n      <td>DICAD</td>\n      <td>51.20</td>\n      <td>US$</td>\n      <td>8350.0</td>\n    </tr>\n    <tr>\n      <th>68</th>\n      <td>GD29D</td>\n      <td>39.31</td>\n      <td>US$</td>\n      <td>6569.0</td>\n    </tr>\n    <tr>\n      <th>71</th>\n      <td>GD30D</td>\n      <td>37.41</td>\n      <td>US$</td>\n      <td>6200.0</td>\n    </tr>\n    <tr>\n      <th>74</th>\n      <td>GD35D</td>\n      <td>33.75</td>\n      <td>US$</td>\n      <td>5590.0</td>\n    </tr>\n    <tr>\n      <th>77</th>\n      <td>GD38D</td>\n      <td>40.30</td>\n      <td>US$</td>\n      <td>6738.5</td>\n    </tr>\n    <tr>\n      <th>80</th>\n      <td>GD41D</td>\n      <td>38.20</td>\n      <td>US$</td>\n      <td>6321.0</td>\n    </tr>\n    <tr>\n      <th>83</th>\n      <td>GD46D</td>\n      <td>33.30</td>\n      <td>US$</td>\n      <td>5495.0</td>\n    </tr>\n    <tr>\n      <th>92</th>\n      <td>PAA0D</td>\n      <td>44.50</td>\n      <td>US$</td>\n      <td>4801.0</td>\n    </tr>\n    <tr>\n      <th>95</th>\n      <td>PARAD</td>\n      <td>46.10</td>\n      <td>US$</td>\n      <td>5980.0</td>\n    </tr>\n    <tr>\n      <th>98</th>\n      <td>PAY0D</td>\n      <td>37.00</td>\n      <td>US$</td>\n      <td>5100.0</td>\n    </tr>\n    <tr>\n      <th>106</th>\n      <td>PF23D</td>\n      <td>39.00</td>\n      <td>US$</td>\n      <td>NaN</td>\n    </tr>\n    <tr>\n      <th>119</th>\n      <td>T2V1D</td>\n      <td>55.00</td>\n      <td>US$</td>\n      <td>9225.0</td>\n    </tr>\n    <tr>\n      <th>139</th>\n      <td>TVPYD</td>\n      <td>0.89</td>\n      <td>US$</td>\n      <td>126.0</td>\n    </tr>\n  </tbody>\n</table>\n</div>"
     },
     "metadata": {},
     "execution_count": 171
    }
   ],
   "source": [
    "dollar_bonds['ultimoPrecioPesos'] = peso_prices_list\n"
   ]
  },
  {
   "cell_type": "code",
   "execution_count": 172,
   "metadata": {},
   "outputs": [
    {
     "output_type": "execute_result",
     "data": {
      "text/plain": [
       "    simbolo  ultimoPrecio  ultimoPrecioPesos\n",
       "1     A2E8D         42.50             5301.0\n",
       "3     AA21D         45.75             4660.0\n",
       "6     AA25D         32.60             5520.0\n",
       "8     AA37D         32.47             5100.0\n",
       "10    AA46D         30.25             3150.0\n",
       "13    AE38D         36.50             6080.0\n",
       "15    AE48D         28.00             4850.0\n",
       "17    AF20D         50.00             8310.0\n",
       "20    AL29D         36.05             5990.0\n",
       "23    AL30D         34.75             5747.0\n",
       "26    AL35D         32.75             5400.0\n",
       "30    AL41D         36.00             5980.0\n",
       "32    AO20D         52.00             8650.0\n",
       "35    AY24D         44.00             7345.0\n",
       "43    BPLDD         36.60             6800.0\n",
       "46    BPMDD         14.25             1280.0\n",
       "57    CO26D         66.20            11000.0\n",
       "60    DIA0D         75.00             8500.0\n",
       "62    DICAD         51.20             8350.0\n",
       "68    GD29D         39.31             6569.0\n",
       "71    GD30D         37.41             6200.0\n",
       "74    GD35D         33.75             5590.0\n",
       "77    GD38D         40.30             6738.5\n",
       "80    GD41D         38.20             6321.0\n",
       "83    GD46D         33.30             5495.0\n",
       "92    PAA0D         44.50             4801.0\n",
       "95    PARAD         46.10             5980.0\n",
       "98    PAY0D         37.00             5100.0\n",
       "106   PF23D         39.00                NaN\n",
       "119   T2V1D         55.00             9225.0\n",
       "139   TVPYD          0.89              126.0"
      ],
      "text/html": "<div>\n<style scoped>\n    .dataframe tbody tr th:only-of-type {\n        vertical-align: middle;\n    }\n\n    .dataframe tbody tr th {\n        vertical-align: top;\n    }\n\n    .dataframe thead th {\n        text-align: right;\n    }\n</style>\n<table border=\"1\" class=\"dataframe\">\n  <thead>\n    <tr style=\"text-align: right;\">\n      <th></th>\n      <th>simbolo</th>\n      <th>ultimoPrecio</th>\n      <th>ultimoPrecioPesos</th>\n    </tr>\n  </thead>\n  <tbody>\n    <tr>\n      <th>1</th>\n      <td>A2E8D</td>\n      <td>42.50</td>\n      <td>5301.0</td>\n    </tr>\n    <tr>\n      <th>3</th>\n      <td>AA21D</td>\n      <td>45.75</td>\n      <td>4660.0</td>\n    </tr>\n    <tr>\n      <th>6</th>\n      <td>AA25D</td>\n      <td>32.60</td>\n      <td>5520.0</td>\n    </tr>\n    <tr>\n      <th>8</th>\n      <td>AA37D</td>\n      <td>32.47</td>\n      <td>5100.0</td>\n    </tr>\n    <tr>\n      <th>10</th>\n      <td>AA46D</td>\n      <td>30.25</td>\n      <td>3150.0</td>\n    </tr>\n    <tr>\n      <th>13</th>\n      <td>AE38D</td>\n      <td>36.50</td>\n      <td>6080.0</td>\n    </tr>\n    <tr>\n      <th>15</th>\n      <td>AE48D</td>\n      <td>28.00</td>\n      <td>4850.0</td>\n    </tr>\n    <tr>\n      <th>17</th>\n      <td>AF20D</td>\n      <td>50.00</td>\n      <td>8310.0</td>\n    </tr>\n    <tr>\n      <th>20</th>\n      <td>AL29D</td>\n      <td>36.05</td>\n      <td>5990.0</td>\n    </tr>\n    <tr>\n      <th>23</th>\n      <td>AL30D</td>\n      <td>34.75</td>\n      <td>5747.0</td>\n    </tr>\n    <tr>\n      <th>26</th>\n      <td>AL35D</td>\n      <td>32.75</td>\n      <td>5400.0</td>\n    </tr>\n    <tr>\n      <th>30</th>\n      <td>AL41D</td>\n      <td>36.00</td>\n      <td>5980.0</td>\n    </tr>\n    <tr>\n      <th>32</th>\n      <td>AO20D</td>\n      <td>52.00</td>\n      <td>8650.0</td>\n    </tr>\n    <tr>\n      <th>35</th>\n      <td>AY24D</td>\n      <td>44.00</td>\n      <td>7345.0</td>\n    </tr>\n    <tr>\n      <th>43</th>\n      <td>BPLDD</td>\n      <td>36.60</td>\n      <td>6800.0</td>\n    </tr>\n    <tr>\n      <th>46</th>\n      <td>BPMDD</td>\n      <td>14.25</td>\n      <td>1280.0</td>\n    </tr>\n    <tr>\n      <th>57</th>\n      <td>CO26D</td>\n      <td>66.20</td>\n      <td>11000.0</td>\n    </tr>\n    <tr>\n      <th>60</th>\n      <td>DIA0D</td>\n      <td>75.00</td>\n      <td>8500.0</td>\n    </tr>\n    <tr>\n      <th>62</th>\n      <td>DICAD</td>\n      <td>51.20</td>\n      <td>8350.0</td>\n    </tr>\n    <tr>\n      <th>68</th>\n      <td>GD29D</td>\n      <td>39.31</td>\n      <td>6569.0</td>\n    </tr>\n    <tr>\n      <th>71</th>\n      <td>GD30D</td>\n      <td>37.41</td>\n      <td>6200.0</td>\n    </tr>\n    <tr>\n      <th>74</th>\n      <td>GD35D</td>\n      <td>33.75</td>\n      <td>5590.0</td>\n    </tr>\n    <tr>\n      <th>77</th>\n      <td>GD38D</td>\n      <td>40.30</td>\n      <td>6738.5</td>\n    </tr>\n    <tr>\n      <th>80</th>\n      <td>GD41D</td>\n      <td>38.20</td>\n      <td>6321.0</td>\n    </tr>\n    <tr>\n      <th>83</th>\n      <td>GD46D</td>\n      <td>33.30</td>\n      <td>5495.0</td>\n    </tr>\n    <tr>\n      <th>92</th>\n      <td>PAA0D</td>\n      <td>44.50</td>\n      <td>4801.0</td>\n    </tr>\n    <tr>\n      <th>95</th>\n      <td>PARAD</td>\n      <td>46.10</td>\n      <td>5980.0</td>\n    </tr>\n    <tr>\n      <th>98</th>\n      <td>PAY0D</td>\n      <td>37.00</td>\n      <td>5100.0</td>\n    </tr>\n    <tr>\n      <th>106</th>\n      <td>PF23D</td>\n      <td>39.00</td>\n      <td>NaN</td>\n    </tr>\n    <tr>\n      <th>119</th>\n      <td>T2V1D</td>\n      <td>55.00</td>\n      <td>9225.0</td>\n    </tr>\n    <tr>\n      <th>139</th>\n      <td>TVPYD</td>\n      <td>0.89</td>\n      <td>126.0</td>\n    </tr>\n  </tbody>\n</table>\n</div>"
     },
     "metadata": {},
     "execution_count": 172
    }
   ],
   "source": [
    "dollar_bonds.drop(columns='moneda')"
   ]
  },
  {
   "cell_type": "code",
   "execution_count": 177,
   "metadata": {},
   "outputs": [
    {
     "output_type": "execute_result",
     "data": {
      "text/plain": [
       "    simbolo  ultimoPrecio moneda  ultimoPrecioPesos     MEP\n",
       "1     A2E8D         42.50    US$             5301.0  124.73\n",
       "3     AA21D         45.75    US$             4660.0  101.86\n",
       "6     AA25D         32.60    US$             5520.0  169.33\n",
       "8     AA37D         32.47    US$             5100.0  157.07\n",
       "10    AA46D         30.25    US$             3150.0  104.13\n",
       "13    AE38D         36.50    US$             6080.0  166.58\n",
       "15    AE48D         28.00    US$             4850.0  173.21\n",
       "17    AF20D         50.00    US$             8310.0  166.20\n",
       "20    AL29D         36.05    US$             5990.0  166.16\n",
       "23    AL30D         34.75    US$             5747.0  165.38\n",
       "26    AL35D         32.75    US$             5400.0  164.89\n",
       "30    AL41D         36.00    US$             5980.0  166.11\n",
       "32    AO20D         52.00    US$             8650.0  166.35\n",
       "35    AY24D         44.00    US$             7345.0  166.93\n",
       "43    BPLDD         36.60    US$             6800.0  185.79\n",
       "46    BPMDD         14.25    US$             1280.0   89.82\n",
       "57    CO26D         66.20    US$            11000.0  166.16\n",
       "60    DIA0D         75.00    US$             8500.0  113.33\n",
       "62    DICAD         51.20    US$             8350.0  163.09\n",
       "68    GD29D         39.31    US$             6569.0  167.11\n",
       "71    GD30D         37.41    US$             6200.0  165.73\n",
       "74    GD35D         33.75    US$             5590.0  165.63\n",
       "77    GD38D         40.30    US$             6738.5  167.21\n",
       "80    GD41D         38.20    US$             6321.0  165.47\n",
       "83    GD46D         33.30    US$             5495.0  165.02\n",
       "92    PAA0D         44.50    US$             4801.0  107.89\n",
       "95    PARAD         46.10    US$             5980.0  129.72\n",
       "98    PAY0D         37.00    US$             5100.0  137.84\n",
       "119   T2V1D         55.00    US$             9225.0  167.73\n",
       "139   TVPYD          0.89    US$              126.0  141.57"
      ],
      "text/html": "<div>\n<style scoped>\n    .dataframe tbody tr th:only-of-type {\n        vertical-align: middle;\n    }\n\n    .dataframe tbody tr th {\n        vertical-align: top;\n    }\n\n    .dataframe thead th {\n        text-align: right;\n    }\n</style>\n<table border=\"1\" class=\"dataframe\">\n  <thead>\n    <tr style=\"text-align: right;\">\n      <th></th>\n      <th>simbolo</th>\n      <th>ultimoPrecio</th>\n      <th>moneda</th>\n      <th>ultimoPrecioPesos</th>\n      <th>MEP</th>\n    </tr>\n  </thead>\n  <tbody>\n    <tr>\n      <th>1</th>\n      <td>A2E8D</td>\n      <td>42.50</td>\n      <td>US$</td>\n      <td>5301.0</td>\n      <td>124.73</td>\n    </tr>\n    <tr>\n      <th>3</th>\n      <td>AA21D</td>\n      <td>45.75</td>\n      <td>US$</td>\n      <td>4660.0</td>\n      <td>101.86</td>\n    </tr>\n    <tr>\n      <th>6</th>\n      <td>AA25D</td>\n      <td>32.60</td>\n      <td>US$</td>\n      <td>5520.0</td>\n      <td>169.33</td>\n    </tr>\n    <tr>\n      <th>8</th>\n      <td>AA37D</td>\n      <td>32.47</td>\n      <td>US$</td>\n      <td>5100.0</td>\n      <td>157.07</td>\n    </tr>\n    <tr>\n      <th>10</th>\n      <td>AA46D</td>\n      <td>30.25</td>\n      <td>US$</td>\n      <td>3150.0</td>\n      <td>104.13</td>\n    </tr>\n    <tr>\n      <th>13</th>\n      <td>AE38D</td>\n      <td>36.50</td>\n      <td>US$</td>\n      <td>6080.0</td>\n      <td>166.58</td>\n    </tr>\n    <tr>\n      <th>15</th>\n      <td>AE48D</td>\n      <td>28.00</td>\n      <td>US$</td>\n      <td>4850.0</td>\n      <td>173.21</td>\n    </tr>\n    <tr>\n      <th>17</th>\n      <td>AF20D</td>\n      <td>50.00</td>\n      <td>US$</td>\n      <td>8310.0</td>\n      <td>166.20</td>\n    </tr>\n    <tr>\n      <th>20</th>\n      <td>AL29D</td>\n      <td>36.05</td>\n      <td>US$</td>\n      <td>5990.0</td>\n      <td>166.16</td>\n    </tr>\n    <tr>\n      <th>23</th>\n      <td>AL30D</td>\n      <td>34.75</td>\n      <td>US$</td>\n      <td>5747.0</td>\n      <td>165.38</td>\n    </tr>\n    <tr>\n      <th>26</th>\n      <td>AL35D</td>\n      <td>32.75</td>\n      <td>US$</td>\n      <td>5400.0</td>\n      <td>164.89</td>\n    </tr>\n    <tr>\n      <th>30</th>\n      <td>AL41D</td>\n      <td>36.00</td>\n      <td>US$</td>\n      <td>5980.0</td>\n      <td>166.11</td>\n    </tr>\n    <tr>\n      <th>32</th>\n      <td>AO20D</td>\n      <td>52.00</td>\n      <td>US$</td>\n      <td>8650.0</td>\n      <td>166.35</td>\n    </tr>\n    <tr>\n      <th>35</th>\n      <td>AY24D</td>\n      <td>44.00</td>\n      <td>US$</td>\n      <td>7345.0</td>\n      <td>166.93</td>\n    </tr>\n    <tr>\n      <th>43</th>\n      <td>BPLDD</td>\n      <td>36.60</td>\n      <td>US$</td>\n      <td>6800.0</td>\n      <td>185.79</td>\n    </tr>\n    <tr>\n      <th>46</th>\n      <td>BPMDD</td>\n      <td>14.25</td>\n      <td>US$</td>\n      <td>1280.0</td>\n      <td>89.82</td>\n    </tr>\n    <tr>\n      <th>57</th>\n      <td>CO26D</td>\n      <td>66.20</td>\n      <td>US$</td>\n      <td>11000.0</td>\n      <td>166.16</td>\n    </tr>\n    <tr>\n      <th>60</th>\n      <td>DIA0D</td>\n      <td>75.00</td>\n      <td>US$</td>\n      <td>8500.0</td>\n      <td>113.33</td>\n    </tr>\n    <tr>\n      <th>62</th>\n      <td>DICAD</td>\n      <td>51.20</td>\n      <td>US$</td>\n      <td>8350.0</td>\n      <td>163.09</td>\n    </tr>\n    <tr>\n      <th>68</th>\n      <td>GD29D</td>\n      <td>39.31</td>\n      <td>US$</td>\n      <td>6569.0</td>\n      <td>167.11</td>\n    </tr>\n    <tr>\n      <th>71</th>\n      <td>GD30D</td>\n      <td>37.41</td>\n      <td>US$</td>\n      <td>6200.0</td>\n      <td>165.73</td>\n    </tr>\n    <tr>\n      <th>74</th>\n      <td>GD35D</td>\n      <td>33.75</td>\n      <td>US$</td>\n      <td>5590.0</td>\n      <td>165.63</td>\n    </tr>\n    <tr>\n      <th>77</th>\n      <td>GD38D</td>\n      <td>40.30</td>\n      <td>US$</td>\n      <td>6738.5</td>\n      <td>167.21</td>\n    </tr>\n    <tr>\n      <th>80</th>\n      <td>GD41D</td>\n      <td>38.20</td>\n      <td>US$</td>\n      <td>6321.0</td>\n      <td>165.47</td>\n    </tr>\n    <tr>\n      <th>83</th>\n      <td>GD46D</td>\n      <td>33.30</td>\n      <td>US$</td>\n      <td>5495.0</td>\n      <td>165.02</td>\n    </tr>\n    <tr>\n      <th>92</th>\n      <td>PAA0D</td>\n      <td>44.50</td>\n      <td>US$</td>\n      <td>4801.0</td>\n      <td>107.89</td>\n    </tr>\n    <tr>\n      <th>95</th>\n      <td>PARAD</td>\n      <td>46.10</td>\n      <td>US$</td>\n      <td>5980.0</td>\n      <td>129.72</td>\n    </tr>\n    <tr>\n      <th>98</th>\n      <td>PAY0D</td>\n      <td>37.00</td>\n      <td>US$</td>\n      <td>5100.0</td>\n      <td>137.84</td>\n    </tr>\n    <tr>\n      <th>119</th>\n      <td>T2V1D</td>\n      <td>55.00</td>\n      <td>US$</td>\n      <td>9225.0</td>\n      <td>167.73</td>\n    </tr>\n    <tr>\n      <th>139</th>\n      <td>TVPYD</td>\n      <td>0.89</td>\n      <td>US$</td>\n      <td>126.0</td>\n      <td>141.57</td>\n    </tr>\n  </tbody>\n</table>\n</div>"
     },
     "metadata": {},
     "execution_count": 177
    }
   ],
   "source": [
    "dollar_bonds['MEP'] = (dollar_bonds['ultimoPrecioPesos'] / dollar_bonds['ultimoPrecio']).round(2)\n",
    "dollar_bonds.dropna(inplace=True)\n",
    "\n",
    "dollar_bonds"
   ]
  },
  {
   "source": [
    "# 3. Resumo"
   ],
   "cell_type": "markdown",
   "metadata": {}
  },
  {
   "cell_type": "code",
   "execution_count": 107,
   "metadata": {},
   "outputs": [
    {
     "output_type": "stream",
     "name": "stdout",
     "text": [
      "    simbolo     MEP\n",
      "46    BPMDD   89.82\n",
      "3     AA21D  101.86\n",
      "10    AA46D  104.13\n",
      "92    PAA0D  107.89\n",
      "60    DIA0D  113.33\n",
      "1     A2E8D  124.73\n",
      "95    PARAD  127.79\n",
      "139   TVPYD  133.71\n",
      "98    PAY0D  137.84\n",
      "8     AA37D  157.07\n",
      "62    DICAD  163.09\n",
      "23    AL30D  165.50\n",
      "13    AE38D  166.13\n",
      "17    AF20D  166.20\n",
      "68    GD29D  166.20\n",
      "71    GD30D  166.31\n",
      "30    AL41D  166.53\n",
      "57    CO26D  166.69\n",
      "80    GD41D  167.05\n",
      "74    GD35D  167.24\n",
      "35    AY24D  167.70\n",
      "20    AL29D  167.72\n",
      "83    GD46D  167.90\n",
      "26    AL35D  167.99\n",
      "77    GD38D  168.59\n",
      "32    AO20D  168.93\n",
      "119   T2V1D  169.09\n",
      "6     AA25D  169.33\n",
      "15    AE48D  173.21\n",
      "43    BPLDD  185.79\n",
      "CPU times: user 138 ms, sys: 55.2 ms, total: 193 ms\n",
      "Wall time: 2.57 s\n",
      "<timed exec>:42: UserWarning: Boolean Series key will be reindexed to match DataFrame index.\n",
      "<timed exec>:42: UserWarning: Boolean Series key will be reindexed to match DataFrame index.\n",
      "<timed exec>:43: UserWarning: Boolean Series key will be reindexed to match DataFrame index.\n",
      "<timed exec>:58: SettingWithCopyWarning: \n",
      "A value is trying to be set on a copy of a slice from a DataFrame\n",
      "\n",
      "See the caveats in the documentation: https://pandas.pydata.org/pandas-docs/stable/user_guide/indexing.html#returning-a-view-versus-a-copy\n"
     ]
    }
   ],
   "source": [
    "%%time\n",
    "\n",
    "import requests\n",
    "import json\n",
    "\n",
    "import pandas as pd\n",
    "\n",
    "URL__API_IOL__BASE = 'https://api.invertironline.com/'\n",
    "URL__API_IOL__TOKEN = URL__API_IOL__BASE + 'token'\n",
    "\n",
    "URL__API_IOL__V2 = URL__API_IOL__BASE + 'api/v2/'\n",
    "URL__API_IOL__BONDS = URL__API_IOL__V2 + 'Cotizaciones/bonos/bonos/argentina'\n",
    "URL__API_IOL__ACCOUNT = URL__API_IOL__V2 + 'estadocuenta'\n",
    "\n",
    "SECRET__USER_IOL = 'nelsonmaty'\n",
    "SECRET__PASS_IOL = 'admindora9'\n",
    "\n",
    "request_token_data = {\n",
    "    'username': SECRET__USER_IOL,\n",
    "    'password': SECRET__PASS_IOL,\n",
    "    'grant_type': 'password'\n",
    "}\n",
    "\n",
    "request_token_headers = {\n",
    "    'Content-Type': 'application/x-www-form-urlencoded'\n",
    "}\n",
    "\n",
    "r = requests.post(url=URL__API_IOL__TOKEN, data=request_token_data, headers=request_token_headers)\n",
    "\n",
    "request_headers = {\n",
    "    'Authorization': 'Bearer ' + r.json()['access_token']\n",
    "}\n",
    "\n",
    "request_bonds_data = {\n",
    "    'panelCotizacion': {\n",
    "        'pais': 'argentina',\n",
    "        'instrumento': 'bonos'\n",
    "    }\n",
    "}\n",
    "\n",
    "r = requests.get(url=URL__API_IOL__BONDS, data=request_token_data, headers=request_headers)\n",
    "df = pd.DataFrame.from_dict(r.json()['titulos'])\n",
    "\n",
    "dollar_bonds = df[(df['moneda'] == 'US$')][df['simbolo'].str.endswith('D')][df['ultimoPrecio']>0]\n",
    "peso_bonds = df[(df['moneda'] == 'AR$')][df['ultimoPrecio']>0]\n",
    "\n",
    "peso_prices_list = []\n",
    "\n",
    "for x in range(len(dollar_bonds)):\n",
    "    value = peso_bonds[peso_bonds['simbolo'] == dollar_bonds.iloc[x]['simbolo'][:-1]]['ultimoPrecio']\n",
    "    if (len(value) > 0):\n",
    "        peso_prices_list.append(value.iloc[0])\n",
    "    else:\n",
    "        peso_prices_list.append(float('NaN'))\n",
    "\n",
    "dollar_bonds['ultimoPrecioPesos'] = peso_prices_list\n",
    "dollar_bonds['MEP'] = (dollar_bonds['ultimoPrecioPesos'] / dollar_bonds['ultimoPrecio']).round(2)\n",
    "\n",
    "bonds = dollar_bonds[['simbolo', 'MEP']]\n",
    "bonds.dropna(inplace=True)\n",
    "\n",
    "print(bonds.sort_values('MEP'))"
   ]
  },
  {
   "cell_type": "code",
   "execution_count": null,
   "metadata": {},
   "outputs": [],
   "source": [
    "46    BPMDD   89.82\n",
    "3     AA21D  101.86\n",
    "10    AA46D  104.13\n",
    "92    PAA0D  107.89\n",
    "60    DIA0D  113.33\n",
    "1     A2E8D  124.73\n",
    "95    PARAD  129.72\n",
    "139   TVPYD  135.96\n",
    "98    PAY0D  137.84\n",
    "8     AA37D  157.07\n",
    "83    GD46D  161.18\n",
    "62    DICAD  163.09\n",
    "68    GD29D  164.40\n",
    "74    GD35D  166.12\n",
    "17    AF20D  166.20\n",
    "20    AL29D  166.25\n",
    "13    AE38D  166.40\n",
    "23    AL30D  166.52\n",
    "57    CO26D  166.58\n",
    "71    GD30D  166.65\n",
    "26    AL35D  166.87\n",
    "119   T2V1D  166.89\n",
    "77    GD38D  167.00\n",
    "80    GD41D  167.10\n",
    "30    AL41D  167.10\n",
    "32    AO20D  168.46\n",
    "6     AA25D  169.33\n",
    "35    AY24D  171.01\n",
    "15    AE48D  173.21\n",
    "43    BPLDD  185.79"
   ]
  },
  {
   "source": [
    "# 4. Evaluo rendimientos de parking"
   ],
   "cell_type": "markdown",
   "metadata": {}
  },
  {
   "cell_type": "code",
   "execution_count": 209,
   "metadata": {},
   "outputs": [],
   "source": [
    "# Descargo datos historicos desde rava.com\n",
    "\n",
    "# URL__API_RAVA__HISTORIC_DATA = 'https://clasico.rava.com/lib/restapi/v3/publico/cotizacioneshistoricas/read'\n",
    "\n",
    "# request_historic_data = {\n",
    "#     'access-token': 'ab8415b212cb21565d83f159fcbaddba19b64836',\n",
    "#     'especie': 'AL30',\n",
    "#     'fecha-inicio': '0000-00-00',\n",
    "#     'fecha-fin': '2021-07-14'\n",
    "# }\n",
    "\n",
    "# data = requests.post(url=URL__API_RAVA__HISTORIC_DATA, data=request_historic_data)"
   ]
  },
  {
   "cell_type": "code",
   "execution_count": null,
   "metadata": {},
   "outputs": [],
   "source": []
  },
  {
   "source": [
    "# 5. Utilizo las puntas para calcular valor de venta de mep"
   ],
   "cell_type": "markdown",
   "metadata": {}
  },
  {
   "source": [
    "## Listado de bonos"
   ],
   "cell_type": "markdown",
   "metadata": {}
  },
  {
   "cell_type": "code",
   "execution_count": 264,
   "metadata": {},
   "outputs": [
    {
     "output_type": "stream",
     "name": "stderr",
     "text": [
      "<ipython-input-264-42127d6d37f6>:12: UserWarning: Boolean Series key will be reindexed to match DataFrame index.\n  dollar_bonds = df[(df['moneda'] == 'US$')][df['simbolo'].str.endswith('D')]\n"
     ]
    }
   ],
   "source": [
    "request_bonds_data = {\n",
    "    'panelCotizacion': {\n",
    "        'pais': 'argentina',\n",
    "        'instrumento': 'bonos'\n",
    "    }\n",
    "}\n",
    "\n",
    "r = requests.get(url=URL__API_IOL__BONDS, data=request_bonds_data, headers=request_headers)\n",
    "\n",
    "df = pd.DataFrame.from_dict(r.json()['titulos'])\n",
    "dollar_bonds = df[(df['moneda'] == 'US$')][df['simbolo'].str.endswith('D')]\n",
    "dbonds_list = dollar_bonds['simbolo'].values\n"
   ]
  },
  {
   "cell_type": "code",
   "execution_count": 265,
   "metadata": {},
   "outputs": [
    {
     "output_type": "execute_result",
     "data": {
      "text/plain": [
       "array(['A2E8D', 'AA21D', 'AA25D', 'AA37D', 'AA46D', 'AE38D', 'AE48D',\n",
       "       'AF20D', 'AL29D', 'AL30D', 'AL35D', 'AL41D', 'AO20D', 'AY24D',\n",
       "       'BPLDD', 'BPMDD', 'CO23D', 'CO26D', 'DIA0D', 'DICAD', 'GD29D',\n",
       "       'GD30D', 'GD35D', 'GD38D', 'GD41D', 'GD46D', 'PAA0D', 'PARAD',\n",
       "       'PAY0D', 'PBJ27D', 'PF23D', 'T2V1D', 'TVPYD'], dtype=object)"
      ]
     },
     "metadata": {},
     "execution_count": 265
    }
   ],
   "source": [
    "dbonds_list"
   ]
  },
  {
   "source": [
    "## MEP AL30"
   ],
   "cell_type": "markdown",
   "metadata": {}
  },
  {
   "cell_type": "code",
   "execution_count": 32,
   "metadata": {},
   "outputs": [],
   "source": [
    "URL__API_IOL__ASSET_DATA = URL__API_IOL__V2 + '{Mercado}/Titulos/{Simbolo}/Cotizacion'"
   ]
  },
  {
   "cell_type": "code",
   "execution_count": 33,
   "metadata": {},
   "outputs": [
    {
     "output_type": "execute_result",
     "data": {
      "text/plain": [
       "'https://api.invertironline.com/api/v2/{Mercado}/Titulos/{Simbolo}/Cotizacion'"
      ]
     },
     "metadata": {},
     "execution_count": 33
    }
   ],
   "source": [
    "URL__API_IOL__ASSET_DATA"
   ]
  },
  {
   "cell_type": "code",
   "execution_count": 98,
   "metadata": {},
   "outputs": [],
   "source": [
    "request_asset_data = {\n",
    "    'mercado': 'argentina',\n",
    "    'simbolo': 'AL30',\n",
    "    'model.simbolo': 'AL30',\n",
    "    'model.mercado': 'bCBA',\n",
    "    'model.plazo': 't0'\n",
    "}\n"
   ]
  },
  {
   "cell_type": "code",
   "execution_count": 108,
   "metadata": {},
   "outputs": [],
   "source": [
    "al30 = requests.get(\n",
    "        url=URL__API_IOL__ASSET_DATA,\n",
    "        params=request_asset_data,\n",
    "        headers=request_headers\n",
    "    )"
   ]
  },
  {
   "cell_type": "code",
   "execution_count": 109,
   "metadata": {},
   "outputs": [
    {
     "output_type": "execute_result",
     "data": {
      "text/plain": [
       "{'ultimoPrecio': 35.37,\n",
       " 'variacion': 0.7118451025056948,\n",
       " 'apertura': 35.02,\n",
       " 'maximo': 35.4,\n",
       " 'minimo': 35.02,\n",
       " 'fechaHora': '2021-07-16T17:00:08.9291463-03:00',\n",
       " 'tendencia': 'sube',\n",
       " 'cierreAnterior': 35.3882435,\n",
       " 'montoOperado': 2001251.36,\n",
       " 'volumenNominal': 5668222,\n",
       " 'precioPromedio': 0.0,\n",
       " 'moneda': 'dolar_Estadounidense',\n",
       " 'precioAjuste': 0.0,\n",
       " 'interesesAbiertos': 0.0,\n",
       " 'puntas': [{'cantidadCompra': 3144.0,\n",
       "   'precioCompra': 34.0,\n",
       "   'precioVenta': 35.5,\n",
       "   'cantidadVenta': 650.0},\n",
       "  {'cantidadCompra': 0.0,\n",
       "   'precioCompra': 0.0,\n",
       "   'precioVenta': 35.7,\n",
       "   'cantidadVenta': 5631.0},\n",
       "  {'cantidadCompra': 0.0,\n",
       "   'precioCompra': 0.0,\n",
       "   'precioVenta': 36.0,\n",
       "   'cantidadVenta': 21145.0},\n",
       "  {'cantidadCompra': 0.0,\n",
       "   'precioCompra': 0.0,\n",
       "   'precioVenta': 36.5,\n",
       "   'cantidadVenta': 20760.0},\n",
       "  {'cantidadCompra': 0.0,\n",
       "   'precioCompra': 0.0,\n",
       "   'precioVenta': 36.61,\n",
       "   'cantidadVenta': 20.0}],\n",
       " 'cantidadOperaciones': 12}"
      ]
     },
     "metadata": {},
     "execution_count": 109
    }
   ],
   "source": [
    "al30.json()"
   ]
  },
  {
   "cell_type": "code",
   "execution_count": 110,
   "metadata": {},
   "outputs": [],
   "source": [
    "puntas = pd.DataFrame(al30.json()['puntas'])"
   ]
  },
  {
   "cell_type": "code",
   "execution_count": 111,
   "metadata": {},
   "outputs": [
    {
     "output_type": "execute_result",
     "data": {
      "text/plain": [
       "   cantidadCompra  precioCompra  precioVenta  cantidadVenta\n",
       "0           172.0        5800.0       5900.0        21700.0\n",
       "1           293.0        5796.0       5990.0        10461.0\n",
       "2           280.0        5795.0       5999.0         1000.0\n",
       "3           345.0        5790.0       6050.0         1715.0\n",
       "4           346.0        5775.0       6080.0          100.0"
      ],
      "text/html": "<div>\n<style scoped>\n    .dataframe tbody tr th:only-of-type {\n        vertical-align: middle;\n    }\n\n    .dataframe tbody tr th {\n        vertical-align: top;\n    }\n\n    .dataframe thead th {\n        text-align: right;\n    }\n</style>\n<table border=\"1\" class=\"dataframe\">\n  <thead>\n    <tr style=\"text-align: right;\">\n      <th></th>\n      <th>cantidadCompra</th>\n      <th>precioCompra</th>\n      <th>precioVenta</th>\n      <th>cantidadVenta</th>\n    </tr>\n  </thead>\n  <tbody>\n    <tr>\n      <th>0</th>\n      <td>172.0</td>\n      <td>5800.0</td>\n      <td>5900.0</td>\n      <td>21700.0</td>\n    </tr>\n    <tr>\n      <th>1</th>\n      <td>293.0</td>\n      <td>5796.0</td>\n      <td>5990.0</td>\n      <td>10461.0</td>\n    </tr>\n    <tr>\n      <th>2</th>\n      <td>280.0</td>\n      <td>5795.0</td>\n      <td>5999.0</td>\n      <td>1000.0</td>\n    </tr>\n    <tr>\n      <th>3</th>\n      <td>345.0</td>\n      <td>5790.0</td>\n      <td>6050.0</td>\n      <td>1715.0</td>\n    </tr>\n    <tr>\n      <th>4</th>\n      <td>346.0</td>\n      <td>5775.0</td>\n      <td>6080.0</td>\n      <td>100.0</td>\n    </tr>\n  </tbody>\n</table>\n</div>"
     },
     "metadata": {},
     "execution_count": 111
    }
   ],
   "source": [
    "puntas_al30 "
   ]
  },
  {
   "cell_type": "code",
   "execution_count": 113,
   "metadata": {},
   "outputs": [],
   "source": [
    "request_asset_data['model.simbolo'] = 'AL30D'\n",
    "\n",
    "puntas_al30D = pd.DataFrame(\n",
    "    requests.get(\n",
    "        url=URL__API_IOL__ASSET_DATA,\n",
    "        params=request_asset_data,\n",
    "        headers=request_headers\n",
    "    ).json()['puntas']\n",
    ")"
   ]
  },
  {
   "cell_type": "code",
   "execution_count": 114,
   "metadata": {},
   "outputs": [
    {
     "output_type": "execute_result",
     "data": {
      "text/plain": [
       "   cantidadCompra  precioCompra  precioVenta  cantidadVenta\n",
       "0          3144.0          34.0        35.50          650.0\n",
       "1             0.0           0.0        35.70         5631.0\n",
       "2             0.0           0.0        36.00        21145.0\n",
       "3             0.0           0.0        36.50        20760.0\n",
       "4             0.0           0.0        36.61           20.0"
      ],
      "text/html": "<div>\n<style scoped>\n    .dataframe tbody tr th:only-of-type {\n        vertical-align: middle;\n    }\n\n    .dataframe tbody tr th {\n        vertical-align: top;\n    }\n\n    .dataframe thead th {\n        text-align: right;\n    }\n</style>\n<table border=\"1\" class=\"dataframe\">\n  <thead>\n    <tr style=\"text-align: right;\">\n      <th></th>\n      <th>cantidadCompra</th>\n      <th>precioCompra</th>\n      <th>precioVenta</th>\n      <th>cantidadVenta</th>\n    </tr>\n  </thead>\n  <tbody>\n    <tr>\n      <th>0</th>\n      <td>3144.0</td>\n      <td>34.0</td>\n      <td>35.50</td>\n      <td>650.0</td>\n    </tr>\n    <tr>\n      <th>1</th>\n      <td>0.0</td>\n      <td>0.0</td>\n      <td>35.70</td>\n      <td>5631.0</td>\n    </tr>\n    <tr>\n      <th>2</th>\n      <td>0.0</td>\n      <td>0.0</td>\n      <td>36.00</td>\n      <td>21145.0</td>\n    </tr>\n    <tr>\n      <th>3</th>\n      <td>0.0</td>\n      <td>0.0</td>\n      <td>36.50</td>\n      <td>20760.0</td>\n    </tr>\n    <tr>\n      <th>4</th>\n      <td>0.0</td>\n      <td>0.0</td>\n      <td>36.61</td>\n      <td>20.0</td>\n    </tr>\n  </tbody>\n</table>\n</div>"
     },
     "metadata": {},
     "execution_count": 114
    }
   ],
   "source": [
    "puntas_al30D"
   ]
  },
  {
   "cell_type": "code",
   "execution_count": 115,
   "metadata": {},
   "outputs": [
    {
     "output_type": "execute_result",
     "data": {
      "text/plain": [
       "5900.0"
      ]
     },
     "metadata": {},
     "execution_count": 115
    }
   ],
   "source": [
    "puntas_al30.iloc[0]['precioVenta']"
   ]
  },
  {
   "cell_type": "code",
   "execution_count": 116,
   "metadata": {},
   "outputs": [
    {
     "output_type": "execute_result",
     "data": {
      "text/plain": [
       "(173.52941176470588, 163.38028169014083)"
      ]
     },
     "metadata": {},
     "execution_count": 116
    }
   ],
   "source": [
    "compra_mep_al30 = puntas_al30.iloc[0]['precioVenta'] / puntas_al30D.iloc[0]['precioCompra']\n",
    "venta_mep_al30 = puntas_al30.iloc[0]['precioCompra'] / puntas_al30D.iloc[0]['precioVenta']\n",
    "compra_mep_al30, venta_mep_al30"
   ]
  },
  {
   "source": [
    "## Itero bonos"
   ],
   "cell_type": "markdown",
   "metadata": {}
  },
  {
   "cell_type": "code",
   "execution_count": 204,
   "metadata": {},
   "outputs": [],
   "source": [
    "mep_dataframe = pd.DataFrame(columns=['Date', 'Symbol', 'Sell_price'])"
   ]
  },
  {
   "cell_type": "code",
   "execution_count": 169,
   "metadata": {},
   "outputs": [],
   "source": []
  },
  {
   "cell_type": "code",
   "execution_count": 232,
   "metadata": {},
   "outputs": [
    {
     "output_type": "stream",
     "name": "stdout",
     "text": [
      "Requesting A2E8\n",
      "sin punta pesos\n",
      "Requesting AA21\n",
      "sin punta pesos\n",
      "Requesting AA25\n",
      "Requesting AA25D\n",
      "sin punta dollar\n",
      "Requesting AA37\n",
      "Requesting AA37D\n",
      "sin punta dollar\n",
      "Requesting AA46\n",
      "sin punta pesos\n",
      "Requesting AE38\n",
      "Requesting AE38D\n",
      "Requesting AE48\n",
      "sin punta pesos\n",
      "Requesting AF20\n",
      "Requesting AF20D\n",
      "sin punta dollar\n",
      "Requesting AL29\n",
      "Requesting AL29D\n",
      "Requesting AL30\n",
      "Requesting AL30D\n",
      "Requesting AL35\n",
      "Requesting AL35D\n",
      "Requesting AL41\n",
      "Requesting AL41D\n",
      "Requesting AO20\n",
      "Requesting AO20D\n",
      "sin punta dollar\n",
      "Requesting AY24\n",
      "Requesting AY24D\n",
      "Requesting BPLD\n",
      "sin punta pesos\n",
      "Requesting BPMD\n",
      "sin punta pesos\n",
      "Requesting CO26\n",
      "Requesting CO26D\n",
      "Requesting DIA0\n",
      "sin punta pesos\n",
      "Requesting DICA\n",
      "sin punta pesos\n",
      "Requesting GD29\n",
      "Requesting GD29D\n",
      "Requesting GD30\n",
      "Requesting GD30D\n",
      "Requesting GD35\n",
      "Requesting GD35D\n",
      "Requesting GD38\n",
      "Requesting GD38D\n",
      "Requesting GD41\n",
      "Requesting GD41D\n",
      "Requesting GD46\n",
      "Requesting GD46D\n",
      "Requesting PAA0\n",
      "sin punta pesos\n",
      "Requesting PARA\n",
      "Requesting PARAD\n",
      "sin punta dollar\n",
      "Requesting PAY0\n",
      "sin punta pesos\n",
      "Requesting PF23\n",
      "something went wrong\n",
      "Requesting T2V1\n",
      "Requesting T2V1D\n",
      "sin punta dollar\n",
      "Requesting TVPY\n",
      "sin punta pesos\n",
      "CPU times: user 1.48 s, sys: 145 ms, total: 1.62 s\n",
      "Wall time: 49.6 s\n"
     ]
    }
   ],
   "source": [
    "%%time \n",
    "df_dollar_bonds = pd.DataFrame()\n",
    "df_peso_bonds = pd.DataFrame()\n",
    "list_of_dollar_bonds = dollar_bonds['simbolo'].values\n",
    "request_asset_data = {\n",
    "    'mercado': 'argentina',\n",
    "    'model.mercado': 'bCBA',\n",
    "    'model.plazo': 't0'\n",
    "}\n",
    "list_of_mep = []\n",
    "\n",
    "for bond in list_of_dollar_bonds:\n",
    "    bond_name = bond[:-1]\n",
    "    print('Requesting', bond_name)\n",
    "    request_asset_data['simbolo'] = bond_name\n",
    "    request_asset_data['model.simbolo'] = bond_name\n",
    "    peso_bond = requests.get(\n",
    "        url=URL__API_IOL__ASSET_DATA,\n",
    "        params=request_asset_data,\n",
    "        headers=request_headers\n",
    "    )\n",
    "    if (peso_bond.status_code == 200):\n",
    "        punta_pesos = pd.DataFrame(peso_bond.json()['puntas'])\n",
    "        if (len(punta_pesos) != 0):\n",
    "            print('Requesting', bond)\n",
    "            request_asset_data['simbolo'] = bond\n",
    "            request_asset_data['model.simbolo'] = bond\n",
    "            dollar_bond = requests.get(\n",
    "                url=URL__API_IOL__ASSET_DATA,\n",
    "                params=request_asset_data,\n",
    "                headers=request_headers\n",
    "            )\n",
    "            if (dollar_bond.status_code == 200):\n",
    "                punta_dollar = pd.DataFrame(dollar_bond.json()['puntas'])\n",
    "                if (\n",
    "                    len(punta_dollar) != 0 \n",
    "                ):\n",
    "                    compra_mep = punta_pesos.iloc[0]['precioVenta'] / punta_dollar.iloc[0]['precioCompra']\n",
    "                    # venta_mep = punta_pesos.iloc[0]['precioCompra'] / punta_dollar.iloc[0]['precioVenta']\n",
    "                    mep_dataframe = mep_dataframe.append({\n",
    "                        'Date': datetime.now(),\n",
    "                        'Symbol': bond_name,\n",
    "                        'Buy_price': compra_mep\n",
    "                        # 'Sell_price': venta_mep\n",
    "                    }, ignore_index=True)\n",
    "                else:\n",
    "                    print('sin punta dollar')\n",
    "            else:\n",
    "                print('something went wrong')\n",
    "        else:\n",
    "            print('sin punta pesos')\n",
    "    else:\n",
    "        print('something went wrong')\n"
   ]
  },
  {
   "cell_type": "code",
   "execution_count": 233,
   "metadata": {},
   "outputs": [
    {
     "output_type": "execute_result",
     "data": {
      "text/plain": [
       "                         Date Symbol  Sell_price  Sell_spread_al30  \\\n",
       "0  2021-07-18 02:10:22.405155   AE38  151.272638         -0.155457   \n",
       "1  2021-07-18 02:10:25.960352   AL29  165.509702         -0.075972   \n",
       "2  2021-07-18 02:10:27.701042   AL30  164.507042         -0.081570   \n",
       "3  2021-07-18 02:10:29.441221   AL35  148.630137         -0.170209   \n",
       "4  2021-07-18 02:10:31.283745   AL41  158.967391         -0.112497   \n",
       "5  2021-07-18 02:10:33.025541   AO20         inf               inf   \n",
       "6  2021-07-18 02:10:34.868204   AY24  161.363636         -0.099119   \n",
       "7  2021-07-18 02:10:38.349671   CO26    0.000000         -1.000000   \n",
       "8  2021-07-18 02:10:42.650169   GD29  162.345679         -0.093637   \n",
       "9  2021-07-18 02:10:44.391893   GD30  166.152619         -0.072383   \n",
       "10 2021-07-18 02:10:46.240272   GD35  161.159420         -0.100259   \n",
       "11 2021-07-18 02:10:48.079375   GD38  162.052506         -0.095273   \n",
       "12 2021-07-18 02:10:49.879312   GD41  160.586735         -0.103457   \n",
       "13 2021-07-18 02:10:51.560288   GD46         inf               inf   \n",
       "14 2021-07-19 13:37:13.518878   AE38         NaN               NaN   \n",
       "15 2021-07-19 13:37:18.831217   AL29         NaN               NaN   \n",
       "16 2021-07-19 13:37:20.564035   AL30         NaN               NaN   \n",
       "17 2021-07-19 13:37:22.416796   AL35         NaN               NaN   \n",
       "18 2021-07-19 13:37:24.780373   AL41         NaN               NaN   \n",
       "19 2021-07-19 13:37:29.584305   AY24         NaN               NaN   \n",
       "20 2021-07-19 13:37:33.965056   CO26         NaN               NaN   \n",
       "21 2021-07-19 13:37:37.304281   GD29         NaN               NaN   \n",
       "22 2021-07-19 13:37:39.006878   GD30         NaN               NaN   \n",
       "23 2021-07-19 13:37:41.875195   GD35         NaN               NaN   \n",
       "24 2021-07-19 13:37:43.587668   GD38         NaN               NaN   \n",
       "25 2021-07-19 13:37:45.258898   GD41         NaN               NaN   \n",
       "26 2021-07-19 13:37:46.970268   GD46         NaN               NaN   \n",
       "\n",
       "    Sell_spread_gd30   Buy_price  \n",
       "0          -0.179225         NaN  \n",
       "1          -0.101978         NaN  \n",
       "2          -0.107418         NaN  \n",
       "3          -0.193563         NaN  \n",
       "4          -0.137475         NaN  \n",
       "5                inf         NaN  \n",
       "6          -0.124474         NaN  \n",
       "7          -1.000000         NaN  \n",
       "8          -0.119145         NaN  \n",
       "9          -0.098489         NaN  \n",
       "10         -0.125582         NaN  \n",
       "11         -0.120736         NaN  \n",
       "12         -0.128689         NaN  \n",
       "13               inf         NaN  \n",
       "14               NaN  169.261745  \n",
       "15               NaN  168.109151  \n",
       "16               NaN  168.422535  \n",
       "17               NaN  170.273207  \n",
       "18               NaN  170.435742  \n",
       "19               NaN  169.667431  \n",
       "20               NaN    0.000000  \n",
       "21               NaN  170.644997  \n",
       "22               NaN  168.751664  \n",
       "23               NaN  168.850506  \n",
       "24               NaN  175.692308  \n",
       "25               NaN    0.000000  \n",
       "26               NaN  180.625000  "
      ],
      "text/html": "<div>\n<style scoped>\n    .dataframe tbody tr th:only-of-type {\n        vertical-align: middle;\n    }\n\n    .dataframe tbody tr th {\n        vertical-align: top;\n    }\n\n    .dataframe thead th {\n        text-align: right;\n    }\n</style>\n<table border=\"1\" class=\"dataframe\">\n  <thead>\n    <tr style=\"text-align: right;\">\n      <th></th>\n      <th>Date</th>\n      <th>Symbol</th>\n      <th>Sell_price</th>\n      <th>Sell_spread_al30</th>\n      <th>Sell_spread_gd30</th>\n      <th>Buy_price</th>\n    </tr>\n  </thead>\n  <tbody>\n    <tr>\n      <th>0</th>\n      <td>2021-07-18 02:10:22.405155</td>\n      <td>AE38</td>\n      <td>151.272638</td>\n      <td>-0.155457</td>\n      <td>-0.179225</td>\n      <td>NaN</td>\n    </tr>\n    <tr>\n      <th>1</th>\n      <td>2021-07-18 02:10:25.960352</td>\n      <td>AL29</td>\n      <td>165.509702</td>\n      <td>-0.075972</td>\n      <td>-0.101978</td>\n      <td>NaN</td>\n    </tr>\n    <tr>\n      <th>2</th>\n      <td>2021-07-18 02:10:27.701042</td>\n      <td>AL30</td>\n      <td>164.507042</td>\n      <td>-0.081570</td>\n      <td>-0.107418</td>\n      <td>NaN</td>\n    </tr>\n    <tr>\n      <th>3</th>\n      <td>2021-07-18 02:10:29.441221</td>\n      <td>AL35</td>\n      <td>148.630137</td>\n      <td>-0.170209</td>\n      <td>-0.193563</td>\n      <td>NaN</td>\n    </tr>\n    <tr>\n      <th>4</th>\n      <td>2021-07-18 02:10:31.283745</td>\n      <td>AL41</td>\n      <td>158.967391</td>\n      <td>-0.112497</td>\n      <td>-0.137475</td>\n      <td>NaN</td>\n    </tr>\n    <tr>\n      <th>5</th>\n      <td>2021-07-18 02:10:33.025541</td>\n      <td>AO20</td>\n      <td>inf</td>\n      <td>inf</td>\n      <td>inf</td>\n      <td>NaN</td>\n    </tr>\n    <tr>\n      <th>6</th>\n      <td>2021-07-18 02:10:34.868204</td>\n      <td>AY24</td>\n      <td>161.363636</td>\n      <td>-0.099119</td>\n      <td>-0.124474</td>\n      <td>NaN</td>\n    </tr>\n    <tr>\n      <th>7</th>\n      <td>2021-07-18 02:10:38.349671</td>\n      <td>CO26</td>\n      <td>0.000000</td>\n      <td>-1.000000</td>\n      <td>-1.000000</td>\n      <td>NaN</td>\n    </tr>\n    <tr>\n      <th>8</th>\n      <td>2021-07-18 02:10:42.650169</td>\n      <td>GD29</td>\n      <td>162.345679</td>\n      <td>-0.093637</td>\n      <td>-0.119145</td>\n      <td>NaN</td>\n    </tr>\n    <tr>\n      <th>9</th>\n      <td>2021-07-18 02:10:44.391893</td>\n      <td>GD30</td>\n      <td>166.152619</td>\n      <td>-0.072383</td>\n      <td>-0.098489</td>\n      <td>NaN</td>\n    </tr>\n    <tr>\n      <th>10</th>\n      <td>2021-07-18 02:10:46.240272</td>\n      <td>GD35</td>\n      <td>161.159420</td>\n      <td>-0.100259</td>\n      <td>-0.125582</td>\n      <td>NaN</td>\n    </tr>\n    <tr>\n      <th>11</th>\n      <td>2021-07-18 02:10:48.079375</td>\n      <td>GD38</td>\n      <td>162.052506</td>\n      <td>-0.095273</td>\n      <td>-0.120736</td>\n      <td>NaN</td>\n    </tr>\n    <tr>\n      <th>12</th>\n      <td>2021-07-18 02:10:49.879312</td>\n      <td>GD41</td>\n      <td>160.586735</td>\n      <td>-0.103457</td>\n      <td>-0.128689</td>\n      <td>NaN</td>\n    </tr>\n    <tr>\n      <th>13</th>\n      <td>2021-07-18 02:10:51.560288</td>\n      <td>GD46</td>\n      <td>inf</td>\n      <td>inf</td>\n      <td>inf</td>\n      <td>NaN</td>\n    </tr>\n    <tr>\n      <th>14</th>\n      <td>2021-07-19 13:37:13.518878</td>\n      <td>AE38</td>\n      <td>NaN</td>\n      <td>NaN</td>\n      <td>NaN</td>\n      <td>169.261745</td>\n    </tr>\n    <tr>\n      <th>15</th>\n      <td>2021-07-19 13:37:18.831217</td>\n      <td>AL29</td>\n      <td>NaN</td>\n      <td>NaN</td>\n      <td>NaN</td>\n      <td>168.109151</td>\n    </tr>\n    <tr>\n      <th>16</th>\n      <td>2021-07-19 13:37:20.564035</td>\n      <td>AL30</td>\n      <td>NaN</td>\n      <td>NaN</td>\n      <td>NaN</td>\n      <td>168.422535</td>\n    </tr>\n    <tr>\n      <th>17</th>\n      <td>2021-07-19 13:37:22.416796</td>\n      <td>AL35</td>\n      <td>NaN</td>\n      <td>NaN</td>\n      <td>NaN</td>\n      <td>170.273207</td>\n    </tr>\n    <tr>\n      <th>18</th>\n      <td>2021-07-19 13:37:24.780373</td>\n      <td>AL41</td>\n      <td>NaN</td>\n      <td>NaN</td>\n      <td>NaN</td>\n      <td>170.435742</td>\n    </tr>\n    <tr>\n      <th>19</th>\n      <td>2021-07-19 13:37:29.584305</td>\n      <td>AY24</td>\n      <td>NaN</td>\n      <td>NaN</td>\n      <td>NaN</td>\n      <td>169.667431</td>\n    </tr>\n    <tr>\n      <th>20</th>\n      <td>2021-07-19 13:37:33.965056</td>\n      <td>CO26</td>\n      <td>NaN</td>\n      <td>NaN</td>\n      <td>NaN</td>\n      <td>0.000000</td>\n    </tr>\n    <tr>\n      <th>21</th>\n      <td>2021-07-19 13:37:37.304281</td>\n      <td>GD29</td>\n      <td>NaN</td>\n      <td>NaN</td>\n      <td>NaN</td>\n      <td>170.644997</td>\n    </tr>\n    <tr>\n      <th>22</th>\n      <td>2021-07-19 13:37:39.006878</td>\n      <td>GD30</td>\n      <td>NaN</td>\n      <td>NaN</td>\n      <td>NaN</td>\n      <td>168.751664</td>\n    </tr>\n    <tr>\n      <th>23</th>\n      <td>2021-07-19 13:37:41.875195</td>\n      <td>GD35</td>\n      <td>NaN</td>\n      <td>NaN</td>\n      <td>NaN</td>\n      <td>168.850506</td>\n    </tr>\n    <tr>\n      <th>24</th>\n      <td>2021-07-19 13:37:43.587668</td>\n      <td>GD38</td>\n      <td>NaN</td>\n      <td>NaN</td>\n      <td>NaN</td>\n      <td>175.692308</td>\n    </tr>\n    <tr>\n      <th>25</th>\n      <td>2021-07-19 13:37:45.258898</td>\n      <td>GD41</td>\n      <td>NaN</td>\n      <td>NaN</td>\n      <td>NaN</td>\n      <td>0.000000</td>\n    </tr>\n    <tr>\n      <th>26</th>\n      <td>2021-07-19 13:37:46.970268</td>\n      <td>GD46</td>\n      <td>NaN</td>\n      <td>NaN</td>\n      <td>NaN</td>\n      <td>180.625000</td>\n    </tr>\n  </tbody>\n</table>\n</div>"
     },
     "metadata": {},
     "execution_count": 233
    }
   ],
   "source": [
    "mep_dataframe"
   ]
  },
  {
   "source": [
    "## Calculo spread contra AL30"
   ],
   "cell_type": "markdown",
   "metadata": {}
  },
  {
   "cell_type": "code",
   "execution_count": 235,
   "metadata": {},
   "outputs": [],
   "source": [
    "r = requests.post(url=URL__API_IOL__TOKEN, data=request_token_data, headers=request_token_headers)\n",
    "\n",
    "request_headers = {\n",
    "    'Authorization': 'Bearer ' + r.json()['access_token']\n",
    "}"
   ]
  },
  {
   "cell_type": "code",
   "execution_count": null,
   "metadata": {},
   "outputs": [],
   "source": []
  },
  {
   "cell_type": "code",
   "execution_count": 236,
   "metadata": {},
   "outputs": [
    {
     "output_type": "execute_result",
     "data": {
      "text/plain": [
       "'ft2kgSKLLazGhkR_SSZZ-AtOjEDjznCZjbpdtRzZi45m-M7vdfCSO8a1btAqTZijFkS6gYNlGq1Z5eus383D-9Ob9jJi0yeZBH0YuTlhSU130MhgtAaAkJFkeDbPwVOtANvc42PKfOurcvEM8q3fG6hQsZ7CgtHXPy2c1P3aaQCDur44G9ZPl1RQY3ihZkWXFTPPBCY6l1utDmdiUkb3v5YlAdhyEEQzFwaFUUd5x_r5a6ibLIETE82mk2ys-8R2qj2n6uofi1vyULHdoaoNmblju7HHtsSkWcBBfVkhCkz3kwYbIOvu1as05vXYQuDte3uMInQAbCAdJrj7-F4K3-K_H3kEe70C8D7QjlmOMzxPPWhRFJXmOe_34H9rE8fJmZ3yQFE_eV7ni3BI5YJHMA'"
      ]
     },
     "metadata": {},
     "execution_count": 236
    }
   ],
   "source": [
    "r.json()['access_token']"
   ]
  },
  {
   "cell_type": "code",
   "execution_count": 198,
   "metadata": {},
   "outputs": [
    {
     "output_type": "stream",
     "name": "stdout",
     "text": [
      "   cantidadCompra  precioCompra  precioVenta  cantidadVenta\n0           200.0        5840.0       6090.0         1000.0\n1          6897.0        5772.0       6105.0         1000.0\n2          1372.0        5764.0       6200.0         1000.0\n3           180.0        5700.0       6329.0         2875.0\n4           800.0        5610.0       5894.0         6000.0\n   cantidadCompra  precioCompra  precioVenta  cantidadVenta\n0          3144.0          34.0        35.50          650.0\n1             0.0           0.0        35.70         5631.0\n2             0.0           0.0        36.00        21145.0\n3             0.0           0.0        36.50        20760.0\n4             0.0           0.0        36.61           20.0\n"
     ]
    },
    {
     "output_type": "execute_result",
     "data": {
      "text/plain": [
       "(179.11764705882354, 164.50704225352112)"
      ]
     },
     "metadata": {},
     "execution_count": 198
    }
   ],
   "source": [
    "request_asset_data = {\n",
    "    'mercado': 'argentina',\n",
    "    'simbolo': 'AL30',\n",
    "    'model.simbolo': 'AL30',\n",
    "    'model.mercado': 'bCBA',\n",
    "    'model.plazo': 't0'\n",
    "}\n",
    "\n",
    "puntas_al30 = pd.DataFrame(\n",
    "    requests.get(\n",
    "        url=URL__API_IOL__ASSET_DATA,\n",
    "        params=request_asset_data,\n",
    "        headers=request_headers\n",
    "    ).json()['puntas']\n",
    ")\n",
    "\n",
    "request_asset_data['model.simbolo'] = 'AL30D'\n",
    "request_asset_data['simbolo'] = 'AL30D'\n",
    "\n",
    "puntas_al30D = pd.DataFrame(\n",
    "    requests.get(\n",
    "        url=URL__API_IOL__ASSET_DATA,\n",
    "        params=request_asset_data,\n",
    "        headers=request_headers\n",
    "    ).json()['puntas']\n",
    ")\n",
    "\n",
    "print(puntas_al30)\n",
    "print(puntas_al30D)\n",
    "\n",
    "compra_mep_al30 = puntas_al30.iloc[0]['precioVenta'] / puntas_al30D.iloc[0]['precioCompra']\n",
    "venta_mep_al30 = puntas_al30.iloc[0]['precioCompra'] / puntas_al30D.iloc[0]['precioVenta']\n",
    "compra_mep_al30, venta_mep_al30"
   ]
  },
  {
   "cell_type": "code",
   "execution_count": 208,
   "metadata": {},
   "outputs": [],
   "source": [
    "mep_dataframe['Sell_spread_al30'] = (mep_dataframe['Sell_price'] / compra_mep_al30) - 1"
   ]
  },
  {
   "cell_type": "code",
   "execution_count": 209,
   "metadata": {},
   "outputs": [
    {
     "output_type": "execute_result",
     "data": {
      "text/plain": [
       "                         Date Symbol  Sell_price  Sell_spread_al30\n",
       "0  2021-07-18 02:10:22.405155   AE38  151.272638         -0.155457\n",
       "1  2021-07-18 02:10:25.960352   AL29  165.509702         -0.075972\n",
       "2  2021-07-18 02:10:27.701042   AL30  164.507042         -0.081570\n",
       "3  2021-07-18 02:10:29.441221   AL35  148.630137         -0.170209\n",
       "4  2021-07-18 02:10:31.283745   AL41  158.967391         -0.112497\n",
       "5  2021-07-18 02:10:33.025541   AO20         inf               inf\n",
       "6  2021-07-18 02:10:34.868204   AY24  161.363636         -0.099119\n",
       "7  2021-07-18 02:10:38.349671   CO26    0.000000         -1.000000\n",
       "8  2021-07-18 02:10:42.650169   GD29  162.345679         -0.093637\n",
       "9  2021-07-18 02:10:44.391893   GD30  166.152619         -0.072383\n",
       "10 2021-07-18 02:10:46.240272   GD35  161.159420         -0.100259\n",
       "11 2021-07-18 02:10:48.079375   GD38  162.052506         -0.095273\n",
       "12 2021-07-18 02:10:49.879312   GD41  160.586735         -0.103457\n",
       "13 2021-07-18 02:10:51.560288   GD46         inf               inf"
      ],
      "text/html": "<div>\n<style scoped>\n    .dataframe tbody tr th:only-of-type {\n        vertical-align: middle;\n    }\n\n    .dataframe tbody tr th {\n        vertical-align: top;\n    }\n\n    .dataframe thead th {\n        text-align: right;\n    }\n</style>\n<table border=\"1\" class=\"dataframe\">\n  <thead>\n    <tr style=\"text-align: right;\">\n      <th></th>\n      <th>Date</th>\n      <th>Symbol</th>\n      <th>Sell_price</th>\n      <th>Sell_spread_al30</th>\n    </tr>\n  </thead>\n  <tbody>\n    <tr>\n      <th>0</th>\n      <td>2021-07-18 02:10:22.405155</td>\n      <td>AE38</td>\n      <td>151.272638</td>\n      <td>-0.155457</td>\n    </tr>\n    <tr>\n      <th>1</th>\n      <td>2021-07-18 02:10:25.960352</td>\n      <td>AL29</td>\n      <td>165.509702</td>\n      <td>-0.075972</td>\n    </tr>\n    <tr>\n      <th>2</th>\n      <td>2021-07-18 02:10:27.701042</td>\n      <td>AL30</td>\n      <td>164.507042</td>\n      <td>-0.081570</td>\n    </tr>\n    <tr>\n      <th>3</th>\n      <td>2021-07-18 02:10:29.441221</td>\n      <td>AL35</td>\n      <td>148.630137</td>\n      <td>-0.170209</td>\n    </tr>\n    <tr>\n      <th>4</th>\n      <td>2021-07-18 02:10:31.283745</td>\n      <td>AL41</td>\n      <td>158.967391</td>\n      <td>-0.112497</td>\n    </tr>\n    <tr>\n      <th>5</th>\n      <td>2021-07-18 02:10:33.025541</td>\n      <td>AO20</td>\n      <td>inf</td>\n      <td>inf</td>\n    </tr>\n    <tr>\n      <th>6</th>\n      <td>2021-07-18 02:10:34.868204</td>\n      <td>AY24</td>\n      <td>161.363636</td>\n      <td>-0.099119</td>\n    </tr>\n    <tr>\n      <th>7</th>\n      <td>2021-07-18 02:10:38.349671</td>\n      <td>CO26</td>\n      <td>0.000000</td>\n      <td>-1.000000</td>\n    </tr>\n    <tr>\n      <th>8</th>\n      <td>2021-07-18 02:10:42.650169</td>\n      <td>GD29</td>\n      <td>162.345679</td>\n      <td>-0.093637</td>\n    </tr>\n    <tr>\n      <th>9</th>\n      <td>2021-07-18 02:10:44.391893</td>\n      <td>GD30</td>\n      <td>166.152619</td>\n      <td>-0.072383</td>\n    </tr>\n    <tr>\n      <th>10</th>\n      <td>2021-07-18 02:10:46.240272</td>\n      <td>GD35</td>\n      <td>161.159420</td>\n      <td>-0.100259</td>\n    </tr>\n    <tr>\n      <th>11</th>\n      <td>2021-07-18 02:10:48.079375</td>\n      <td>GD38</td>\n      <td>162.052506</td>\n      <td>-0.095273</td>\n    </tr>\n    <tr>\n      <th>12</th>\n      <td>2021-07-18 02:10:49.879312</td>\n      <td>GD41</td>\n      <td>160.586735</td>\n      <td>-0.103457</td>\n    </tr>\n    <tr>\n      <th>13</th>\n      <td>2021-07-18 02:10:51.560288</td>\n      <td>GD46</td>\n      <td>inf</td>\n      <td>inf</td>\n    </tr>\n  </tbody>\n</table>\n</div>"
     },
     "metadata": {},
     "execution_count": 209
    }
   ],
   "source": [
    "mep_dataframe"
   ]
  },
  {
   "source": [
    "## Agrego GD30\n",
    "\n"
   ],
   "cell_type": "markdown",
   "metadata": {}
  },
  {
   "cell_type": "code",
   "execution_count": 210,
   "metadata": {},
   "outputs": [
    {
     "output_type": "stream",
     "name": "stdout",
     "text": [
      "   cantidadCompra  precioCompra  precioVenta  cantidadVenta\n0          2700.0        6249.0       6799.0          156.0\n1         11453.0        6251.0       6286.5        15907.0\n2         16978.0        6258.5       6287.0        15906.0\n3         15986.0        6255.5       6288.0        15903.0\n4         15988.0        6254.5       6291.5        15894.0\n   cantidadCompra  precioCompra  precioVenta  cantidadVenta\n0        108000.0         36.89        37.61        41686.0\n1         50000.0         37.21        37.62       108127.0\n2            37.0         36.90        37.65         4458.0\n3         75000.0         36.95        37.66        53371.0\n4          8000.0         36.50        37.67         3190.0\n"
     ]
    },
    {
     "output_type": "execute_result",
     "data": {
      "text/plain": [
       "(184.3046896177826, 166.15261898431268)"
      ]
     },
     "metadata": {},
     "execution_count": 210
    }
   ],
   "source": [
    "request_asset_data = {\n",
    "    'mercado': 'argentina',\n",
    "    'simbolo': 'GD30',\n",
    "    'model.simbolo': 'GD30',\n",
    "    'model.mercado': 'bCBA',\n",
    "    'model.plazo': 't0'\n",
    "}\n",
    "\n",
    "puntas_gd30 = pd.DataFrame(\n",
    "    requests.get(\n",
    "        url=URL__API_IOL__ASSET_DATA,\n",
    "        params=request_asset_data,\n",
    "        headers=request_headers\n",
    "    ).json()['puntas']\n",
    ")\n",
    "\n",
    "request_asset_data['model.simbolo'] = 'GD30D'\n",
    "request_asset_data['simbolo'] = 'GD30D'\n",
    "\n",
    "puntas_gd30D = pd.DataFrame(\n",
    "    requests.get(\n",
    "        url=URL__API_IOL__ASSET_DATA,\n",
    "        params=request_asset_data,\n",
    "        headers=request_headers\n",
    "    ).json()['puntas']\n",
    ")\n",
    "\n",
    "print(puntas_gd30)\n",
    "print(puntas_gd30D)\n",
    "\n",
    "compra_mep_gd30 = puntas_gd30.iloc[0]['precioVenta'] / puntas_gd30D.iloc[0]['precioCompra']\n",
    "venta_mep_gd30 = puntas_gd30.iloc[0]['precioCompra'] / puntas_gd30D.iloc[0]['precioVenta']\n",
    "compra_mep_gd30, venta_mep_gd30"
   ]
  },
  {
   "cell_type": "code",
   "execution_count": 211,
   "metadata": {},
   "outputs": [],
   "source": [
    "mep_dataframe['Sell_spread_gd30'] = (mep_dataframe['Sell_price'] / compra_mep_gd30) - 1"
   ]
  },
  {
   "cell_type": "code",
   "execution_count": 212,
   "metadata": {},
   "outputs": [
    {
     "output_type": "execute_result",
     "data": {
      "text/plain": [
       "                         Date Symbol  Sell_price  Sell_spread_al30  \\\n",
       "0  2021-07-18 02:10:22.405155   AE38  151.272638         -0.155457   \n",
       "1  2021-07-18 02:10:25.960352   AL29  165.509702         -0.075972   \n",
       "2  2021-07-18 02:10:27.701042   AL30  164.507042         -0.081570   \n",
       "3  2021-07-18 02:10:29.441221   AL35  148.630137         -0.170209   \n",
       "4  2021-07-18 02:10:31.283745   AL41  158.967391         -0.112497   \n",
       "5  2021-07-18 02:10:33.025541   AO20         inf               inf   \n",
       "6  2021-07-18 02:10:34.868204   AY24  161.363636         -0.099119   \n",
       "7  2021-07-18 02:10:38.349671   CO26    0.000000         -1.000000   \n",
       "8  2021-07-18 02:10:42.650169   GD29  162.345679         -0.093637   \n",
       "9  2021-07-18 02:10:44.391893   GD30  166.152619         -0.072383   \n",
       "10 2021-07-18 02:10:46.240272   GD35  161.159420         -0.100259   \n",
       "11 2021-07-18 02:10:48.079375   GD38  162.052506         -0.095273   \n",
       "12 2021-07-18 02:10:49.879312   GD41  160.586735         -0.103457   \n",
       "13 2021-07-18 02:10:51.560288   GD46         inf               inf   \n",
       "\n",
       "    Sell_spread_gd30  \n",
       "0          -0.179225  \n",
       "1          -0.101978  \n",
       "2          -0.107418  \n",
       "3          -0.193563  \n",
       "4          -0.137475  \n",
       "5                inf  \n",
       "6          -0.124474  \n",
       "7          -1.000000  \n",
       "8          -0.119145  \n",
       "9          -0.098489  \n",
       "10         -0.125582  \n",
       "11         -0.120736  \n",
       "12         -0.128689  \n",
       "13               inf  "
      ],
      "text/html": "<div>\n<style scoped>\n    .dataframe tbody tr th:only-of-type {\n        vertical-align: middle;\n    }\n\n    .dataframe tbody tr th {\n        vertical-align: top;\n    }\n\n    .dataframe thead th {\n        text-align: right;\n    }\n</style>\n<table border=\"1\" class=\"dataframe\">\n  <thead>\n    <tr style=\"text-align: right;\">\n      <th></th>\n      <th>Date</th>\n      <th>Symbol</th>\n      <th>Sell_price</th>\n      <th>Sell_spread_al30</th>\n      <th>Sell_spread_gd30</th>\n    </tr>\n  </thead>\n  <tbody>\n    <tr>\n      <th>0</th>\n      <td>2021-07-18 02:10:22.405155</td>\n      <td>AE38</td>\n      <td>151.272638</td>\n      <td>-0.155457</td>\n      <td>-0.179225</td>\n    </tr>\n    <tr>\n      <th>1</th>\n      <td>2021-07-18 02:10:25.960352</td>\n      <td>AL29</td>\n      <td>165.509702</td>\n      <td>-0.075972</td>\n      <td>-0.101978</td>\n    </tr>\n    <tr>\n      <th>2</th>\n      <td>2021-07-18 02:10:27.701042</td>\n      <td>AL30</td>\n      <td>164.507042</td>\n      <td>-0.081570</td>\n      <td>-0.107418</td>\n    </tr>\n    <tr>\n      <th>3</th>\n      <td>2021-07-18 02:10:29.441221</td>\n      <td>AL35</td>\n      <td>148.630137</td>\n      <td>-0.170209</td>\n      <td>-0.193563</td>\n    </tr>\n    <tr>\n      <th>4</th>\n      <td>2021-07-18 02:10:31.283745</td>\n      <td>AL41</td>\n      <td>158.967391</td>\n      <td>-0.112497</td>\n      <td>-0.137475</td>\n    </tr>\n    <tr>\n      <th>5</th>\n      <td>2021-07-18 02:10:33.025541</td>\n      <td>AO20</td>\n      <td>inf</td>\n      <td>inf</td>\n      <td>inf</td>\n    </tr>\n    <tr>\n      <th>6</th>\n      <td>2021-07-18 02:10:34.868204</td>\n      <td>AY24</td>\n      <td>161.363636</td>\n      <td>-0.099119</td>\n      <td>-0.124474</td>\n    </tr>\n    <tr>\n      <th>7</th>\n      <td>2021-07-18 02:10:38.349671</td>\n      <td>CO26</td>\n      <td>0.000000</td>\n      <td>-1.000000</td>\n      <td>-1.000000</td>\n    </tr>\n    <tr>\n      <th>8</th>\n      <td>2021-07-18 02:10:42.650169</td>\n      <td>GD29</td>\n      <td>162.345679</td>\n      <td>-0.093637</td>\n      <td>-0.119145</td>\n    </tr>\n    <tr>\n      <th>9</th>\n      <td>2021-07-18 02:10:44.391893</td>\n      <td>GD30</td>\n      <td>166.152619</td>\n      <td>-0.072383</td>\n      <td>-0.098489</td>\n    </tr>\n    <tr>\n      <th>10</th>\n      <td>2021-07-18 02:10:46.240272</td>\n      <td>GD35</td>\n      <td>161.159420</td>\n      <td>-0.100259</td>\n      <td>-0.125582</td>\n    </tr>\n    <tr>\n      <th>11</th>\n      <td>2021-07-18 02:10:48.079375</td>\n      <td>GD38</td>\n      <td>162.052506</td>\n      <td>-0.095273</td>\n      <td>-0.120736</td>\n    </tr>\n    <tr>\n      <th>12</th>\n      <td>2021-07-18 02:10:49.879312</td>\n      <td>GD41</td>\n      <td>160.586735</td>\n      <td>-0.103457</td>\n      <td>-0.128689</td>\n    </tr>\n    <tr>\n      <th>13</th>\n      <td>2021-07-18 02:10:51.560288</td>\n      <td>GD46</td>\n      <td>inf</td>\n      <td>inf</td>\n      <td>inf</td>\n    </tr>\n  </tbody>\n</table>\n</div>"
     },
     "metadata": {},
     "execution_count": 212
    }
   ],
   "source": [
    "mep_dataframe"
   ]
  },
  {
   "cell_type": "code",
   "execution_count": 219,
   "metadata": {},
   "outputs": [],
   "source": [
    "mep_dataframe.reset_index(drop=True, inplace=True)"
   ]
  },
  {
   "cell_type": "code",
   "execution_count": 226,
   "metadata": {},
   "outputs": [
    {
     "output_type": "execute_result",
     "data": {
      "text/plain": [
       "'2021-07-19'"
      ]
     },
     "metadata": {},
     "execution_count": 226
    }
   ],
   "source": [
    "datetime.today().strftime('%Y-%m-%d')"
   ]
  },
  {
   "cell_type": "code",
   "execution_count": 225,
   "metadata": {},
   "outputs": [
    {
     "output_type": "execute_result",
     "data": {
      "text/plain": [
       "1626665470.451236"
      ]
     },
     "metadata": {},
     "execution_count": 225
    }
   ],
   "source": []
  },
  {
   "cell_type": "code",
   "execution_count": 220,
   "metadata": {},
   "outputs": [
    {
     "output_type": "execute_result",
     "data": {
      "text/plain": [
       "                         Date Symbol  Sell_price  Sell_spread_al30  \\\n",
       "0  2021-07-18 02:10:22.405155   AE38  151.272638         -0.155457   \n",
       "1  2021-07-18 02:10:25.960352   AL29  165.509702         -0.075972   \n",
       "2  2021-07-18 02:10:27.701042   AL30  164.507042         -0.081570   \n",
       "3  2021-07-18 02:10:29.441221   AL35  148.630137         -0.170209   \n",
       "4  2021-07-18 02:10:31.283745   AL41  158.967391         -0.112497   \n",
       "5  2021-07-18 02:10:33.025541   AO20         inf               inf   \n",
       "6  2021-07-18 02:10:34.868204   AY24  161.363636         -0.099119   \n",
       "7  2021-07-18 02:10:38.349671   CO26    0.000000         -1.000000   \n",
       "8  2021-07-18 02:10:42.650169   GD29  162.345679         -0.093637   \n",
       "9  2021-07-18 02:10:44.391893   GD30  166.152619         -0.072383   \n",
       "10 2021-07-18 02:10:46.240272   GD35  161.159420         -0.100259   \n",
       "11 2021-07-18 02:10:48.079375   GD38  162.052506         -0.095273   \n",
       "12 2021-07-18 02:10:49.879312   GD41  160.586735         -0.103457   \n",
       "13 2021-07-18 02:10:51.560288   GD46         inf               inf   \n",
       "\n",
       "    Sell_spread_gd30  \n",
       "0          -0.179225  \n",
       "1          -0.101978  \n",
       "2          -0.107418  \n",
       "3          -0.193563  \n",
       "4          -0.137475  \n",
       "5                inf  \n",
       "6          -0.124474  \n",
       "7          -1.000000  \n",
       "8          -0.119145  \n",
       "9          -0.098489  \n",
       "10         -0.125582  \n",
       "11         -0.120736  \n",
       "12         -0.128689  \n",
       "13               inf  "
      ],
      "text/html": "<div>\n<style scoped>\n    .dataframe tbody tr th:only-of-type {\n        vertical-align: middle;\n    }\n\n    .dataframe tbody tr th {\n        vertical-align: top;\n    }\n\n    .dataframe thead th {\n        text-align: right;\n    }\n</style>\n<table border=\"1\" class=\"dataframe\">\n  <thead>\n    <tr style=\"text-align: right;\">\n      <th></th>\n      <th>Date</th>\n      <th>Symbol</th>\n      <th>Sell_price</th>\n      <th>Sell_spread_al30</th>\n      <th>Sell_spread_gd30</th>\n    </tr>\n  </thead>\n  <tbody>\n    <tr>\n      <th>0</th>\n      <td>2021-07-18 02:10:22.405155</td>\n      <td>AE38</td>\n      <td>151.272638</td>\n      <td>-0.155457</td>\n      <td>-0.179225</td>\n    </tr>\n    <tr>\n      <th>1</th>\n      <td>2021-07-18 02:10:25.960352</td>\n      <td>AL29</td>\n      <td>165.509702</td>\n      <td>-0.075972</td>\n      <td>-0.101978</td>\n    </tr>\n    <tr>\n      <th>2</th>\n      <td>2021-07-18 02:10:27.701042</td>\n      <td>AL30</td>\n      <td>164.507042</td>\n      <td>-0.081570</td>\n      <td>-0.107418</td>\n    </tr>\n    <tr>\n      <th>3</th>\n      <td>2021-07-18 02:10:29.441221</td>\n      <td>AL35</td>\n      <td>148.630137</td>\n      <td>-0.170209</td>\n      <td>-0.193563</td>\n    </tr>\n    <tr>\n      <th>4</th>\n      <td>2021-07-18 02:10:31.283745</td>\n      <td>AL41</td>\n      <td>158.967391</td>\n      <td>-0.112497</td>\n      <td>-0.137475</td>\n    </tr>\n    <tr>\n      <th>5</th>\n      <td>2021-07-18 02:10:33.025541</td>\n      <td>AO20</td>\n      <td>inf</td>\n      <td>inf</td>\n      <td>inf</td>\n    </tr>\n    <tr>\n      <th>6</th>\n      <td>2021-07-18 02:10:34.868204</td>\n      <td>AY24</td>\n      <td>161.363636</td>\n      <td>-0.099119</td>\n      <td>-0.124474</td>\n    </tr>\n    <tr>\n      <th>7</th>\n      <td>2021-07-18 02:10:38.349671</td>\n      <td>CO26</td>\n      <td>0.000000</td>\n      <td>-1.000000</td>\n      <td>-1.000000</td>\n    </tr>\n    <tr>\n      <th>8</th>\n      <td>2021-07-18 02:10:42.650169</td>\n      <td>GD29</td>\n      <td>162.345679</td>\n      <td>-0.093637</td>\n      <td>-0.119145</td>\n    </tr>\n    <tr>\n      <th>9</th>\n      <td>2021-07-18 02:10:44.391893</td>\n      <td>GD30</td>\n      <td>166.152619</td>\n      <td>-0.072383</td>\n      <td>-0.098489</td>\n    </tr>\n    <tr>\n      <th>10</th>\n      <td>2021-07-18 02:10:46.240272</td>\n      <td>GD35</td>\n      <td>161.159420</td>\n      <td>-0.100259</td>\n      <td>-0.125582</td>\n    </tr>\n    <tr>\n      <th>11</th>\n      <td>2021-07-18 02:10:48.079375</td>\n      <td>GD38</td>\n      <td>162.052506</td>\n      <td>-0.095273</td>\n      <td>-0.120736</td>\n    </tr>\n    <tr>\n      <th>12</th>\n      <td>2021-07-18 02:10:49.879312</td>\n      <td>GD41</td>\n      <td>160.586735</td>\n      <td>-0.103457</td>\n      <td>-0.128689</td>\n    </tr>\n    <tr>\n      <th>13</th>\n      <td>2021-07-18 02:10:51.560288</td>\n      <td>GD46</td>\n      <td>inf</td>\n      <td>inf</td>\n      <td>inf</td>\n    </tr>\n  </tbody>\n</table>\n</div>"
     },
     "metadata": {},
     "execution_count": 220
    }
   ],
   "source": [
    "mep_dataframe"
   ]
  },
  {
   "source": [
    "## Pruebo con CEDEARs"
   ],
   "cell_type": "markdown",
   "metadata": {}
  },
  {
   "cell_type": "code",
   "execution_count": 285,
   "metadata": {},
   "outputs": [
    {
     "output_type": "stream",
     "name": "stderr",
     "text": [
      "<ipython-input-285-a4f2dd4c3ce2>:13: UserWarning: Boolean Series key will be reindexed to match DataFrame index.\n  dollar_cedears = df[(df['moneda'] == 'US$')][df['simbolo'].str.endswith('D')]\n"
     ]
    }
   ],
   "source": [
    "## LISTADO DE CEDEARS\n",
    "request_cedears_data = {\n",
    "    'panelCotizacion': {\n",
    "        'pais': 'argentina',\n",
    "        'instrumento': 'acciones',\n",
    "        'panel': 'cedears'\n",
    "    }\n",
    "}\n",
    "\n",
    "r = requests.get(url=URL__API_IOL__CEDEARS, data=request_cedears_data, headers=request_headers)\n",
    "\n",
    "df = pd.DataFrame.from_dict(r.json()['titulos'])\n",
    "dollar_cedears = df[(df['moneda'] == 'US$')][df['simbolo'].str.endswith('D')]\n",
    "dcedears_list = dollar_cedears['simbolo'].values"
   ]
  },
  {
   "cell_type": "code",
   "execution_count": 288,
   "metadata": {},
   "outputs": [
    {
     "output_type": "execute_result",
     "data": {
      "text/plain": [
       "array(['AAPLD', 'ABBVD', 'ABTD', 'AMDD', 'AMXD', 'AMZND', 'AUYD', 'AVGOD',\n",
       "       'AXPD', 'AZND', 'BA.CD', 'BABAD', 'BAD', 'BBDD', 'BIDUD', 'BIOXD',\n",
       "       'BPD', 'BRKBD', 'C.D', 'CAHD', 'CATD', 'CSCOD', 'CVXD', 'DESPD',\n",
       "       'DISND', 'DOCUD', 'EBAYD', 'EFXD', 'ERJD', 'ETSYD', 'FBD', 'FDXD',\n",
       "       'FMXD', 'GILDD', 'GLNTD', 'GOGLD', 'GOLDD', 'GSD', 'GSKD', 'HMYD',\n",
       "       'HWMD', 'IBMD', 'INTCD', 'ITUBD', 'JNJD', 'JPMD', 'KOD', 'LMTD',\n",
       "       'MAD', 'MCDD', 'MELID', 'MMMD', 'MOD', 'MRKD', 'MSFTD', 'NEMD',\n",
       "       'NFLXD', 'NKED', 'NVDAD', 'NVSD', 'OGZDD', 'PBRD', 'PFED', 'PGD',\n",
       "       'PSXD', 'PYPLD', 'QCOMD', 'RIOD', 'SHOPD', 'SLBD', 'SNOWD',\n",
       "       'SPOTD', 'SQD', 'TD', 'TEND', 'TMD', 'TSLAD', 'TWTRD', 'TXRD',\n",
       "       'UNHD', 'UNPD', 'VALED', 'VD', 'VISTD', 'VZD', 'WFCD', 'WMTD',\n",
       "       'XD', 'XOMD', 'ZMD'], dtype=object)"
      ]
     },
     "metadata": {},
     "execution_count": 288
    }
   ],
   "source": [
    "dcedears_list"
   ]
  },
  {
   "cell_type": "code",
   "execution_count": 289,
   "metadata": {},
   "outputs": [],
   "source": [
    "r = requests.post(url=URL__API_IOL__TOKEN, data=request_token_data, headers=request_token_headers)\n",
    "\n",
    "request_headers = {\n",
    "    'Authorization': 'Bearer ' + r.json()['access_token']\n",
    "}"
   ]
  },
  {
   "cell_type": "code",
   "execution_count": 297,
   "metadata": {},
   "outputs": [
    {
     "output_type": "stream",
     "name": "stdout",
     "text": [
      "Requesting AAPL\n",
      "Requesting AAPLD\n",
      "Requesting ABBV\n",
      "Requesting ABBVD\n",
      "<timed exec>:40: RuntimeWarning: divide by zero encountered in double_scalars\n",
      "Requesting ABT\n",
      "Requesting ABTD\n",
      "sin punta dollar\n",
      "Requesting AMD\n",
      "Requesting AMDD\n",
      "Requesting AMX\n",
      "Requesting AMXD\n",
      "sin punta dollar\n",
      "Requesting AMZN\n",
      "Requesting AMZND\n",
      "Requesting AUY\n",
      "Requesting AUYD\n",
      "Requesting AVGO\n",
      "Requesting AVGOD\n",
      "sin punta dollar\n",
      "Requesting AXP\n",
      "Requesting AXPD\n",
      "Requesting AZN\n",
      "Requesting AZND\n",
      "Requesting BA.C\n",
      "Requesting BA.CD\n",
      "Requesting BABA\n",
      "Requesting BABAD\n",
      "Requesting BA\n",
      "Requesting BAD\n",
      "sin punta dollar\n",
      "Requesting BBD\n",
      "Requesting BBDD\n",
      "Requesting BIDU\n",
      "Requesting BIDUD\n",
      "sin punta dollar\n",
      "Requesting BIOX\n",
      "Requesting BIOXD\n",
      "Requesting BP\n",
      "Requesting BPD\n",
      "sin punta dollar\n",
      "Requesting BRKB\n",
      "Requesting BRKBD\n",
      "<timed exec>:40: RuntimeWarning: invalid value encountered in double_scalars\n",
      "Requesting C.\n",
      "something went wrong\n",
      "Requesting CAH\n",
      "Requesting CAHD\n",
      "sin punta dollar\n",
      "Requesting CAT\n",
      "Requesting CATD\n",
      "Requesting CSCO\n",
      "Requesting CSCOD\n",
      "Requesting CVX\n",
      "Requesting CVXD\n",
      "sin punta dollar\n",
      "Requesting DESP\n",
      "Requesting DESPD\n",
      "Requesting DISN\n",
      "Requesting DISND\n",
      "Requesting DOCU\n",
      "Requesting DOCUD\n",
      "Requesting EBAY\n",
      "Requesting EBAYD\n",
      "sin punta dollar\n",
      "Requesting EFX\n",
      "Requesting EFXD\n",
      "sin punta dollar\n",
      "Requesting ERJ\n",
      "Requesting ERJD\n",
      "sin punta dollar\n",
      "Requesting ETSY\n",
      "Requesting ETSYD\n",
      "Requesting FB\n",
      "Requesting FBD\n",
      "sin punta dollar\n",
      "Requesting FDX\n",
      "Requesting FDXD\n",
      "sin punta dollar\n",
      "Requesting FMX\n",
      "Requesting FMXD\n",
      "sin punta dollar\n",
      "Requesting GILD\n",
      "Requesting GILDD\n",
      "sin punta dollar\n",
      "Requesting GLNT\n",
      "Requesting GLNTD\n",
      "Requesting GOGL\n",
      "something went wrong\n",
      "Requesting GOLD\n",
      "Requesting GOLDD\n",
      "Requesting GS\n",
      "Requesting GSD\n",
      "sin punta dollar\n",
      "Requesting GSK\n",
      "Requesting GSKD\n",
      "sin punta dollar\n",
      "Requesting HMY\n",
      "Requesting HMYD\n",
      "Requesting HWM\n",
      "sin punta pesos\n",
      "Requesting IBM\n",
      "Requesting IBMD\n",
      "sin punta dollar\n",
      "Requesting INTC\n",
      "Requesting INTCD\n",
      "Requesting ITUB\n",
      "Requesting ITUBD\n",
      "sin punta dollar\n",
      "Requesting JNJ\n",
      "Requesting JNJD\n",
      "Requesting JPM\n",
      "Requesting JPMD\n",
      "Requesting KO\n",
      "Requesting KOD\n",
      "Requesting LMT\n",
      "Requesting LMTD\n",
      "sin punta dollar\n",
      "Requesting MA\n",
      "Requesting MAD\n",
      "sin punta dollar\n",
      "Requesting MCD\n",
      "Requesting MCDD\n",
      "Requesting MELI\n",
      "Requesting MELID\n",
      "Requesting MMM\n",
      "Requesting MMMD\n",
      "Requesting MO\n",
      "Requesting MOD\n",
      "sin punta dollar\n",
      "Requesting MRK\n",
      "Requesting MRKD\n",
      "sin punta dollar\n",
      "Requesting MSFT\n",
      "Requesting MSFTD\n",
      "Requesting NEM\n",
      "Requesting NEMD\n",
      "sin punta dollar\n",
      "Requesting NFLX\n",
      "Requesting NFLXD\n",
      "sin punta dollar\n",
      "Requesting NKE\n",
      "Requesting NKED\n",
      "sin punta dollar\n",
      "Requesting NVDA\n",
      "Requesting NVDAD\n",
      "Requesting NVS\n",
      "Requesting NVSD\n",
      "sin punta dollar\n",
      "Requesting OGZD\n",
      "Requesting OGZDD\n",
      "Requesting PBR\n",
      "Requesting PBRD\n",
      "Requesting PFE\n",
      "Requesting PFED\n",
      "Requesting PG\n",
      "Requesting PGD\n",
      "Requesting PSX\n",
      "Requesting PSXD\n",
      "sin punta dollar\n",
      "Requesting PYPL\n",
      "Requesting PYPLD\n",
      "sin punta dollar\n",
      "Requesting QCOM\n",
      "Requesting QCOMD\n",
      "Requesting RIO\n",
      "Requesting RIOD\n",
      "sin punta dollar\n",
      "Requesting SHOP\n",
      "Requesting SHOPD\n",
      "sin punta dollar\n",
      "Requesting SLB\n",
      "Requesting SLBD\n",
      "sin punta dollar\n",
      "Requesting SNOW\n",
      "Requesting SNOWD\n",
      "Requesting SPOT\n",
      "Requesting SPOTD\n",
      "Requesting SQ\n",
      "Requesting SQD\n",
      "sin punta dollar\n",
      "Requesting T\n",
      "Requesting TD\n",
      "Requesting TEN\n",
      "Requesting TEND\n",
      "Requesting TM\n",
      "Requesting TMD\n",
      "sin punta dollar\n",
      "Requesting TSLA\n",
      "Requesting TSLAD\n",
      "Requesting TWTR\n",
      "Requesting TWTRD\n",
      "Requesting TXR\n",
      "Requesting TXRD\n",
      "sin punta dollar\n",
      "Requesting UNH\n",
      "Requesting UNHD\n",
      "Requesting UNP\n",
      "Requesting UNPD\n",
      "Requesting VALE\n",
      "Requesting VALED\n",
      "Requesting V\n",
      "Requesting VD\n",
      "sin punta dollar\n",
      "Requesting VIST\n",
      "Requesting VISTD\n",
      "Requesting VZ\n",
      "Requesting VZD\n",
      "Requesting WFC\n",
      "Requesting WFCD\n",
      "Requesting WMT\n",
      "Requesting WMTD\n",
      "Requesting X\n",
      "Requesting XD\n",
      "Requesting XOM\n",
      "Requesting XOMD\n",
      "Requesting ZM\n",
      "Requesting ZMD\n",
      "sin punta dollar\n",
      "CPU times: user 5.27 s, sys: 473 ms, total: 5.74 s\n",
      "Wall time: 2min 31s\n"
     ]
    }
   ],
   "source": [
    "%%time \n",
    "df_dollar_cedears = pd.DataFrame()\n",
    "df_peso_cedears = pd.DataFrame()\n",
    "list_of_dollar_cedears = dollar_cedears['simbolo'].values\n",
    "request_asset_data = {\n",
    "    'mercado': 'argentina',\n",
    "    'model.mercado': 'bCBA',\n",
    "    'model.plazo': 't0'\n",
    "}\n",
    "mep_dataframe_cedears = pd.DataFrame()\n",
    "\n",
    "list_of_mep = []\n",
    "\n",
    "for cedear in list_of_dollar_cedears:\n",
    "    cedear_name = cedear[:-1]\n",
    "    print('Requesting', cedear_name)\n",
    "    request_asset_data['simbolo'] = cedear_name\n",
    "    request_asset_data['model.simbolo'] = cedear_name\n",
    "    peso_cedear = requests.get(\n",
    "        url=URL__API_IOL__ASSET_DATA,\n",
    "        params=request_asset_data,\n",
    "        headers=request_headers\n",
    "    )\n",
    "    if (peso_cedear.status_code == 200):\n",
    "        punta_pesos = pd.DataFrame(peso_cedear.json()['puntas'])\n",
    "        if (len(punta_pesos) != 0):\n",
    "            print('Requesting', cedear)\n",
    "            request_asset_data['simbolo'] = cedear\n",
    "            request_asset_data['model.simbolo'] = cedear\n",
    "            dollar_cedear = requests.get(\n",
    "                url=URL__API_IOL__ASSET_DATA,\n",
    "                params=request_asset_data,\n",
    "                headers=request_headers\n",
    "            )\n",
    "            if (dollar_cedear.status_code == 200):\n",
    "                punta_dollar = pd.DataFrame(dollar_cedear.json()['puntas'])\n",
    "                if (\n",
    "                    len(punta_dollar) != 0 \n",
    "                ):\n",
    "                    # compra_mep = punta_pesos.iloc[0]['precioVenta'] / punta_dollar.iloc[0]['precioCompra']\n",
    "                    venta_mep = punta_pesos.iloc[0]['precioCompra'] / punta_dollar.iloc[0]['precioVenta']\n",
    "                    mep_dataframe_cedears = mep_dataframe_cedears.append({\n",
    "                        'Date': datetime.now(),\n",
    "                        'Symbol': cedear_name,\n",
    "                        # 'Buy_price': compra_mep\n",
    "                        'Sell_price': venta_mep\n",
    "                    }, ignore_index=True)\n",
    "                else:\n",
    "                    print('sin punta dollar')\n",
    "            else:\n",
    "                print('something went wrong')\n",
    "        else:\n",
    "            print('sin punta pesos')\n",
    "    else:\n",
    "        print('something went wrong')\n",
    "\n",
    "mep_dataframe_cedears.to_excel('cedears.xlsx')"
   ]
  },
  {
   "cell_type": "code",
   "execution_count": 298,
   "metadata": {},
   "outputs": [],
   "source": [
    "mep_dataframe_cedears.to_excel('cedears.xlsx')"
   ]
  },
  {
   "cell_type": "code",
   "execution_count": 273,
   "metadata": {},
   "outputs": [
    {
     "output_type": "stream",
     "name": "stdout",
     "text": [
      "lyqXceXnurQqDoIIbjbi3cu9Otj2rW94HWJfcBU3lUi9A4Sn9pDhIC9oq-E2Q-EmVDQYpF_8J5NgT7YvmpeaUOTxpMDdy34XNWDrp2ZLZU_CrHrSc9_sH9BiOF9FbMsmo9u6faZHK1h63_c9CjqDi0-fnENVwoZlzkQ2JWHVtJPctVw01Gum5QdO-DQajyiUJheBvElqow8fZ1aJWL2Fm1UqPc_vEpqtuFxGPoenc2D-5vXQN1lu2ISmsmL_iP8s-SM9HugwMxEZB1ZaMmaHqAgcSjKcrbGFljj3S2eD3R0BRUvD8rHg6UKIFugZzC8QaIJyor7ZRbl2HpC6UiNFVV-Ejlunwp8gDpOFXqjJQ2UAHYA8jaYum7_wBEu1QuC-jspbls0jY5qwgtS8okgQ1w\n"
     ]
    }
   ],
   "source": [
    "print(r.json()['access_token'])\n"
   ]
  },
  {
   "source": [
    "## Reviso gaps entre CI y T+2"
   ],
   "cell_type": "markdown",
   "metadata": {}
  },
  {
   "cell_type": "code",
   "execution_count": 320,
   "metadata": {},
   "outputs": [
    {
     "output_type": "stream",
     "name": "stdout",
     "text": [
      "1 Gap: 0.8450704225352033 %\n",
      "2 Gap: 1.1299435028248548 %\n",
      "3 Gap: 0.8734854888700906 %\n",
      "4 Gap: 0.8734854888700906 %\n",
      "5 Gap: 0.8734854888700906 %\n",
      "6 Gap: 0.8734854888700906 %\n",
      "7 Gap: 0.8734854888700906 %\n",
      "8 Gap: 0.8734854888700906 %\n",
      "9 Gap: 0.8734854888700906 %\n",
      "10 Gap: 0.8734854888700906 %\n",
      "11 Gap: 0.8734854888700906 %\n",
      "12 Gap: 0.8734854888700906 %\n",
      "13 Gap: 0.8734854888700906 %\n",
      "14 Gap: 0.9016624401239793 %\n",
      "15 Gap: 0.9580163426317168 %\n",
      "16 Gap: 0.9580163426317168 %\n",
      "17 Gap: 0.9580163426317168 %\n",
      "18 Gap: 0.9580163426317168 %\n",
      "19 Gap: 0.6460674157303282 %\n",
      "20 Gap: 1.0434292160180412 %\n",
      "21 Gap: 1.0434292160180412 %\n",
      "22 Gap: 0.6460674157303282 %\n",
      "23 Gap: 0.6460674157303282 %\n",
      "24 Gap: 1.1283497884344105 %\n",
      "25 Gap: 0.7022471910112359 %\n"
     ]
    }
   ],
   "source": [
    "from time import sleep\n",
    "\n",
    "r = requests.post(url=URL__API_IOL__TOKEN, data=request_token_data, headers=request_token_headers)\n",
    "\n",
    "request_headers = {\n",
    "    'Authorization': 'Bearer ' + r.json()['access_token']\n",
    "}\n",
    "count = 0\n",
    "gaps2 = []\n",
    "\n",
    "while(count != 25):\n",
    "    count += 1\n",
    "    request_asset_data = {\n",
    "        'mercado': 'argentina',\n",
    "        'simbolo': 'AL30C',\n",
    "        'model.simbolo': 'AL30C',\n",
    "        'model.mercado': 'bCBA',\n",
    "        'model.plazo': 't0'\n",
    "    }\n",
    "\n",
    "    puntas_al30C_CI = pd.DataFrame(\n",
    "        requests.get(\n",
    "            url=URL__API_IOL__ASSET_DATA,\n",
    "            params=request_asset_data,\n",
    "            headers=request_headers\n",
    "        ).json()['puntas']\n",
    "    )\n",
    "\n",
    "    request_asset_data['model.plazo'] = 't2'\n",
    "\n",
    "    puntas_al30C_T2 = pd.DataFrame(\n",
    "        requests.get(\n",
    "            url=URL__API_IOL__ASSET_DATA,\n",
    "            params=request_asset_data,\n",
    "            headers=request_headers\n",
    "        ).json()['puntas']\n",
    "    )\n",
    "    gap = (puntas_al30C_T2.iloc[0]['precioCompra'] - puntas_al30C_CI.iloc[0]['precioVenta']) * 100 / puntas_al30C_CI.iloc[0]['precioVenta']\n",
    "    gaps2.append(gap)\n",
    "    print('Compra', puntas_al30C_CI.iloc[0]['precioVenta'])\n",
    "    print('Venta', puntas_al30C_T2.iloc[0]['precioCompra'])\n",
    "    print(count, 'Gap:', gap, '%')\n",
    "    sleep(30)\n",
    "\n",
    "\n"
   ]
  }
 ]
}